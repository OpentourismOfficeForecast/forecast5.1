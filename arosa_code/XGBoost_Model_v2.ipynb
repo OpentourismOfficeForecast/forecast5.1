{
 "cells": [
  {
   "cell_type": "code",
   "execution_count": 1,
   "metadata": {
    "ExecuteTime": {
     "end_time": "2019-11-30T09:21:21.184127Z",
     "start_time": "2019-11-30T09:21:20.069568Z"
    }
   },
   "outputs": [],
   "source": [
    "import os\n",
    "import sys\n",
    "from pprint import pprint\n",
    "from dotenv import load_dotenv\n",
    "import pandas as pd\n",
    "import numpy as np\n",
    "#import seaborn as sns\n",
    "#import time\n",
    "import xgboost as xgb\n",
    "from xgboost import plot_tree\n",
    "from sklearn.feature_extraction import DictVectorizer\n",
    "from sklearn.pipeline import Pipeline\n",
    "from sklearn.metrics import mean_squared_error\n",
    "from sklearn.metrics import mean_absolute_error\n",
    "from sklearn.model_selection import cross_val_score\n",
    "from sklearn.model_selection import RandomizedSearchCV\n",
    "from sklearn.model_selection import GridSearchCV\n",
    "from sklearn.model_selection import train_test_split\n",
    "from sklearn.model_selection import TimeSeriesSplit\n",
    "from sklearn.preprocessing import LabelEncoder\n",
    "import matplotlib.pyplot as plt\n",
    "import operator\n",
    "import random\n",
    "import graphviz\n",
    "from sklearn.preprocessing import LabelEncoder\n",
    "from sklearn.preprocessing import OneHotEncoder\n",
    "\n",
    "#conda install -c conda-forge bayesian-optimization\n",
    "from bayes_opt import BayesianOptimization\n",
    "import pandas_profiling\n",
    "load_dotenv('forecast_arosa.env')\n",
    "random.seed(22)"
   ]
  },
  {
   "cell_type": "markdown",
   "metadata": {},
   "source": [
    "# Open CSV\n"
   ]
  },
  {
   "cell_type": "code",
   "execution_count": 2,
   "metadata": {
    "ExecuteTime": {
     "end_time": "2019-11-30T09:21:21.862692Z",
     "start_time": "2019-11-30T09:21:21.859708Z"
    }
   },
   "outputs": [],
   "source": [
    "path_in = os.getenv('DATAIN') # this is where we downloaded the tabel"
   ]
  },
  {
   "cell_type": "code",
   "execution_count": 3,
   "metadata": {
    "ExecuteTime": {
     "end_time": "2019-11-30T09:21:22.051848Z",
     "start_time": "2019-11-30T09:21:22.049247Z"
    }
   },
   "outputs": [],
   "source": [
    "file_name = os.getenv('DATASET_FILENAME') # this is where we downloaded the tabel"
   ]
  },
  {
   "cell_type": "code",
   "execution_count": 4,
   "metadata": {
    "ExecuteTime": {
     "end_time": "2019-11-30T09:21:22.233052Z",
     "start_time": "2019-11-30T09:21:22.226752Z"
    }
   },
   "outputs": [
    {
     "data": {
      "text/plain": [
       "'../arosa_data/arosa_data_feature1.csv'"
      ]
     },
     "execution_count": 4,
     "metadata": {},
     "output_type": "execute_result"
    }
   ],
   "source": [
    "os.path.join(path_in, file_name)"
   ]
  },
  {
   "cell_type": "code",
   "execution_count": 5,
   "metadata": {
    "ExecuteTime": {
     "end_time": "2019-11-30T09:21:23.147314Z",
     "start_time": "2019-11-30T09:21:23.106427Z"
    }
   },
   "outputs": [
    {
     "data": {
      "text/html": [
       "<div>\n",
       "<style scoped>\n",
       "    .dataframe tbody tr th:only-of-type {\n",
       "        vertical-align: middle;\n",
       "    }\n",
       "\n",
       "    .dataframe tbody tr th {\n",
       "        vertical-align: top;\n",
       "    }\n",
       "\n",
       "    .dataframe thead th {\n",
       "        text-align: right;\n",
       "    }\n",
       "</style>\n",
       "<table border=\"1\" class=\"dataframe\">\n",
       "  <thead>\n",
       "    <tr style=\"text-align: right;\">\n",
       "      <th></th>\n",
       "      <th>Datum</th>\n",
       "      <th>Wochentag</th>\n",
       "      <th>TagNr</th>\n",
       "      <th>WocheNr</th>\n",
       "      <th>isFreiZH</th>\n",
       "      <th>isFreiSG</th>\n",
       "      <th>isFreiGR</th>\n",
       "      <th>isFerienZH</th>\n",
       "      <th>Ferien Desc ZH</th>\n",
       "      <th>IsFerienZH_plus3</th>\n",
       "      <th>...</th>\n",
       "      <th>precip_1h_mm_sum</th>\n",
       "      <th>fresh_snow_1h_cm_sum</th>\n",
       "      <th>wind_speed_mean_10m_1h_ms_avg</th>\n",
       "      <th>weather_symbol_1h_idx_spe</th>\n",
       "      <th>number_of_events</th>\n",
       "      <th>isHumorfestival</th>\n",
       "      <th>Schalter</th>\n",
       "      <th>Tel</th>\n",
       "      <th>Mail</th>\n",
       "      <th>Total Anfragen</th>\n",
       "    </tr>\n",
       "  </thead>\n",
       "  <tbody>\n",
       "    <tr>\n",
       "      <th>0</th>\n",
       "      <td>01.01.2016</td>\n",
       "      <td>Freitag</td>\n",
       "      <td>1</td>\n",
       "      <td>53</td>\n",
       "      <td>1</td>\n",
       "      <td>1</td>\n",
       "      <td>1</td>\n",
       "      <td>0</td>\n",
       "      <td>NaN</td>\n",
       "      <td>0</td>\n",
       "      <td>...</td>\n",
       "      <td>0.81</td>\n",
       "      <td>1.3</td>\n",
       "      <td>2.6</td>\n",
       "      <td>1.1</td>\n",
       "      <td>0</td>\n",
       "      <td>0</td>\n",
       "      <td>10</td>\n",
       "      <td>20</td>\n",
       "      <td>5</td>\n",
       "      <td>35</td>\n",
       "    </tr>\n",
       "    <tr>\n",
       "      <th>1</th>\n",
       "      <td>02.01.2016</td>\n",
       "      <td>Samstag</td>\n",
       "      <td>2</td>\n",
       "      <td>53</td>\n",
       "      <td>1</td>\n",
       "      <td>1</td>\n",
       "      <td>1</td>\n",
       "      <td>0</td>\n",
       "      <td>NaN</td>\n",
       "      <td>0</td>\n",
       "      <td>...</td>\n",
       "      <td>1.21</td>\n",
       "      <td>1.9</td>\n",
       "      <td>5.4</td>\n",
       "      <td>0.0</td>\n",
       "      <td>0</td>\n",
       "      <td>0</td>\n",
       "      <td>78</td>\n",
       "      <td>59</td>\n",
       "      <td>22</td>\n",
       "      <td>159</td>\n",
       "    </tr>\n",
       "    <tr>\n",
       "      <th>2</th>\n",
       "      <td>03.01.2016</td>\n",
       "      <td>Sonntag</td>\n",
       "      <td>3</td>\n",
       "      <td>53</td>\n",
       "      <td>1</td>\n",
       "      <td>1</td>\n",
       "      <td>1</td>\n",
       "      <td>0</td>\n",
       "      <td>NaN</td>\n",
       "      <td>0</td>\n",
       "      <td>...</td>\n",
       "      <td>0.23</td>\n",
       "      <td>0.0</td>\n",
       "      <td>5.9</td>\n",
       "      <td>0.0</td>\n",
       "      <td>0</td>\n",
       "      <td>0</td>\n",
       "      <td>0</td>\n",
       "      <td>0</td>\n",
       "      <td>0</td>\n",
       "      <td>0</td>\n",
       "    </tr>\n",
       "    <tr>\n",
       "      <th>3</th>\n",
       "      <td>04.01.2016</td>\n",
       "      <td>Montag</td>\n",
       "      <td>4</td>\n",
       "      <td>1</td>\n",
       "      <td>0</td>\n",
       "      <td>0</td>\n",
       "      <td>0</td>\n",
       "      <td>0</td>\n",
       "      <td>NaN</td>\n",
       "      <td>0</td>\n",
       "      <td>...</td>\n",
       "      <td>0.13</td>\n",
       "      <td>0.3</td>\n",
       "      <td>2.4</td>\n",
       "      <td>0.0</td>\n",
       "      <td>0</td>\n",
       "      <td>0</td>\n",
       "      <td>0</td>\n",
       "      <td>0</td>\n",
       "      <td>0</td>\n",
       "      <td>0</td>\n",
       "    </tr>\n",
       "    <tr>\n",
       "      <th>4</th>\n",
       "      <td>05.01.2016</td>\n",
       "      <td>Dienstag</td>\n",
       "      <td>5</td>\n",
       "      <td>1</td>\n",
       "      <td>0</td>\n",
       "      <td>0</td>\n",
       "      <td>0</td>\n",
       "      <td>0</td>\n",
       "      <td>NaN</td>\n",
       "      <td>0</td>\n",
       "      <td>...</td>\n",
       "      <td>0.00</td>\n",
       "      <td>0.0</td>\n",
       "      <td>3.4</td>\n",
       "      <td>1.3</td>\n",
       "      <td>0</td>\n",
       "      <td>0</td>\n",
       "      <td>0</td>\n",
       "      <td>0</td>\n",
       "      <td>0</td>\n",
       "      <td>0</td>\n",
       "    </tr>\n",
       "    <tr>\n",
       "      <th>...</th>\n",
       "      <td>...</td>\n",
       "      <td>...</td>\n",
       "      <td>...</td>\n",
       "      <td>...</td>\n",
       "      <td>...</td>\n",
       "      <td>...</td>\n",
       "      <td>...</td>\n",
       "      <td>...</td>\n",
       "      <td>...</td>\n",
       "      <td>...</td>\n",
       "      <td>...</td>\n",
       "      <td>...</td>\n",
       "      <td>...</td>\n",
       "      <td>...</td>\n",
       "      <td>...</td>\n",
       "      <td>...</td>\n",
       "      <td>...</td>\n",
       "      <td>...</td>\n",
       "      <td>...</td>\n",
       "      <td>...</td>\n",
       "      <td>...</td>\n",
       "    </tr>\n",
       "    <tr>\n",
       "      <th>1334</th>\n",
       "      <td>27.08.2019</td>\n",
       "      <td>Dienstag</td>\n",
       "      <td>1335</td>\n",
       "      <td>35</td>\n",
       "      <td>0</td>\n",
       "      <td>0</td>\n",
       "      <td>0</td>\n",
       "      <td>0</td>\n",
       "      <td>NaN</td>\n",
       "      <td>0</td>\n",
       "      <td>...</td>\n",
       "      <td>0.00</td>\n",
       "      <td>0.0</td>\n",
       "      <td>11.2</td>\n",
       "      <td>0.0</td>\n",
       "      <td>2</td>\n",
       "      <td>0</td>\n",
       "      <td>59</td>\n",
       "      <td>26</td>\n",
       "      <td>29</td>\n",
       "      <td>114</td>\n",
       "    </tr>\n",
       "    <tr>\n",
       "      <th>1335</th>\n",
       "      <td>28.08.2019</td>\n",
       "      <td>Mittwoch</td>\n",
       "      <td>1336</td>\n",
       "      <td>35</td>\n",
       "      <td>0</td>\n",
       "      <td>0</td>\n",
       "      <td>0</td>\n",
       "      <td>0</td>\n",
       "      <td>NaN</td>\n",
       "      <td>0</td>\n",
       "      <td>...</td>\n",
       "      <td>0.00</td>\n",
       "      <td>0.0</td>\n",
       "      <td>5.6</td>\n",
       "      <td>1.1</td>\n",
       "      <td>2</td>\n",
       "      <td>0</td>\n",
       "      <td>61</td>\n",
       "      <td>40</td>\n",
       "      <td>19</td>\n",
       "      <td>120</td>\n",
       "    </tr>\n",
       "    <tr>\n",
       "      <th>1336</th>\n",
       "      <td>29.08.2019</td>\n",
       "      <td>Donnerstag</td>\n",
       "      <td>1337</td>\n",
       "      <td>35</td>\n",
       "      <td>0</td>\n",
       "      <td>0</td>\n",
       "      <td>0</td>\n",
       "      <td>0</td>\n",
       "      <td>NaN</td>\n",
       "      <td>0</td>\n",
       "      <td>...</td>\n",
       "      <td>0.16</td>\n",
       "      <td>0.0</td>\n",
       "      <td>5.8</td>\n",
       "      <td>0.0</td>\n",
       "      <td>2</td>\n",
       "      <td>0</td>\n",
       "      <td>76</td>\n",
       "      <td>38</td>\n",
       "      <td>23</td>\n",
       "      <td>137</td>\n",
       "    </tr>\n",
       "    <tr>\n",
       "      <th>1337</th>\n",
       "      <td>30.08.2019</td>\n",
       "      <td>Freitag</td>\n",
       "      <td>1338</td>\n",
       "      <td>35</td>\n",
       "      <td>0</td>\n",
       "      <td>0</td>\n",
       "      <td>0</td>\n",
       "      <td>0</td>\n",
       "      <td>NaN</td>\n",
       "      <td>0</td>\n",
       "      <td>...</td>\n",
       "      <td>0.00</td>\n",
       "      <td>0.0</td>\n",
       "      <td>5.7</td>\n",
       "      <td>0.7</td>\n",
       "      <td>3</td>\n",
       "      <td>0</td>\n",
       "      <td>157</td>\n",
       "      <td>48</td>\n",
       "      <td>27</td>\n",
       "      <td>232</td>\n",
       "    </tr>\n",
       "    <tr>\n",
       "      <th>1338</th>\n",
       "      <td>31.08.2019</td>\n",
       "      <td>Samstag</td>\n",
       "      <td>1339</td>\n",
       "      <td>35</td>\n",
       "      <td>1</td>\n",
       "      <td>1</td>\n",
       "      <td>1</td>\n",
       "      <td>0</td>\n",
       "      <td>NaN</td>\n",
       "      <td>0</td>\n",
       "      <td>...</td>\n",
       "      <td>0.03</td>\n",
       "      <td>0.0</td>\n",
       "      <td>5.8</td>\n",
       "      <td>2.9</td>\n",
       "      <td>3</td>\n",
       "      <td>0</td>\n",
       "      <td>183</td>\n",
       "      <td>33</td>\n",
       "      <td>23</td>\n",
       "      <td>239</td>\n",
       "    </tr>\n",
       "  </tbody>\n",
       "</table>\n",
       "<p>1339 rows × 54 columns</p>\n",
       "</div>"
      ],
      "text/plain": [
       "           Datum   Wochentag  TagNr  WocheNr  isFreiZH  isFreiSG  isFreiGR  \\\n",
       "0     01.01.2016     Freitag      1       53         1         1         1   \n",
       "1     02.01.2016     Samstag      2       53         1         1         1   \n",
       "2     03.01.2016     Sonntag      3       53         1         1         1   \n",
       "3     04.01.2016      Montag      4        1         0         0         0   \n",
       "4     05.01.2016    Dienstag      5        1         0         0         0   \n",
       "...          ...         ...    ...      ...       ...       ...       ...   \n",
       "1334  27.08.2019    Dienstag   1335       35         0         0         0   \n",
       "1335  28.08.2019    Mittwoch   1336       35         0         0         0   \n",
       "1336  29.08.2019  Donnerstag   1337       35         0         0         0   \n",
       "1337  30.08.2019     Freitag   1338       35         0         0         0   \n",
       "1338  31.08.2019     Samstag   1339       35         1         1         1   \n",
       "\n",
       "      isFerienZH Ferien Desc ZH  IsFerienZH_plus3  ...  precip_1h_mm_sum  \\\n",
       "0              0            NaN                 0  ...              0.81   \n",
       "1              0            NaN                 0  ...              1.21   \n",
       "2              0            NaN                 0  ...              0.23   \n",
       "3              0            NaN                 0  ...              0.13   \n",
       "4              0            NaN                 0  ...              0.00   \n",
       "...          ...            ...               ...  ...               ...   \n",
       "1334           0            NaN                 0  ...              0.00   \n",
       "1335           0            NaN                 0  ...              0.00   \n",
       "1336           0            NaN                 0  ...              0.16   \n",
       "1337           0            NaN                 0  ...              0.00   \n",
       "1338           0            NaN                 0  ...              0.03   \n",
       "\n",
       "      fresh_snow_1h_cm_sum wind_speed_mean_10m_1h_ms_avg  \\\n",
       "0                      1.3                           2.6   \n",
       "1                      1.9                           5.4   \n",
       "2                      0.0                           5.9   \n",
       "3                      0.3                           2.4   \n",
       "4                      0.0                           3.4   \n",
       "...                    ...                           ...   \n",
       "1334                   0.0                          11.2   \n",
       "1335                   0.0                           5.6   \n",
       "1336                   0.0                           5.8   \n",
       "1337                   0.0                           5.7   \n",
       "1338                   0.0                           5.8   \n",
       "\n",
       "      weather_symbol_1h_idx_spe  number_of_events  isHumorfestival Schalter  \\\n",
       "0                           1.1                 0                0       10   \n",
       "1                           0.0                 0                0       78   \n",
       "2                           0.0                 0                0        0   \n",
       "3                           0.0                 0                0        0   \n",
       "4                           1.3                 0                0        0   \n",
       "...                         ...               ...              ...      ...   \n",
       "1334                        0.0                 2                0       59   \n",
       "1335                        1.1                 2                0       61   \n",
       "1336                        0.0                 2                0       76   \n",
       "1337                        0.7                 3                0      157   \n",
       "1338                        2.9                 3                0      183   \n",
       "\n",
       "      Tel  Mail Total Anfragen  \n",
       "0      20     5             35  \n",
       "1      59    22            159  \n",
       "2       0     0              0  \n",
       "3       0     0              0  \n",
       "4       0     0              0  \n",
       "...   ...   ...            ...  \n",
       "1334   26    29            114  \n",
       "1335   40    19            120  \n",
       "1336   38    23            137  \n",
       "1337   48    27            232  \n",
       "1338   33    23            239  \n",
       "\n",
       "[1339 rows x 54 columns]"
      ]
     },
     "execution_count": 5,
     "metadata": {},
     "output_type": "execute_result"
    }
   ],
   "source": [
    "df = pd.read_csv(os.path.join(path_in, file_name),delimiter=';')\n",
    "df"
   ]
  },
  {
   "cell_type": "code",
   "execution_count": 6,
   "metadata": {
    "ExecuteTime": {
     "end_time": "2019-11-30T09:21:24.050938Z",
     "start_time": "2019-11-30T09:21:24.031949Z"
    }
   },
   "outputs": [
    {
     "data": {
      "text/html": [
       "<div>\n",
       "<style scoped>\n",
       "    .dataframe tbody tr th:only-of-type {\n",
       "        vertical-align: middle;\n",
       "    }\n",
       "\n",
       "    .dataframe tbody tr th {\n",
       "        vertical-align: top;\n",
       "    }\n",
       "\n",
       "    .dataframe thead th {\n",
       "        text-align: right;\n",
       "    }\n",
       "</style>\n",
       "<table border=\"1\" class=\"dataframe\">\n",
       "  <thead>\n",
       "    <tr style=\"text-align: right;\">\n",
       "      <th></th>\n",
       "      <th>Datum</th>\n",
       "      <th>Wochentag</th>\n",
       "      <th>TagNr</th>\n",
       "      <th>WocheNr</th>\n",
       "      <th>isFreiZH</th>\n",
       "      <th>isFreiSG</th>\n",
       "      <th>isFreiGR</th>\n",
       "      <th>isFerienZH</th>\n",
       "      <th>Ferien Desc ZH</th>\n",
       "      <th>IsFerienZH_plus3</th>\n",
       "      <th>...</th>\n",
       "      <th>precip_1h_mm_sum</th>\n",
       "      <th>fresh_snow_1h_cm_sum</th>\n",
       "      <th>wind_speed_mean_10m_1h_ms_avg</th>\n",
       "      <th>weather_symbol_1h_idx_spe</th>\n",
       "      <th>number_of_events</th>\n",
       "      <th>isHumorfestival</th>\n",
       "      <th>Schalter</th>\n",
       "      <th>Tel</th>\n",
       "      <th>Mail</th>\n",
       "      <th>Total Anfragen</th>\n",
       "    </tr>\n",
       "  </thead>\n",
       "  <tbody>\n",
       "    <tr>\n",
       "      <th>1338</th>\n",
       "      <td>31.08.2019</td>\n",
       "      <td>Samstag</td>\n",
       "      <td>1339</td>\n",
       "      <td>35</td>\n",
       "      <td>1</td>\n",
       "      <td>1</td>\n",
       "      <td>1</td>\n",
       "      <td>0</td>\n",
       "      <td>NaN</td>\n",
       "      <td>0</td>\n",
       "      <td>...</td>\n",
       "      <td>0.03</td>\n",
       "      <td>0.0</td>\n",
       "      <td>5.8</td>\n",
       "      <td>2.9</td>\n",
       "      <td>3</td>\n",
       "      <td>0</td>\n",
       "      <td>183</td>\n",
       "      <td>33</td>\n",
       "      <td>23</td>\n",
       "      <td>239</td>\n",
       "    </tr>\n",
       "  </tbody>\n",
       "</table>\n",
       "<p>1 rows × 54 columns</p>\n",
       "</div>"
      ],
      "text/plain": [
       "           Datum Wochentag  TagNr  WocheNr  isFreiZH  isFreiSG  isFreiGR  \\\n",
       "1338  31.08.2019   Samstag   1339       35         1         1         1   \n",
       "\n",
       "      isFerienZH Ferien Desc ZH  IsFerienZH_plus3  ...  precip_1h_mm_sum  \\\n",
       "1338           0            NaN                 0  ...              0.03   \n",
       "\n",
       "      fresh_snow_1h_cm_sum wind_speed_mean_10m_1h_ms_avg  \\\n",
       "1338                   0.0                           5.8   \n",
       "\n",
       "      weather_symbol_1h_idx_spe  number_of_events  isHumorfestival Schalter  \\\n",
       "1338                        2.9                 3                0      183   \n",
       "\n",
       "      Tel  Mail Total Anfragen  \n",
       "1338   33    23            239  \n",
       "\n",
       "[1 rows x 54 columns]"
      ]
     },
     "execution_count": 6,
     "metadata": {},
     "output_type": "execute_result"
    }
   ],
   "source": [
    "df[df['Datum']=='31.08.2019']"
   ]
  },
  {
   "cell_type": "code",
   "execution_count": 16,
   "metadata": {
    "ExecuteTime": {
     "end_time": "2019-11-30T09:29:27.637716Z",
     "start_time": "2019-11-30T09:29:27.633412Z"
    }
   },
   "outputs": [
    {
     "data": {
      "text/plain": [
       "1339"
      ]
     },
     "execution_count": 16,
     "metadata": {},
     "output_type": "execute_result"
    }
   ],
   "source": [
    "len(df)"
   ]
  },
  {
   "cell_type": "code",
   "execution_count": 17,
   "metadata": {
    "ExecuteTime": {
     "end_time": "2019-11-30T09:29:29.288432Z",
     "start_time": "2019-11-30T09:29:29.283282Z"
    }
   },
   "outputs": [],
   "source": [
    "df= df[df.Datum != '09.03.2016']"
   ]
  },
  {
   "cell_type": "markdown",
   "metadata": {},
   "source": [
    "# Overview of Data"
   ]
  },
  {
   "cell_type": "code",
   "execution_count": 8,
   "metadata": {
    "ExecuteTime": {
     "end_time": "2019-11-30T09:21:29.051151Z",
     "start_time": "2019-11-30T09:21:29.048342Z"
    },
    "scrolled": true
   },
   "outputs": [],
   "source": [
    "#df.profile_report()"
   ]
  },
  {
   "cell_type": "markdown",
   "metadata": {},
   "source": [
    "# Preprocessing Error"
   ]
  },
  {
   "cell_type": "code",
   "execution_count": 20,
   "metadata": {
    "ExecuteTime": {
     "end_time": "2019-11-30T09:31:03.967471Z",
     "start_time": "2019-11-30T09:31:03.949389Z"
    }
   },
   "outputs": [
    {
     "ename": "KeyError",
     "evalue": "\"['season'] not in index\"",
     "output_type": "error",
     "traceback": [
      "\u001b[0;31m---------------------------------------------------------------------------\u001b[0m",
      "\u001b[0;31mKeyError\u001b[0m                                  Traceback (most recent call last)",
      "\u001b[0;32m<ipython-input-20-300e62f9e534>\u001b[0m in \u001b[0;36m<module>\u001b[0;34m\u001b[0m\n\u001b[1;32m     36\u001b[0m  \u001b[0;34m'Mail'\u001b[0m\u001b[0;34m,\u001b[0m\u001b[0;34m\u001b[0m\u001b[0m\n\u001b[1;32m     37\u001b[0m  'Total Anfragen']\n\u001b[0;32m---> 38\u001b[0;31m \u001b[0mdf\u001b[0m\u001b[0;34m[\u001b[0m\u001b[0mlist\u001b[0m\u001b[0;34m]\u001b[0m\u001b[0;34m\u001b[0m\u001b[0m\n\u001b[0m",
      "\u001b[0;32m~/2019_hack_arosa/lib/python3.7/site-packages/pandas/core/frame.py\u001b[0m in \u001b[0;36m__getitem__\u001b[0;34m(self, key)\u001b[0m\n\u001b[1;32m   2999\u001b[0m             \u001b[0;32mif\u001b[0m \u001b[0mis_iterator\u001b[0m\u001b[0;34m(\u001b[0m\u001b[0mkey\u001b[0m\u001b[0;34m)\u001b[0m\u001b[0;34m:\u001b[0m\u001b[0;34m\u001b[0m\u001b[0m\n\u001b[1;32m   3000\u001b[0m                 \u001b[0mkey\u001b[0m \u001b[0;34m=\u001b[0m \u001b[0mlist\u001b[0m\u001b[0;34m(\u001b[0m\u001b[0mkey\u001b[0m\u001b[0;34m)\u001b[0m\u001b[0;34m\u001b[0m\u001b[0m\n\u001b[0;32m-> 3001\u001b[0;31m             \u001b[0mindexer\u001b[0m \u001b[0;34m=\u001b[0m \u001b[0mself\u001b[0m\u001b[0;34m.\u001b[0m\u001b[0mloc\u001b[0m\u001b[0;34m.\u001b[0m\u001b[0m_convert_to_indexer\u001b[0m\u001b[0;34m(\u001b[0m\u001b[0mkey\u001b[0m\u001b[0;34m,\u001b[0m \u001b[0maxis\u001b[0m\u001b[0;34m=\u001b[0m\u001b[0;36m1\u001b[0m\u001b[0;34m,\u001b[0m \u001b[0mraise_missing\u001b[0m\u001b[0;34m=\u001b[0m\u001b[0;32mTrue\u001b[0m\u001b[0;34m)\u001b[0m\u001b[0;34m\u001b[0m\u001b[0m\n\u001b[0m\u001b[1;32m   3002\u001b[0m \u001b[0;34m\u001b[0m\u001b[0m\n\u001b[1;32m   3003\u001b[0m         \u001b[0;31m# take() does not accept boolean indexers\u001b[0m\u001b[0;34m\u001b[0m\u001b[0;34m\u001b[0m\u001b[0m\n",
      "\u001b[0;32m~/2019_hack_arosa/lib/python3.7/site-packages/pandas/core/indexing.py\u001b[0m in \u001b[0;36m_convert_to_indexer\u001b[0;34m(self, obj, axis, is_setter, raise_missing)\u001b[0m\n\u001b[1;32m   1283\u001b[0m                 \u001b[0;31m# When setting, missing keys are not allowed, even with .loc:\u001b[0m\u001b[0;34m\u001b[0m\u001b[0;34m\u001b[0m\u001b[0m\n\u001b[1;32m   1284\u001b[0m                 \u001b[0mkwargs\u001b[0m \u001b[0;34m=\u001b[0m \u001b[0;34m{\u001b[0m\u001b[0;34m\"raise_missing\"\u001b[0m\u001b[0;34m:\u001b[0m \u001b[0;32mTrue\u001b[0m \u001b[0;32mif\u001b[0m \u001b[0mis_setter\u001b[0m \u001b[0;32melse\u001b[0m \u001b[0mraise_missing\u001b[0m\u001b[0;34m}\u001b[0m\u001b[0;34m\u001b[0m\u001b[0m\n\u001b[0;32m-> 1285\u001b[0;31m                 \u001b[0;32mreturn\u001b[0m \u001b[0mself\u001b[0m\u001b[0;34m.\u001b[0m\u001b[0m_get_listlike_indexer\u001b[0m\u001b[0;34m(\u001b[0m\u001b[0mobj\u001b[0m\u001b[0;34m,\u001b[0m \u001b[0maxis\u001b[0m\u001b[0;34m,\u001b[0m \u001b[0;34m**\u001b[0m\u001b[0mkwargs\u001b[0m\u001b[0;34m)\u001b[0m\u001b[0;34m[\u001b[0m\u001b[0;36m1\u001b[0m\u001b[0;34m]\u001b[0m\u001b[0;34m\u001b[0m\u001b[0m\n\u001b[0m\u001b[1;32m   1286\u001b[0m         \u001b[0;32melse\u001b[0m\u001b[0;34m:\u001b[0m\u001b[0;34m\u001b[0m\u001b[0m\n\u001b[1;32m   1287\u001b[0m             \u001b[0;32mtry\u001b[0m\u001b[0;34m:\u001b[0m\u001b[0;34m\u001b[0m\u001b[0m\n",
      "\u001b[0;32m~/2019_hack_arosa/lib/python3.7/site-packages/pandas/core/indexing.py\u001b[0m in \u001b[0;36m_get_listlike_indexer\u001b[0;34m(self, key, axis, raise_missing)\u001b[0m\n\u001b[1;32m   1090\u001b[0m \u001b[0;34m\u001b[0m\u001b[0m\n\u001b[1;32m   1091\u001b[0m         self._validate_read_indexer(\n\u001b[0;32m-> 1092\u001b[0;31m             \u001b[0mkeyarr\u001b[0m\u001b[0;34m,\u001b[0m \u001b[0mindexer\u001b[0m\u001b[0;34m,\u001b[0m \u001b[0mo\u001b[0m\u001b[0;34m.\u001b[0m\u001b[0m_get_axis_number\u001b[0m\u001b[0;34m(\u001b[0m\u001b[0maxis\u001b[0m\u001b[0;34m)\u001b[0m\u001b[0;34m,\u001b[0m \u001b[0mraise_missing\u001b[0m\u001b[0;34m=\u001b[0m\u001b[0mraise_missing\u001b[0m\u001b[0;34m\u001b[0m\u001b[0m\n\u001b[0m\u001b[1;32m   1093\u001b[0m         )\n\u001b[1;32m   1094\u001b[0m         \u001b[0;32mreturn\u001b[0m \u001b[0mkeyarr\u001b[0m\u001b[0;34m,\u001b[0m \u001b[0mindexer\u001b[0m\u001b[0;34m\u001b[0m\u001b[0m\n",
      "\u001b[0;32m~/2019_hack_arosa/lib/python3.7/site-packages/pandas/core/indexing.py\u001b[0m in \u001b[0;36m_validate_read_indexer\u001b[0;34m(self, key, indexer, axis, raise_missing)\u001b[0m\n\u001b[1;32m   1183\u001b[0m             \u001b[0;32mif\u001b[0m \u001b[0;32mnot\u001b[0m \u001b[0;34m(\u001b[0m\u001b[0mself\u001b[0m\u001b[0;34m.\u001b[0m\u001b[0mname\u001b[0m \u001b[0;34m==\u001b[0m \u001b[0;34m\"loc\"\u001b[0m \u001b[0;32mand\u001b[0m \u001b[0;32mnot\u001b[0m \u001b[0mraise_missing\u001b[0m\u001b[0;34m)\u001b[0m\u001b[0;34m:\u001b[0m\u001b[0;34m\u001b[0m\u001b[0m\n\u001b[1;32m   1184\u001b[0m                 \u001b[0mnot_found\u001b[0m \u001b[0;34m=\u001b[0m \u001b[0mlist\u001b[0m\u001b[0;34m(\u001b[0m\u001b[0mset\u001b[0m\u001b[0;34m(\u001b[0m\u001b[0mkey\u001b[0m\u001b[0;34m)\u001b[0m \u001b[0;34m-\u001b[0m \u001b[0mset\u001b[0m\u001b[0;34m(\u001b[0m\u001b[0max\u001b[0m\u001b[0;34m)\u001b[0m\u001b[0;34m)\u001b[0m\u001b[0;34m\u001b[0m\u001b[0m\n\u001b[0;32m-> 1185\u001b[0;31m                 \u001b[0;32mraise\u001b[0m \u001b[0mKeyError\u001b[0m\u001b[0;34m(\u001b[0m\u001b[0;34m\"{} not in index\"\u001b[0m\u001b[0;34m.\u001b[0m\u001b[0mformat\u001b[0m\u001b[0;34m(\u001b[0m\u001b[0mnot_found\u001b[0m\u001b[0;34m)\u001b[0m\u001b[0;34m)\u001b[0m\u001b[0;34m\u001b[0m\u001b[0m\n\u001b[0m\u001b[1;32m   1186\u001b[0m \u001b[0;34m\u001b[0m\u001b[0m\n\u001b[1;32m   1187\u001b[0m             \u001b[0;31m# we skip the warning on Categorical/Interval\u001b[0m\u001b[0;34m\u001b[0m\u001b[0;34m\u001b[0m\u001b[0m\n",
      "\u001b[0;31mKeyError\u001b[0m: \"['season'] not in index\""
     ]
    }
   ],
   "source": [
    "list = ['Datum',\n",
    " 'Wochentag',\n",
    " 'season',\n",
    " 'isFerienZH',\n",
    " 'Ferien Desc ZH',\n",
    " 'isFerienSG',\n",
    " 'Ferien Desc SG',\n",
    " 'isFerienGR',\n",
    " 'Ferien Desc GR',\n",
    " 'Feiertag Desc',\n",
    " 'isFeiertag ZH',\n",
    " 'isFeiertag SG',\n",
    " 'isFeiertag GR',\n",
    " 't_2m_c_avg',\n",
    " 'snow_depth_cm_avg',\n",
    " 'visibility_m_avg',\n",
    " 'wind_speed_10m_ms_max',\n",
    " 'prob_precip_1h_p_avg',\n",
    " 'prob_tstorm_1h_p_avg',\n",
    " 'hail_idx_avg',\n",
    " 'wind_gusts_10m_ms_max',\n",
    " 'wind_speed_mean_10m_24h_ms_avg',\n",
    " 't_max_2m_24h_c_max',\n",
    " 't_min_2m_24h_c_min',\n",
    " 'precip_24h_mm_max',\n",
    " 'fresh_snow_24h_cm_max',\n",
    " 'is_sleet_1h_idx_max',\n",
    " 'is_fog_1h_idx_max',\n",
    " 'precip_1h_mm_sum',\n",
    " 'fresh_snow_1h_cm_sum',\n",
    " 'wind_speed_mean_10m_1h_ms_avg',\n",
    " 'weather_symbol_1h_idx_spe',\n",
    " 'number_of_events',\n",
    " 'Schalter',\n",
    " 'Tel',\n",
    " 'Mail',\n",
    " 'Total Anfragen']\n",
    "df\n",
    "df[list]"
   ]
  },
  {
   "cell_type": "markdown",
   "metadata": {},
   "source": [
    "## LabelEncoder "
   ]
  },
  {
   "cell_type": "code",
   "execution_count": 169,
   "metadata": {
    "ExecuteTime": {
     "end_time": "2019-11-30T08:34:59.621890Z",
     "start_time": "2019-11-30T08:34:59.615609Z"
    }
   },
   "outputs": [],
   "source": [
    "df['Ferien Desc ZH'].fillna(value=0, inplace = True)\n",
    "df['Ferien Desc GR'].fillna(value=0, inplace = True)\n",
    "df['Ferien Desc SG'].fillna(value=0, inplace = True)\n",
    "df['Feiertag Desc'].fillna(value=0, inplace = True)"
   ]
  },
  {
   "cell_type": "code",
   "execution_count": 170,
   "metadata": {
    "ExecuteTime": {
     "end_time": "2019-11-30T08:35:00.374534Z",
     "start_time": "2019-11-30T08:35:00.362073Z"
    }
   },
   "outputs": [],
   "source": [
    "df = df.astype({\"Ferien Desc ZH\": str, \"Ferien Desc GR\": str, \"Ferien Desc SG\": str, \"Feiertag Desc\": str})"
   ]
  },
  {
   "cell_type": "code",
   "execution_count": 171,
   "metadata": {
    "ExecuteTime": {
     "end_time": "2019-11-30T08:35:01.200040Z",
     "start_time": "2019-11-30T08:35:01.193357Z"
    }
   },
   "outputs": [
    {
     "data": {
      "text/plain": [
       "0                   1024\n",
       "Sommerferien         145\n",
       "Sportferien           64\n",
       "Fruehlingsferien      61\n",
       "Herbstferien          45\n",
       "Name: Ferien Desc ZH, dtype: int64"
      ]
     },
     "execution_count": 171,
     "metadata": {},
     "output_type": "execute_result"
    }
   ],
   "source": [
    "df['Ferien Desc ZH'].value_counts()"
   ]
  },
  {
   "cell_type": "code",
   "execution_count": 172,
   "metadata": {
    "ExecuteTime": {
     "end_time": "2019-11-30T08:35:03.680629Z",
     "start_time": "2019-11-30T08:35:03.650485Z"
    }
   },
   "outputs": [
    {
     "data": {
      "text/html": [
       "<div>\n",
       "<style scoped>\n",
       "    .dataframe tbody tr th:only-of-type {\n",
       "        vertical-align: middle;\n",
       "    }\n",
       "\n",
       "    .dataframe tbody tr th {\n",
       "        vertical-align: top;\n",
       "    }\n",
       "\n",
       "    .dataframe thead th {\n",
       "        text-align: right;\n",
       "    }\n",
       "</style>\n",
       "<table border=\"1\" class=\"dataframe\">\n",
       "  <thead>\n",
       "    <tr style=\"text-align: right;\">\n",
       "      <th></th>\n",
       "      <th>Wochentag</th>\n",
       "      <th>TagNr</th>\n",
       "      <th>WocheNr</th>\n",
       "      <th>isFreiZH</th>\n",
       "      <th>isFreiSG</th>\n",
       "      <th>isFreiGR</th>\n",
       "      <th>isFerienZH</th>\n",
       "      <th>Ferien Desc ZH</th>\n",
       "      <th>IsFerienZH_plus3</th>\n",
       "      <th>isFerienZH_minus3</th>\n",
       "      <th>...</th>\n",
       "      <th>precip_1h_mm_sum</th>\n",
       "      <th>fresh_snow_1h_cm_sum</th>\n",
       "      <th>wind_speed_mean_10m_1h_ms_avg</th>\n",
       "      <th>weather_symbol_1h_idx_spe</th>\n",
       "      <th>number_of_events</th>\n",
       "      <th>isHumorfestival</th>\n",
       "      <th>Schalter</th>\n",
       "      <th>Tel</th>\n",
       "      <th>Mail</th>\n",
       "      <th>Total Anfragen</th>\n",
       "    </tr>\n",
       "  </thead>\n",
       "  <tbody>\n",
       "    <tr>\n",
       "      <th>0</th>\n",
       "      <td>Freitag</td>\n",
       "      <td>1</td>\n",
       "      <td>53</td>\n",
       "      <td>1</td>\n",
       "      <td>1</td>\n",
       "      <td>1</td>\n",
       "      <td>0</td>\n",
       "      <td>0</td>\n",
       "      <td>0</td>\n",
       "      <td>0</td>\n",
       "      <td>...</td>\n",
       "      <td>0.81</td>\n",
       "      <td>1.3</td>\n",
       "      <td>2.6</td>\n",
       "      <td>1.1</td>\n",
       "      <td>0</td>\n",
       "      <td>0</td>\n",
       "      <td>10</td>\n",
       "      <td>20</td>\n",
       "      <td>5</td>\n",
       "      <td>35</td>\n",
       "    </tr>\n",
       "    <tr>\n",
       "      <th>1</th>\n",
       "      <td>Samstag</td>\n",
       "      <td>2</td>\n",
       "      <td>53</td>\n",
       "      <td>1</td>\n",
       "      <td>1</td>\n",
       "      <td>1</td>\n",
       "      <td>0</td>\n",
       "      <td>0</td>\n",
       "      <td>0</td>\n",
       "      <td>0</td>\n",
       "      <td>...</td>\n",
       "      <td>1.21</td>\n",
       "      <td>1.9</td>\n",
       "      <td>5.4</td>\n",
       "      <td>0.0</td>\n",
       "      <td>0</td>\n",
       "      <td>0</td>\n",
       "      <td>78</td>\n",
       "      <td>59</td>\n",
       "      <td>22</td>\n",
       "      <td>159</td>\n",
       "    </tr>\n",
       "    <tr>\n",
       "      <th>2</th>\n",
       "      <td>Sonntag</td>\n",
       "      <td>3</td>\n",
       "      <td>53</td>\n",
       "      <td>1</td>\n",
       "      <td>1</td>\n",
       "      <td>1</td>\n",
       "      <td>0</td>\n",
       "      <td>0</td>\n",
       "      <td>0</td>\n",
       "      <td>0</td>\n",
       "      <td>...</td>\n",
       "      <td>0.23</td>\n",
       "      <td>0.0</td>\n",
       "      <td>5.9</td>\n",
       "      <td>0.0</td>\n",
       "      <td>0</td>\n",
       "      <td>0</td>\n",
       "      <td>0</td>\n",
       "      <td>0</td>\n",
       "      <td>0</td>\n",
       "      <td>0</td>\n",
       "    </tr>\n",
       "    <tr>\n",
       "      <th>3</th>\n",
       "      <td>Montag</td>\n",
       "      <td>4</td>\n",
       "      <td>1</td>\n",
       "      <td>0</td>\n",
       "      <td>0</td>\n",
       "      <td>0</td>\n",
       "      <td>0</td>\n",
       "      <td>0</td>\n",
       "      <td>0</td>\n",
       "      <td>0</td>\n",
       "      <td>...</td>\n",
       "      <td>0.13</td>\n",
       "      <td>0.3</td>\n",
       "      <td>2.4</td>\n",
       "      <td>0.0</td>\n",
       "      <td>0</td>\n",
       "      <td>0</td>\n",
       "      <td>0</td>\n",
       "      <td>0</td>\n",
       "      <td>0</td>\n",
       "      <td>0</td>\n",
       "    </tr>\n",
       "    <tr>\n",
       "      <th>4</th>\n",
       "      <td>Dienstag</td>\n",
       "      <td>5</td>\n",
       "      <td>1</td>\n",
       "      <td>0</td>\n",
       "      <td>0</td>\n",
       "      <td>0</td>\n",
       "      <td>0</td>\n",
       "      <td>0</td>\n",
       "      <td>0</td>\n",
       "      <td>0</td>\n",
       "      <td>...</td>\n",
       "      <td>0.00</td>\n",
       "      <td>0.0</td>\n",
       "      <td>3.4</td>\n",
       "      <td>1.3</td>\n",
       "      <td>0</td>\n",
       "      <td>0</td>\n",
       "      <td>0</td>\n",
       "      <td>0</td>\n",
       "      <td>0</td>\n",
       "      <td>0</td>\n",
       "    </tr>\n",
       "    <tr>\n",
       "      <th>...</th>\n",
       "      <td>...</td>\n",
       "      <td>...</td>\n",
       "      <td>...</td>\n",
       "      <td>...</td>\n",
       "      <td>...</td>\n",
       "      <td>...</td>\n",
       "      <td>...</td>\n",
       "      <td>...</td>\n",
       "      <td>...</td>\n",
       "      <td>...</td>\n",
       "      <td>...</td>\n",
       "      <td>...</td>\n",
       "      <td>...</td>\n",
       "      <td>...</td>\n",
       "      <td>...</td>\n",
       "      <td>...</td>\n",
       "      <td>...</td>\n",
       "      <td>...</td>\n",
       "      <td>...</td>\n",
       "      <td>...</td>\n",
       "      <td>...</td>\n",
       "    </tr>\n",
       "    <tr>\n",
       "      <th>1334</th>\n",
       "      <td>Dienstag</td>\n",
       "      <td>1335</td>\n",
       "      <td>35</td>\n",
       "      <td>0</td>\n",
       "      <td>0</td>\n",
       "      <td>0</td>\n",
       "      <td>0</td>\n",
       "      <td>0</td>\n",
       "      <td>0</td>\n",
       "      <td>0</td>\n",
       "      <td>...</td>\n",
       "      <td>0.00</td>\n",
       "      <td>0.0</td>\n",
       "      <td>11.2</td>\n",
       "      <td>0.0</td>\n",
       "      <td>2</td>\n",
       "      <td>0</td>\n",
       "      <td>59</td>\n",
       "      <td>26</td>\n",
       "      <td>29</td>\n",
       "      <td>114</td>\n",
       "    </tr>\n",
       "    <tr>\n",
       "      <th>1335</th>\n",
       "      <td>Mittwoch</td>\n",
       "      <td>1336</td>\n",
       "      <td>35</td>\n",
       "      <td>0</td>\n",
       "      <td>0</td>\n",
       "      <td>0</td>\n",
       "      <td>0</td>\n",
       "      <td>0</td>\n",
       "      <td>0</td>\n",
       "      <td>0</td>\n",
       "      <td>...</td>\n",
       "      <td>0.00</td>\n",
       "      <td>0.0</td>\n",
       "      <td>5.6</td>\n",
       "      <td>1.1</td>\n",
       "      <td>2</td>\n",
       "      <td>0</td>\n",
       "      <td>61</td>\n",
       "      <td>40</td>\n",
       "      <td>19</td>\n",
       "      <td>120</td>\n",
       "    </tr>\n",
       "    <tr>\n",
       "      <th>1336</th>\n",
       "      <td>Donnerstag</td>\n",
       "      <td>1337</td>\n",
       "      <td>35</td>\n",
       "      <td>0</td>\n",
       "      <td>0</td>\n",
       "      <td>0</td>\n",
       "      <td>0</td>\n",
       "      <td>0</td>\n",
       "      <td>0</td>\n",
       "      <td>0</td>\n",
       "      <td>...</td>\n",
       "      <td>0.16</td>\n",
       "      <td>0.0</td>\n",
       "      <td>5.8</td>\n",
       "      <td>0.0</td>\n",
       "      <td>2</td>\n",
       "      <td>0</td>\n",
       "      <td>76</td>\n",
       "      <td>38</td>\n",
       "      <td>23</td>\n",
       "      <td>137</td>\n",
       "    </tr>\n",
       "    <tr>\n",
       "      <th>1337</th>\n",
       "      <td>Freitag</td>\n",
       "      <td>1338</td>\n",
       "      <td>35</td>\n",
       "      <td>0</td>\n",
       "      <td>0</td>\n",
       "      <td>0</td>\n",
       "      <td>0</td>\n",
       "      <td>0</td>\n",
       "      <td>0</td>\n",
       "      <td>0</td>\n",
       "      <td>...</td>\n",
       "      <td>0.00</td>\n",
       "      <td>0.0</td>\n",
       "      <td>5.7</td>\n",
       "      <td>0.7</td>\n",
       "      <td>3</td>\n",
       "      <td>0</td>\n",
       "      <td>157</td>\n",
       "      <td>48</td>\n",
       "      <td>27</td>\n",
       "      <td>232</td>\n",
       "    </tr>\n",
       "    <tr>\n",
       "      <th>1338</th>\n",
       "      <td>Samstag</td>\n",
       "      <td>1339</td>\n",
       "      <td>35</td>\n",
       "      <td>1</td>\n",
       "      <td>1</td>\n",
       "      <td>1</td>\n",
       "      <td>0</td>\n",
       "      <td>0</td>\n",
       "      <td>0</td>\n",
       "      <td>0</td>\n",
       "      <td>...</td>\n",
       "      <td>0.03</td>\n",
       "      <td>0.0</td>\n",
       "      <td>5.8</td>\n",
       "      <td>2.9</td>\n",
       "      <td>3</td>\n",
       "      <td>0</td>\n",
       "      <td>183</td>\n",
       "      <td>33</td>\n",
       "      <td>23</td>\n",
       "      <td>239</td>\n",
       "    </tr>\n",
       "  </tbody>\n",
       "</table>\n",
       "<p>1339 rows × 53 columns</p>\n",
       "</div>"
      ],
      "text/plain": [
       "       Wochentag  TagNr  WocheNr  isFreiZH  isFreiSG  isFreiGR  isFerienZH  \\\n",
       "0        Freitag      1       53         1         1         1           0   \n",
       "1        Samstag      2       53         1         1         1           0   \n",
       "2        Sonntag      3       53         1         1         1           0   \n",
       "3         Montag      4        1         0         0         0           0   \n",
       "4       Dienstag      5        1         0         0         0           0   \n",
       "...          ...    ...      ...       ...       ...       ...         ...   \n",
       "1334    Dienstag   1335       35         0         0         0           0   \n",
       "1335    Mittwoch   1336       35         0         0         0           0   \n",
       "1336  Donnerstag   1337       35         0         0         0           0   \n",
       "1337     Freitag   1338       35         0         0         0           0   \n",
       "1338     Samstag   1339       35         1         1         1           0   \n",
       "\n",
       "     Ferien Desc ZH  IsFerienZH_plus3  isFerienZH_minus3  ...  \\\n",
       "0                 0                 0                  0  ...   \n",
       "1                 0                 0                  0  ...   \n",
       "2                 0                 0                  0  ...   \n",
       "3                 0                 0                  0  ...   \n",
       "4                 0                 0                  0  ...   \n",
       "...             ...               ...                ...  ...   \n",
       "1334              0                 0                  0  ...   \n",
       "1335              0                 0                  0  ...   \n",
       "1336              0                 0                  0  ...   \n",
       "1337              0                 0                  0  ...   \n",
       "1338              0                 0                  0  ...   \n",
       "\n",
       "      precip_1h_mm_sum fresh_snow_1h_cm_sum  wind_speed_mean_10m_1h_ms_avg  \\\n",
       "0                 0.81                  1.3                            2.6   \n",
       "1                 1.21                  1.9                            5.4   \n",
       "2                 0.23                  0.0                            5.9   \n",
       "3                 0.13                  0.3                            2.4   \n",
       "4                 0.00                  0.0                            3.4   \n",
       "...                ...                  ...                            ...   \n",
       "1334              0.00                  0.0                           11.2   \n",
       "1335              0.00                  0.0                            5.6   \n",
       "1336              0.16                  0.0                            5.8   \n",
       "1337              0.00                  0.0                            5.7   \n",
       "1338              0.03                  0.0                            5.8   \n",
       "\n",
       "      weather_symbol_1h_idx_spe  number_of_events isHumorfestival  Schalter  \\\n",
       "0                           1.1                 0               0        10   \n",
       "1                           0.0                 0               0        78   \n",
       "2                           0.0                 0               0         0   \n",
       "3                           0.0                 0               0         0   \n",
       "4                           1.3                 0               0         0   \n",
       "...                         ...               ...             ...       ...   \n",
       "1334                        0.0                 2               0        59   \n",
       "1335                        1.1                 2               0        61   \n",
       "1336                        0.0                 2               0        76   \n",
       "1337                        0.7                 3               0       157   \n",
       "1338                        2.9                 3               0       183   \n",
       "\n",
       "      Tel Mail  Total Anfragen  \n",
       "0      20    5              35  \n",
       "1      59   22             159  \n",
       "2       0    0               0  \n",
       "3       0    0               0  \n",
       "4       0    0               0  \n",
       "...   ...  ...             ...  \n",
       "1334   26   29             114  \n",
       "1335   40   19             120  \n",
       "1336   38   23             137  \n",
       "1337   48   27             232  \n",
       "1338   33   23             239  \n",
       "\n",
       "[1339 rows x 53 columns]"
      ]
     },
     "execution_count": 172,
     "metadata": {},
     "output_type": "execute_result"
    }
   ],
   "source": [
    "df=df.drop(['Datum'],axis=1)\n",
    "df"
   ]
  },
  {
   "cell_type": "code",
   "execution_count": 173,
   "metadata": {
    "ExecuteTime": {
     "end_time": "2019-11-30T08:35:05.695466Z",
     "start_time": "2019-11-30T08:35:05.679863Z"
    }
   },
   "outputs": [
    {
     "name": "stdout",
     "output_type": "stream",
     "text": [
      "  Wochentag Ferien Desc ZH Ferien Desc SG Ferien Desc GR  Feiertag Desc\n",
      "0   Freitag              0              0              0        Neujahr\n",
      "1   Samstag              0              0              0  Berchtoldstag\n",
      "2   Sonntag              0              0              0              0\n",
      "3    Montag              0              0              0              0\n",
      "4  Dienstag              0              0              0              0\n"
     ]
    }
   ],
   "source": [
    "# Create a boolean mask for categorical columns \n",
    "categorical_mask = (df.dtypes == object)  # true → is categorical\n",
    "# Get list of categorical column names\n",
    "categorical_columns = df.columns[categorical_mask].tolist()\n",
    "# Print the head of the categorical columns \n",
    "print(df[categorical_columns].head())\n",
    "# Create LabelEncoder object: le \n",
    "le = LabelEncoder()\n",
    "# Apply LabelEncoder to categorical columns\n",
    "df[categorical_columns] = df[categorical_columns].apply(lambda x: le.fit_transform(x))\n",
    "# Print the head of the LabelEncoded categorical columns print(df[categorical_columns].head())"
   ]
  },
  {
   "cell_type": "markdown",
   "metadata": {},
   "source": [
    "## One Hot Encoding"
   ]
  },
  {
   "cell_type": "code",
   "execution_count": 179,
   "metadata": {
    "ExecuteTime": {
     "end_time": "2019-11-30T08:35:46.198450Z",
     "start_time": "2019-11-30T08:35:46.186165Z"
    }
   },
   "outputs": [
    {
     "name": "stdout",
     "output_type": "stream",
     "text": [
      "(1339, 53)\n",
      "(1339, 111)\n",
      "<class 'numpy.ndarray'>\n"
     ]
    },
    {
     "data": {
      "text/plain": [
       "array([[  0.,   0.,   1., ...,  20.,   5.,  35.],\n",
       "       [  0.,   0.,   0., ...,  59.,  22., 159.],\n",
       "       [  0.,   0.,   0., ...,   0.,   0.,   0.],\n",
       "       ...,\n",
       "       [  0.,   1.,   0., ...,  38.,  23., 137.],\n",
       "       [  0.,   0.,   1., ...,  48.,  27., 232.],\n",
       "       [  0.,   0.,   0., ...,  33.,  23., 239.]])"
      ]
     },
     "execution_count": 179,
     "metadata": {},
     "output_type": "execute_result"
    }
   ],
   "source": [
    "# Create OneHotEncoder: ohe\n",
    "ohe = OneHotEncoder(categorical_features=categorical_mask, sparse=False)\n",
    "# Apply OneHotEncoder to categorical columns - output is no longer a dataframe: df_encoded df_encoded = ohe.fit_transform(df)\n",
    "# Print first 5 rows of the resulting dataset - again, this will no longer be a pandas dataframe print(df_encoded[:5, :])\n",
    "# Print the shape of the original DataFrame \n",
    "d_encoded = ohe.fit_transform(df)\n",
    "print(df.shape)\n",
    "# Print the shape of the transformed array \n",
    "print(d_encoded.shape)\n",
    "print(type(d_encoded))\n",
    "d_encoded"
   ]
  },
  {
   "cell_type": "code",
   "execution_count": null,
   "metadata": {},
   "outputs": [],
   "source": []
  },
  {
   "cell_type": "markdown",
   "metadata": {},
   "source": [
    "## Modelling"
   ]
  },
  {
   "cell_type": "code",
   "execution_count": 180,
   "metadata": {
    "ExecuteTime": {
     "end_time": "2019-11-30T08:37:34.802530Z",
     "start_time": "2019-11-30T08:37:34.795587Z"
    }
   },
   "outputs": [
    {
     "name": "stdout",
     "output_type": "stream",
     "text": [
      "49\n",
      "(1339, 107)\n"
     ]
    }
   ],
   "source": [
    "target_variable = 'Schalter'\n",
    "col_names= list(df)\n",
    "col_names.remove(target_variable)\n",
    "col_names.remove('Tel')\n",
    "col_names.remove('Mail')\n",
    "col_names.remove('Total Anfragen')\n",
    "#col_names.remove('Datum')\n",
    "print(len(col_names))\n",
    "\n",
    "print(d_encoded[:,:-4].shape)"
   ]
  },
  {
   "cell_type": "code",
   "execution_count": 184,
   "metadata": {
    "ExecuteTime": {
     "end_time": "2019-11-30T08:45:01.975499Z",
     "start_time": "2019-11-30T08:45:01.968766Z"
    }
   },
   "outputs": [
    {
     "name": "stdout",
     "output_type": "stream",
     "text": [
      "(1339, 107)\n"
     ]
    }
   ],
   "source": [
    "X, y = d_encoded[:,:-4],d_encoded[:,-4]\n",
    "print(X.shape)\n",
    "X_train, X_test, y_train, y_test= train_test_split(X, y, test_size=0.2, \n",
    "                                                        random_state=122, shuffle=False)\n",
    "DM_train = xgb.DMatrix(data=X_train,label=y_train)\n",
    "DM_test =  xgb.DMatrix(data=X_test,label=y_test)"
   ]
  },
  {
   "cell_type": "code",
   "execution_count": 185,
   "metadata": {
    "ExecuteTime": {
     "end_time": "2019-11-30T08:45:03.515158Z",
     "start_time": "2019-11-30T08:45:03.484075Z"
    }
   },
   "outputs": [
    {
     "name": "stdout",
     "output_type": "stream",
     "text": [
      "[09:45:03] WARNING: src/objective/regression_obj.cu:152: reg:linear is now deprecated in favor of reg:squarederror.\n",
      "RMSE: 41.525184\n"
     ]
    }
   ],
   "source": [
    "params = {\"booster\":\"gblinear\",\"objective\":\"reg:linear\"}\n",
    "xg_reg = xgb.train(params = params, dtrain=DM_train, num_boost_round=10)\n",
    "\n",
    "preds = xg_reg.predict(DM_test)\n",
    "\n",
    "rmse = np.sqrt(mean_squared_error(y_test,preds))\n",
    "\n",
    "print(\"RMSE: %f\" % (rmse))"
   ]
  },
  {
   "cell_type": "code",
   "execution_count": 182,
   "metadata": {
    "ExecuteTime": {
     "end_time": "2019-11-30T08:37:36.448319Z",
     "start_time": "2019-11-30T08:37:36.441947Z"
    }
   },
   "outputs": [],
   "source": [
    "def train_model(max_depth, \n",
    "                n_estimators,\n",
    "                learning_rate):\n",
    "    params = {\n",
    "        'n_estimators': int(n_estimators),\n",
    "        'max_depth': int(max_depth),\n",
    "        'learning_rate':learning_rate,\n",
    "        'n_jobs': 8, #number of CPU threads\n",
    "        \"booster\":\"gblinear\",\n",
    "        \"objective\":\"reg:squarederror\"\n",
    "    }\n",
    "\n",
    "#     pipeline = Pipeline([\n",
    "#                      (\"vectorizer\", DictVectorizer(sort=False)),\n",
    "#                      (\"clf\", xgb.XGBRegressor(objective = 'reg:squarederror',**params)),\n",
    "\n",
    "#                         ])\n",
    "    \n",
    "#     xgb_fit = pipeline.fit(DM_train)\n",
    "#     preds = xgb_fit.predict(DM_test)\n",
    "#     mse = mean_absolute_error(preds, y_test)\n",
    "\n",
    "    xg_reg = xgb.train(params = params, dtrain=DM_train, num_boost_round=10)\n",
    "    preds = xg_reg.predict(DM_test)\n",
    "    mse = mean_absolute_error(preds, y_test)\n",
    "    return -mse\n",
    "\n",
    "bounds = {\n",
    "    'max_depth':(5,100),\n",
    "    'n_estimators': (100,10000),\n",
    "    'learning_rate': (.001, 0.1),\n",
    "}"
   ]
  },
  {
   "cell_type": "code",
   "execution_count": 183,
   "metadata": {
    "ExecuteTime": {
     "end_time": "2019-11-30T08:37:45.710287Z",
     "start_time": "2019-11-30T08:37:37.129317Z"
    }
   },
   "outputs": [
    {
     "name": "stdout",
     "output_type": "stream",
     "text": [
      "|   iter    |  target   | learni... | max_depth | n_esti... |\n",
      "-------------------------------------------------------------\n",
      "[09:37:37] WARNING: src/objective/regression_obj.cu:152: reg:linear is now deprecated in favor of reg:squarederror.\n",
      "| \u001b[0m 1       \u001b[0m | \u001b[0m-23.82   \u001b[0m | \u001b[0m 0.04229 \u001b[0m | \u001b[0m 73.43   \u001b[0m | \u001b[0m 101.1   \u001b[0m |\n",
      "[09:37:37] WARNING: src/objective/regression_obj.cu:152: reg:linear is now deprecated in favor of reg:squarederror.\n",
      "| \u001b[0m 2       \u001b[0m | \u001b[0m-24.39   \u001b[0m | \u001b[0m 0.03093 \u001b[0m | \u001b[0m 18.94   \u001b[0m | \u001b[0m 1.014e+0\u001b[0m |\n",
      "[09:37:37] WARNING: src/objective/regression_obj.cu:152: reg:linear is now deprecated in favor of reg:squarederror.\n",
      "| \u001b[0m 3       \u001b[0m | \u001b[0m-25.51   \u001b[0m | \u001b[0m 0.01944 \u001b[0m | \u001b[0m 37.83   \u001b[0m | \u001b[0m 4.028e+0\u001b[0m |\n",
      "[09:37:37] WARNING: src/objective/regression_obj.cu:152: reg:linear is now deprecated in favor of reg:squarederror.\n",
      "| \u001b[95m 4       \u001b[0m | \u001b[95m-23.55   \u001b[0m | \u001b[95m 0.05434 \u001b[0m | \u001b[95m 44.82   \u001b[0m | \u001b[95m 6.884e+0\u001b[0m |\n",
      "[09:37:37] WARNING: src/objective/regression_obj.cu:152: reg:linear is now deprecated in favor of reg:squarederror.\n",
      "| \u001b[0m 5       \u001b[0m | \u001b[0m-25.27   \u001b[0m | \u001b[0m 0.02124 \u001b[0m | \u001b[0m 88.42   \u001b[0m | \u001b[0m 371.1   \u001b[0m |\n",
      "[09:37:37] WARNING: src/objective/regression_obj.cu:152: reg:linear is now deprecated in favor of reg:squarederror.\n",
      "| \u001b[95m 6       \u001b[0m | \u001b[95m-23.48   \u001b[0m | \u001b[95m 0.06738 \u001b[0m | \u001b[95m 44.64   \u001b[0m | \u001b[95m 5.631e+0\u001b[0m |\n",
      "[09:37:37] WARNING: src/objective/regression_obj.cu:152: reg:linear is now deprecated in favor of reg:squarederror.\n",
      "| \u001b[0m 7       \u001b[0m | \u001b[0m-26.33   \u001b[0m | \u001b[0m 0.0149  \u001b[0m | \u001b[0m 23.82   \u001b[0m | \u001b[0m 8.027e+0\u001b[0m |\n",
      "[09:37:37] WARNING: src/objective/regression_obj.cu:152: reg:linear is now deprecated in favor of reg:squarederror.\n",
      "| \u001b[0m 8       \u001b[0m | \u001b[0m-23.81   \u001b[0m | \u001b[0m 0.09686 \u001b[0m | \u001b[0m 34.78   \u001b[0m | \u001b[0m 6.954e+0\u001b[0m |\n",
      "[09:37:37] WARNING: src/objective/regression_obj.cu:152: reg:linear is now deprecated in favor of reg:squarederror.\n",
      "| \u001b[0m 9       \u001b[0m | \u001b[0m-23.65   \u001b[0m | \u001b[0m 0.08776 \u001b[0m | \u001b[0m 89.99   \u001b[0m | \u001b[0m 941.9   \u001b[0m |\n",
      "[09:37:37] WARNING: src/objective/regression_obj.cu:152: reg:linear is now deprecated in favor of reg:squarederror.\n",
      "| \u001b[0m 10      \u001b[0m | \u001b[0m-32.42   \u001b[0m | \u001b[0m 0.004866\u001b[0m | \u001b[0m 21.13   \u001b[0m | \u001b[0m 8.794e+0\u001b[0m |\n",
      "[09:37:38] WARNING: src/objective/regression_obj.cu:152: reg:linear is now deprecated in favor of reg:squarederror.\n",
      "| \u001b[0m 11      \u001b[0m | \u001b[0m-23.5    \u001b[0m | \u001b[0m 0.07359 \u001b[0m | \u001b[0m 43.02   \u001b[0m | \u001b[0m 5.818e+0\u001b[0m |\n",
      "[09:37:40] WARNING: src/objective/regression_obj.cu:152: reg:linear is now deprecated in favor of reg:squarederror.\n",
      "| \u001b[0m 12      \u001b[0m | \u001b[0m-23.87   \u001b[0m | \u001b[0m 0.1     \u001b[0m | \u001b[0m 5.0     \u001b[0m | \u001b[0m 6.598e+0\u001b[0m |\n",
      "[09:37:41] WARNING: src/objective/regression_obj.cu:152: reg:linear is now deprecated in favor of reg:squarederror.\n",
      "| \u001b[0m 13      \u001b[0m | \u001b[0m-43.8    \u001b[0m | \u001b[0m 0.001   \u001b[0m | \u001b[0m 100.0   \u001b[0m | \u001b[0m 6.167e+0\u001b[0m |\n",
      "[09:37:42] WARNING: src/objective/regression_obj.cu:152: reg:linear is now deprecated in favor of reg:squarederror.\n",
      "| \u001b[0m 14      \u001b[0m | \u001b[0m-23.55   \u001b[0m | \u001b[0m 0.08062 \u001b[0m | \u001b[0m 37.03   \u001b[0m | \u001b[0m 5.728e+0\u001b[0m |\n",
      "[09:37:43] WARNING: src/objective/regression_obj.cu:152: reg:linear is now deprecated in favor of reg:squarederror.\n",
      "| \u001b[0m 15      \u001b[0m | \u001b[0m-43.8    \u001b[0m | \u001b[0m 0.001   \u001b[0m | \u001b[0m 100.0   \u001b[0m | \u001b[0m 5.763e+0\u001b[0m |\n",
      "[09:37:43] WARNING: src/objective/regression_obj.cu:152: reg:linear is now deprecated in favor of reg:squarederror.\n",
      "| \u001b[0m 16      \u001b[0m | \u001b[0m-23.49   \u001b[0m | \u001b[0m 0.06962 \u001b[0m | \u001b[0m 44.24   \u001b[0m | \u001b[0m 5.631e+0\u001b[0m |\n",
      "[09:37:44] WARNING: src/objective/regression_obj.cu:152: reg:linear is now deprecated in favor of reg:squarederror.\n",
      "| \u001b[0m 17      \u001b[0m | \u001b[0m-26.6    \u001b[0m | \u001b[0m 0.01379 \u001b[0m | \u001b[0m 40.16   \u001b[0m | \u001b[0m 5.624e+0\u001b[0m |\n",
      "[09:37:45] WARNING: src/objective/regression_obj.cu:152: reg:linear is now deprecated in favor of reg:squarederror.\n",
      "| \u001b[0m 18      \u001b[0m | \u001b[0m-25.05   \u001b[0m | \u001b[0m 0.02315 \u001b[0m | \u001b[0m 40.17   \u001b[0m | \u001b[0m 5.817e+0\u001b[0m |\n",
      "[09:37:45] WARNING: src/objective/regression_obj.cu:152: reg:linear is now deprecated in favor of reg:squarederror.\n",
      "| \u001b[0m 19      \u001b[0m | \u001b[0m-26.08   \u001b[0m | \u001b[0m 0.01608 \u001b[0m | \u001b[0m 45.31   \u001b[0m | \u001b[0m 5.819e+0\u001b[0m |\n",
      "[09:37:45] WARNING: src/objective/regression_obj.cu:152: reg:linear is now deprecated in favor of reg:squarederror.\n",
      "| \u001b[0m 20      \u001b[0m | \u001b[0m-23.87   \u001b[0m | \u001b[0m 0.1     \u001b[0m | \u001b[0m 42.82   \u001b[0m | \u001b[0m 5.817e+0\u001b[0m |\n",
      "=============================================================\n",
      "{'target': -23.48408450742266, 'params': {'learning_rate': 0.06737628350766182, 'max_depth': 44.643956224877066, 'n_estimators': 5631.029301612942}}\n"
     ]
    }
   ],
   "source": [
    "optimizer = BayesianOptimization(\n",
    "    f=train_model,\n",
    "    pbounds=bounds,\n",
    "    random_state=1,\n",
    "    verbose=2,\n",
    ")\n",
    "best = optimizer.maximize(init_points=10, n_iter= 10)\n",
    "print(optimizer.max)"
   ]
  },
  {
   "cell_type": "code",
   "execution_count": null,
   "metadata": {},
   "outputs": [],
   "source": []
  }
 ],
 "metadata": {
  "kernelspec": {
   "display_name": "Python 3",
   "language": "python",
   "name": "python3"
  },
  "toc": {
   "base_numbering": 1,
   "nav_menu": {},
   "number_sections": true,
   "sideBar": true,
   "skip_h1_title": false,
   "title_cell": "Table of Contents",
   "title_sidebar": "Preprocessing_Exercises",
   "toc_cell": false,
   "toc_position": {
    "height": "calc(100% - 180px)",
    "left": "10px",
    "top": "150px",
    "width": "288px"
   },
   "toc_section_display": true,
   "toc_window_display": true
  },
  "varInspector": {
   "cols": {
    "lenName": 16,
    "lenType": 16,
    "lenVar": 40
   },
   "kernels_config": {
    "python": {
     "delete_cmd_postfix": "",
     "delete_cmd_prefix": "del ",
     "library": "var_list.py",
     "varRefreshCmd": "print(var_dic_list())"
    },
    "r": {
     "delete_cmd_postfix": ") ",
     "delete_cmd_prefix": "rm(",
     "library": "var_list.r",
     "varRefreshCmd": "cat(var_dic_list()) "
    }
   },
   "types_to_exclude": [
    "module",
    "function",
    "builtin_function_or_method",
    "instance",
    "_Feature"
   ],
   "window_display": false
  }
 },
 "nbformat": 4,
 "nbformat_minor": 2
}
