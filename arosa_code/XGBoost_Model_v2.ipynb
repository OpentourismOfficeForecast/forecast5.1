{
 "cells": [
  {
   "cell_type": "code",
   "execution_count": 62,
   "metadata": {
    "ExecuteTime": {
     "end_time": "2019-11-30T10:08:11.095487Z",
     "start_time": "2019-11-30T10:08:11.087298Z"
    }
   },
   "outputs": [],
   "source": [
    "import os\n",
    "import sys\n",
    "from pprint import pprint\n",
    "from dotenv import load_dotenv\n",
    "import pandas as pd\n",
    "import numpy as np\n",
    "#import seaborn as sns\n",
    "#import time\n",
    "import xgboost as xgb\n",
    "from xgboost import plot_tree\n",
    "from sklearn.feature_extraction import DictVectorizer\n",
    "from sklearn.pipeline import Pipeline\n",
    "from sklearn.metrics import mean_squared_error\n",
    "from sklearn.metrics import mean_absolute_error\n",
    "from sklearn.model_selection import cross_val_score\n",
    "from sklearn.model_selection import RandomizedSearchCV\n",
    "from sklearn.model_selection import GridSearchCV\n",
    "from sklearn.model_selection import train_test_split\n",
    "from sklearn.model_selection import TimeSeriesSplit\n",
    "from sklearn.preprocessing import LabelEncoder\n",
    "import matplotlib.pyplot as plt\n",
    "import operator\n",
    "import random\n",
    "import graphviz\n",
    "from sklearn.preprocessing import LabelEncoder\n",
    "from sklearn.preprocessing import OneHotEncoder\n",
    "from sklearn.ensemble import RandomForestRegressor\n",
    "from sklearn import metrics\n",
    "\n",
    "\n",
    "#conda install -c conda-forge bayesian-optimization\n",
    "from bayes_opt import BayesianOptimization\n",
    "import pandas_profiling\n",
    "load_dotenv('forecast_arosa.env')\n",
    "random.seed(22)"
   ]
  },
  {
   "cell_type": "markdown",
   "metadata": {},
   "source": [
    "# Open CSV\n"
   ]
  },
  {
   "cell_type": "code",
   "execution_count": 37,
   "metadata": {
    "ExecuteTime": {
     "end_time": "2019-11-30T10:04:01.872049Z",
     "start_time": "2019-11-30T10:04:01.869022Z"
    }
   },
   "outputs": [],
   "source": [
    "path_in = os.getenv('DATAIN') # this is where we downloaded the tabel"
   ]
  },
  {
   "cell_type": "code",
   "execution_count": 38,
   "metadata": {
    "ExecuteTime": {
     "end_time": "2019-11-30T10:04:02.013145Z",
     "start_time": "2019-11-30T10:04:02.009021Z"
    }
   },
   "outputs": [],
   "source": [
    "file_name = os.getenv('DATASET_FILENAME') # this is where we downloaded the tabel"
   ]
  },
  {
   "cell_type": "code",
   "execution_count": 39,
   "metadata": {
    "ExecuteTime": {
     "end_time": "2019-11-30T10:04:02.381181Z",
     "start_time": "2019-11-30T10:04:02.376207Z"
    }
   },
   "outputs": [
    {
     "data": {
      "text/plain": [
       "'../arosa_data/arosa_data_feature1.csv'"
      ]
     },
     "execution_count": 39,
     "metadata": {},
     "output_type": "execute_result"
    }
   ],
   "source": [
    "os.path.join(path_in, file_name)"
   ]
  },
  {
   "cell_type": "code",
   "execution_count": 40,
   "metadata": {
    "ExecuteTime": {
     "end_time": "2019-11-30T10:04:02.591334Z",
     "start_time": "2019-11-30T10:04:02.559628Z"
    }
   },
   "outputs": [
    {
     "data": {
      "text/html": [
       "<div>\n",
       "<style scoped>\n",
       "    .dataframe tbody tr th:only-of-type {\n",
       "        vertical-align: middle;\n",
       "    }\n",
       "\n",
       "    .dataframe tbody tr th {\n",
       "        vertical-align: top;\n",
       "    }\n",
       "\n",
       "    .dataframe thead th {\n",
       "        text-align: right;\n",
       "    }\n",
       "</style>\n",
       "<table border=\"1\" class=\"dataframe\">\n",
       "  <thead>\n",
       "    <tr style=\"text-align: right;\">\n",
       "      <th></th>\n",
       "      <th>Datum</th>\n",
       "      <th>Wochentag</th>\n",
       "      <th>season</th>\n",
       "      <th>TagNr</th>\n",
       "      <th>WocheNr</th>\n",
       "      <th>isFreiZH</th>\n",
       "      <th>isFreiSG</th>\n",
       "      <th>isFreiGR</th>\n",
       "      <th>isFerienZH</th>\n",
       "      <th>Ferien Desc ZH</th>\n",
       "      <th>...</th>\n",
       "      <th>precip_1h_mm_sum</th>\n",
       "      <th>fresh_snow_1h_cm_sum</th>\n",
       "      <th>wind_speed_mean_10m_1h_ms_avg</th>\n",
       "      <th>weather_symbol_1h_idx_spe</th>\n",
       "      <th>number_of_events</th>\n",
       "      <th>isHumorfestival</th>\n",
       "      <th>Schalter</th>\n",
       "      <th>Tel</th>\n",
       "      <th>Mail</th>\n",
       "      <th>Total Anfragen</th>\n",
       "    </tr>\n",
       "  </thead>\n",
       "  <tbody>\n",
       "    <tr>\n",
       "      <th>0</th>\n",
       "      <td>01.01.2016</td>\n",
       "      <td>Freitag</td>\n",
       "      <td>winter season</td>\n",
       "      <td>1</td>\n",
       "      <td>53</td>\n",
       "      <td>1</td>\n",
       "      <td>1</td>\n",
       "      <td>1</td>\n",
       "      <td>0</td>\n",
       "      <td>NaN</td>\n",
       "      <td>...</td>\n",
       "      <td>0.81</td>\n",
       "      <td>1.3</td>\n",
       "      <td>2.6</td>\n",
       "      <td>1.1</td>\n",
       "      <td>0</td>\n",
       "      <td>0</td>\n",
       "      <td>10</td>\n",
       "      <td>20</td>\n",
       "      <td>5</td>\n",
       "      <td>35</td>\n",
       "    </tr>\n",
       "    <tr>\n",
       "      <th>1</th>\n",
       "      <td>02.01.2016</td>\n",
       "      <td>Samstag</td>\n",
       "      <td>winter season</td>\n",
       "      <td>2</td>\n",
       "      <td>53</td>\n",
       "      <td>1</td>\n",
       "      <td>1</td>\n",
       "      <td>1</td>\n",
       "      <td>0</td>\n",
       "      <td>NaN</td>\n",
       "      <td>...</td>\n",
       "      <td>1.21</td>\n",
       "      <td>1.9</td>\n",
       "      <td>5.4</td>\n",
       "      <td>0.0</td>\n",
       "      <td>0</td>\n",
       "      <td>0</td>\n",
       "      <td>78</td>\n",
       "      <td>59</td>\n",
       "      <td>22</td>\n",
       "      <td>159</td>\n",
       "    </tr>\n",
       "    <tr>\n",
       "      <th>2</th>\n",
       "      <td>03.01.2016</td>\n",
       "      <td>Sonntag</td>\n",
       "      <td>winter season</td>\n",
       "      <td>3</td>\n",
       "      <td>53</td>\n",
       "      <td>1</td>\n",
       "      <td>1</td>\n",
       "      <td>1</td>\n",
       "      <td>0</td>\n",
       "      <td>NaN</td>\n",
       "      <td>...</td>\n",
       "      <td>0.23</td>\n",
       "      <td>0.0</td>\n",
       "      <td>5.9</td>\n",
       "      <td>0.0</td>\n",
       "      <td>0</td>\n",
       "      <td>0</td>\n",
       "      <td>0</td>\n",
       "      <td>0</td>\n",
       "      <td>0</td>\n",
       "      <td>0</td>\n",
       "    </tr>\n",
       "    <tr>\n",
       "      <th>3</th>\n",
       "      <td>04.01.2016</td>\n",
       "      <td>Montag</td>\n",
       "      <td>winter season</td>\n",
       "      <td>4</td>\n",
       "      <td>1</td>\n",
       "      <td>0</td>\n",
       "      <td>0</td>\n",
       "      <td>0</td>\n",
       "      <td>0</td>\n",
       "      <td>NaN</td>\n",
       "      <td>...</td>\n",
       "      <td>0.13</td>\n",
       "      <td>0.3</td>\n",
       "      <td>2.4</td>\n",
       "      <td>0.0</td>\n",
       "      <td>0</td>\n",
       "      <td>0</td>\n",
       "      <td>0</td>\n",
       "      <td>0</td>\n",
       "      <td>0</td>\n",
       "      <td>0</td>\n",
       "    </tr>\n",
       "    <tr>\n",
       "      <th>4</th>\n",
       "      <td>05.01.2016</td>\n",
       "      <td>Dienstag</td>\n",
       "      <td>winter season</td>\n",
       "      <td>5</td>\n",
       "      <td>1</td>\n",
       "      <td>0</td>\n",
       "      <td>0</td>\n",
       "      <td>0</td>\n",
       "      <td>0</td>\n",
       "      <td>NaN</td>\n",
       "      <td>...</td>\n",
       "      <td>0.00</td>\n",
       "      <td>0.0</td>\n",
       "      <td>3.4</td>\n",
       "      <td>1.3</td>\n",
       "      <td>0</td>\n",
       "      <td>0</td>\n",
       "      <td>0</td>\n",
       "      <td>0</td>\n",
       "      <td>0</td>\n",
       "      <td>0</td>\n",
       "    </tr>\n",
       "    <tr>\n",
       "      <th>...</th>\n",
       "      <td>...</td>\n",
       "      <td>...</td>\n",
       "      <td>...</td>\n",
       "      <td>...</td>\n",
       "      <td>...</td>\n",
       "      <td>...</td>\n",
       "      <td>...</td>\n",
       "      <td>...</td>\n",
       "      <td>...</td>\n",
       "      <td>...</td>\n",
       "      <td>...</td>\n",
       "      <td>...</td>\n",
       "      <td>...</td>\n",
       "      <td>...</td>\n",
       "      <td>...</td>\n",
       "      <td>...</td>\n",
       "      <td>...</td>\n",
       "      <td>...</td>\n",
       "      <td>...</td>\n",
       "      <td>...</td>\n",
       "      <td>...</td>\n",
       "    </tr>\n",
       "    <tr>\n",
       "      <th>1334</th>\n",
       "      <td>27.08.2019</td>\n",
       "      <td>Dienstag</td>\n",
       "      <td>summer season</td>\n",
       "      <td>1335</td>\n",
       "      <td>35</td>\n",
       "      <td>0</td>\n",
       "      <td>0</td>\n",
       "      <td>0</td>\n",
       "      <td>0</td>\n",
       "      <td>NaN</td>\n",
       "      <td>...</td>\n",
       "      <td>0.00</td>\n",
       "      <td>0.0</td>\n",
       "      <td>11.2</td>\n",
       "      <td>0.0</td>\n",
       "      <td>2</td>\n",
       "      <td>0</td>\n",
       "      <td>59</td>\n",
       "      <td>26</td>\n",
       "      <td>29</td>\n",
       "      <td>114</td>\n",
       "    </tr>\n",
       "    <tr>\n",
       "      <th>1335</th>\n",
       "      <td>28.08.2019</td>\n",
       "      <td>Mittwoch</td>\n",
       "      <td>summer season</td>\n",
       "      <td>1336</td>\n",
       "      <td>35</td>\n",
       "      <td>0</td>\n",
       "      <td>0</td>\n",
       "      <td>0</td>\n",
       "      <td>0</td>\n",
       "      <td>NaN</td>\n",
       "      <td>...</td>\n",
       "      <td>0.00</td>\n",
       "      <td>0.0</td>\n",
       "      <td>5.6</td>\n",
       "      <td>1.1</td>\n",
       "      <td>2</td>\n",
       "      <td>0</td>\n",
       "      <td>61</td>\n",
       "      <td>40</td>\n",
       "      <td>19</td>\n",
       "      <td>120</td>\n",
       "    </tr>\n",
       "    <tr>\n",
       "      <th>1336</th>\n",
       "      <td>29.08.2019</td>\n",
       "      <td>Donnerstag</td>\n",
       "      <td>summer season</td>\n",
       "      <td>1337</td>\n",
       "      <td>35</td>\n",
       "      <td>0</td>\n",
       "      <td>0</td>\n",
       "      <td>0</td>\n",
       "      <td>0</td>\n",
       "      <td>NaN</td>\n",
       "      <td>...</td>\n",
       "      <td>0.16</td>\n",
       "      <td>0.0</td>\n",
       "      <td>5.8</td>\n",
       "      <td>0.0</td>\n",
       "      <td>2</td>\n",
       "      <td>0</td>\n",
       "      <td>76</td>\n",
       "      <td>38</td>\n",
       "      <td>23</td>\n",
       "      <td>137</td>\n",
       "    </tr>\n",
       "    <tr>\n",
       "      <th>1337</th>\n",
       "      <td>30.08.2019</td>\n",
       "      <td>Freitag</td>\n",
       "      <td>summer season</td>\n",
       "      <td>1338</td>\n",
       "      <td>35</td>\n",
       "      <td>0</td>\n",
       "      <td>0</td>\n",
       "      <td>0</td>\n",
       "      <td>0</td>\n",
       "      <td>NaN</td>\n",
       "      <td>...</td>\n",
       "      <td>0.00</td>\n",
       "      <td>0.0</td>\n",
       "      <td>5.7</td>\n",
       "      <td>0.7</td>\n",
       "      <td>3</td>\n",
       "      <td>0</td>\n",
       "      <td>157</td>\n",
       "      <td>48</td>\n",
       "      <td>27</td>\n",
       "      <td>232</td>\n",
       "    </tr>\n",
       "    <tr>\n",
       "      <th>1338</th>\n",
       "      <td>31.08.2019</td>\n",
       "      <td>Samstag</td>\n",
       "      <td>summer season</td>\n",
       "      <td>1339</td>\n",
       "      <td>35</td>\n",
       "      <td>1</td>\n",
       "      <td>1</td>\n",
       "      <td>1</td>\n",
       "      <td>0</td>\n",
       "      <td>NaN</td>\n",
       "      <td>...</td>\n",
       "      <td>0.03</td>\n",
       "      <td>0.0</td>\n",
       "      <td>5.8</td>\n",
       "      <td>2.9</td>\n",
       "      <td>3</td>\n",
       "      <td>0</td>\n",
       "      <td>183</td>\n",
       "      <td>33</td>\n",
       "      <td>23</td>\n",
       "      <td>239</td>\n",
       "    </tr>\n",
       "  </tbody>\n",
       "</table>\n",
       "<p>1339 rows × 55 columns</p>\n",
       "</div>"
      ],
      "text/plain": [
       "           Datum   Wochentag         season  TagNr  WocheNr  isFreiZH  \\\n",
       "0     01.01.2016     Freitag  winter season      1       53         1   \n",
       "1     02.01.2016     Samstag  winter season      2       53         1   \n",
       "2     03.01.2016     Sonntag  winter season      3       53         1   \n",
       "3     04.01.2016      Montag  winter season      4        1         0   \n",
       "4     05.01.2016    Dienstag  winter season      5        1         0   \n",
       "...          ...         ...            ...    ...      ...       ...   \n",
       "1334  27.08.2019    Dienstag  summer season   1335       35         0   \n",
       "1335  28.08.2019    Mittwoch  summer season   1336       35         0   \n",
       "1336  29.08.2019  Donnerstag  summer season   1337       35         0   \n",
       "1337  30.08.2019     Freitag  summer season   1338       35         0   \n",
       "1338  31.08.2019     Samstag  summer season   1339       35         1   \n",
       "\n",
       "      isFreiSG  isFreiGR  isFerienZH Ferien Desc ZH  ...  precip_1h_mm_sum  \\\n",
       "0            1         1           0            NaN  ...              0.81   \n",
       "1            1         1           0            NaN  ...              1.21   \n",
       "2            1         1           0            NaN  ...              0.23   \n",
       "3            0         0           0            NaN  ...              0.13   \n",
       "4            0         0           0            NaN  ...              0.00   \n",
       "...        ...       ...         ...            ...  ...               ...   \n",
       "1334         0         0           0            NaN  ...              0.00   \n",
       "1335         0         0           0            NaN  ...              0.00   \n",
       "1336         0         0           0            NaN  ...              0.16   \n",
       "1337         0         0           0            NaN  ...              0.00   \n",
       "1338         1         1           0            NaN  ...              0.03   \n",
       "\n",
       "      fresh_snow_1h_cm_sum  wind_speed_mean_10m_1h_ms_avg  \\\n",
       "0                      1.3                            2.6   \n",
       "1                      1.9                            5.4   \n",
       "2                      0.0                            5.9   \n",
       "3                      0.3                            2.4   \n",
       "4                      0.0                            3.4   \n",
       "...                    ...                            ...   \n",
       "1334                   0.0                           11.2   \n",
       "1335                   0.0                            5.6   \n",
       "1336                   0.0                            5.8   \n",
       "1337                   0.0                            5.7   \n",
       "1338                   0.0                            5.8   \n",
       "\n",
       "     weather_symbol_1h_idx_spe  number_of_events  isHumorfestival  Schalter  \\\n",
       "0                          1.1                 0                0        10   \n",
       "1                          0.0                 0                0        78   \n",
       "2                          0.0                 0                0         0   \n",
       "3                          0.0                 0                0         0   \n",
       "4                          1.3                 0                0         0   \n",
       "...                        ...               ...              ...       ...   \n",
       "1334                       0.0                 2                0        59   \n",
       "1335                       1.1                 2                0        61   \n",
       "1336                       0.0                 2                0        76   \n",
       "1337                       0.7                 3                0       157   \n",
       "1338                       2.9                 3                0       183   \n",
       "\n",
       "     Tel  Mail  Total Anfragen  \n",
       "0     20     5              35  \n",
       "1     59    22             159  \n",
       "2      0     0               0  \n",
       "3      0     0               0  \n",
       "4      0     0               0  \n",
       "...   ..   ...             ...  \n",
       "1334  26    29             114  \n",
       "1335  40    19             120  \n",
       "1336  38    23             137  \n",
       "1337  48    27             232  \n",
       "1338  33    23             239  \n",
       "\n",
       "[1339 rows x 55 columns]"
      ]
     },
     "execution_count": 40,
     "metadata": {},
     "output_type": "execute_result"
    }
   ],
   "source": [
    "df = pd.read_csv(os.path.join(path_in, file_name),delimiter=';')\n",
    "df"
   ]
  },
  {
   "cell_type": "code",
   "execution_count": 41,
   "metadata": {
    "ExecuteTime": {
     "end_time": "2019-11-30T10:04:02.740905Z",
     "start_time": "2019-11-30T10:04:02.725056Z"
    }
   },
   "outputs": [
    {
     "data": {
      "text/html": [
       "<div>\n",
       "<style scoped>\n",
       "    .dataframe tbody tr th:only-of-type {\n",
       "        vertical-align: middle;\n",
       "    }\n",
       "\n",
       "    .dataframe tbody tr th {\n",
       "        vertical-align: top;\n",
       "    }\n",
       "\n",
       "    .dataframe thead th {\n",
       "        text-align: right;\n",
       "    }\n",
       "</style>\n",
       "<table border=\"1\" class=\"dataframe\">\n",
       "  <thead>\n",
       "    <tr style=\"text-align: right;\">\n",
       "      <th></th>\n",
       "      <th>Datum</th>\n",
       "      <th>Wochentag</th>\n",
       "      <th>season</th>\n",
       "      <th>TagNr</th>\n",
       "      <th>WocheNr</th>\n",
       "      <th>isFreiZH</th>\n",
       "      <th>isFreiSG</th>\n",
       "      <th>isFreiGR</th>\n",
       "      <th>isFerienZH</th>\n",
       "      <th>Ferien Desc ZH</th>\n",
       "      <th>...</th>\n",
       "      <th>precip_1h_mm_sum</th>\n",
       "      <th>fresh_snow_1h_cm_sum</th>\n",
       "      <th>wind_speed_mean_10m_1h_ms_avg</th>\n",
       "      <th>weather_symbol_1h_idx_spe</th>\n",
       "      <th>number_of_events</th>\n",
       "      <th>isHumorfestival</th>\n",
       "      <th>Schalter</th>\n",
       "      <th>Tel</th>\n",
       "      <th>Mail</th>\n",
       "      <th>Total Anfragen</th>\n",
       "    </tr>\n",
       "  </thead>\n",
       "  <tbody>\n",
       "    <tr>\n",
       "      <th>1338</th>\n",
       "      <td>31.08.2019</td>\n",
       "      <td>Samstag</td>\n",
       "      <td>summer season</td>\n",
       "      <td>1339</td>\n",
       "      <td>35</td>\n",
       "      <td>1</td>\n",
       "      <td>1</td>\n",
       "      <td>1</td>\n",
       "      <td>0</td>\n",
       "      <td>NaN</td>\n",
       "      <td>...</td>\n",
       "      <td>0.03</td>\n",
       "      <td>0.0</td>\n",
       "      <td>5.8</td>\n",
       "      <td>2.9</td>\n",
       "      <td>3</td>\n",
       "      <td>0</td>\n",
       "      <td>183</td>\n",
       "      <td>33</td>\n",
       "      <td>23</td>\n",
       "      <td>239</td>\n",
       "    </tr>\n",
       "  </tbody>\n",
       "</table>\n",
       "<p>1 rows × 55 columns</p>\n",
       "</div>"
      ],
      "text/plain": [
       "           Datum Wochentag         season  TagNr  WocheNr  isFreiZH  isFreiSG  \\\n",
       "1338  31.08.2019   Samstag  summer season   1339       35         1         1   \n",
       "\n",
       "      isFreiGR  isFerienZH Ferien Desc ZH  ...  precip_1h_mm_sum  \\\n",
       "1338         1           0            NaN  ...              0.03   \n",
       "\n",
       "      fresh_snow_1h_cm_sum  wind_speed_mean_10m_1h_ms_avg  \\\n",
       "1338                   0.0                            5.8   \n",
       "\n",
       "     weather_symbol_1h_idx_spe  number_of_events  isHumorfestival  Schalter  \\\n",
       "1338                       2.9                 3                0       183   \n",
       "\n",
       "     Tel  Mail  Total Anfragen  \n",
       "1338  33    23             239  \n",
       "\n",
       "[1 rows x 55 columns]"
      ]
     },
     "execution_count": 41,
     "metadata": {},
     "output_type": "execute_result"
    }
   ],
   "source": [
    "df[df['Datum']=='31.08.2019']"
   ]
  },
  {
   "cell_type": "code",
   "execution_count": 42,
   "metadata": {
    "ExecuteTime": {
     "end_time": "2019-11-30T10:04:03.699022Z",
     "start_time": "2019-11-30T10:04:03.694200Z"
    }
   },
   "outputs": [
    {
     "data": {
      "text/plain": [
       "1339"
      ]
     },
     "execution_count": 42,
     "metadata": {},
     "output_type": "execute_result"
    }
   ],
   "source": [
    "len(df)"
   ]
  },
  {
   "cell_type": "markdown",
   "metadata": {},
   "source": [
    "# Preprocessing"
   ]
  },
  {
   "cell_type": "code",
   "execution_count": null,
   "metadata": {},
   "outputs": [],
   "source": [
    "df"
   ]
  },
  {
   "cell_type": "code",
   "execution_count": 53,
   "metadata": {
    "ExecuteTime": {
     "end_time": "2019-11-30T10:07:08.145093Z",
     "start_time": "2019-11-30T10:07:08.131761Z"
    }
   },
   "outputs": [
    {
     "data": {
      "text/plain": [
       "0             Neujahr\n",
       "1       Berchtoldstag\n",
       "2                   0\n",
       "3                   0\n",
       "4                   0\n",
       "            ...      \n",
       "1334                0\n",
       "1335                0\n",
       "1336                0\n",
       "1337                0\n",
       "1338                0\n",
       "Name: Feiertag Desc, Length: 1338, dtype: object"
      ]
     },
     "execution_count": 53,
     "metadata": {},
     "output_type": "execute_result"
    }
   ],
   "source": [
    "df= df[df.Datum != '09.03.2016']\n",
    "d=df.drop(['Datum'], axis=1)\n",
    "d['Ferien Desc ZH'].fillna(value=0, inplace = True)\n",
    "d['Ferien Desc GR'].fillna(value=0, inplace = True)\n",
    "d['Ferien Desc SG'].fillna(value=0, inplace = True)\n",
    "d['Feiertag Desc'].fillna(value=0, inplace = True)\n",
    "d['Feiertag Desc']"
   ]
  },
  {
   "cell_type": "code",
   "execution_count": 56,
   "metadata": {
    "ExecuteTime": {
     "end_time": "2019-11-30T10:07:44.972914Z",
     "start_time": "2019-11-30T10:07:44.958690Z"
    }
   },
   "outputs": [],
   "source": [
    "d = d.astype({\"Ferien Desc ZH\": str, \"Ferien Desc GR\": str, \"Ferien Desc SG\": str, \"Feiertag Desc\": str})"
   ]
  },
  {
   "cell_type": "code",
   "execution_count": 57,
   "metadata": {
    "ExecuteTime": {
     "end_time": "2019-11-30T10:07:45.489171Z",
     "start_time": "2019-11-30T10:07:45.472156Z"
    }
   },
   "outputs": [
    {
     "name": "stdout",
     "output_type": "stream",
     "text": [
      "  Wochentag         season Ferien Desc ZH Ferien Desc SG Ferien Desc GR  \\\n",
      "0   Freitag  winter season              0              0              0   \n",
      "1   Samstag  winter season              0              0              0   \n",
      "2   Sonntag  winter season              0              0              0   \n",
      "3    Montag  winter season              0              0              0   \n",
      "4  Dienstag  winter season              0              0              0   \n",
      "\n",
      "   Feiertag Desc  \n",
      "0        Neujahr  \n",
      "1  Berchtoldstag  \n",
      "2              0  \n",
      "3              0  \n",
      "4              0  \n"
     ]
    }
   ],
   "source": [
    "# Create a boolean mask for categorical columns \n",
    "categorical_mask = (d.dtypes == object)  # true → is categorical\n",
    "# Get list of categorical column names\n",
    "categorical_columns = d.columns[categorical_mask].tolist()\n",
    "# Print the head of the categorical columns \n",
    "print(d[categorical_columns].head())\n",
    "# Create LabelEncoder object: le \n",
    "le = LabelEncoder()\n",
    "# Apply LabelEncoder to categorical columns\n",
    "d[categorical_columns] = d[categorical_columns].apply(lambda x: le.fit_transform(x))\n",
    "# Print the head of the LabelEncoded categorical columns print(df[categorical_columns].head())"
   ]
  },
  {
   "cell_type": "markdown",
   "metadata": {},
   "source": [
    "# Overview of Data"
   ]
  },
  {
   "cell_type": "code",
   "execution_count": 58,
   "metadata": {
    "ExecuteTime": {
     "end_time": "2019-11-30T10:07:48.388285Z",
     "start_time": "2019-11-30T10:07:48.385455Z"
    },
    "scrolled": true
   },
   "outputs": [],
   "source": [
    "#df.profile_report()"
   ]
  },
  {
   "cell_type": "markdown",
   "metadata": {},
   "source": [
    "# Random Forest"
   ]
  },
  {
   "cell_type": "code",
   "execution_count": 86,
   "metadata": {
    "ExecuteTime": {
     "end_time": "2019-11-30T10:28:44.691160Z",
     "start_time": "2019-11-30T10:28:44.657035Z"
    }
   },
   "outputs": [
    {
     "data": {
      "text/html": [
       "<div>\n",
       "<style scoped>\n",
       "    .dataframe tbody tr th:only-of-type {\n",
       "        vertical-align: middle;\n",
       "    }\n",
       "\n",
       "    .dataframe tbody tr th {\n",
       "        vertical-align: top;\n",
       "    }\n",
       "\n",
       "    .dataframe thead th {\n",
       "        text-align: right;\n",
       "    }\n",
       "</style>\n",
       "<table border=\"1\" class=\"dataframe\">\n",
       "  <thead>\n",
       "    <tr style=\"text-align: right;\">\n",
       "      <th></th>\n",
       "      <th>Datum</th>\n",
       "      <th>Wochentag</th>\n",
       "      <th>season</th>\n",
       "      <th>TagNr</th>\n",
       "      <th>WocheNr</th>\n",
       "      <th>isFreiZH</th>\n",
       "      <th>isFreiSG</th>\n",
       "      <th>isFreiGR</th>\n",
       "      <th>isFerienZH</th>\n",
       "      <th>Ferien Desc ZH</th>\n",
       "      <th>...</th>\n",
       "      <th>precip_1h_mm_sum</th>\n",
       "      <th>fresh_snow_1h_cm_sum</th>\n",
       "      <th>wind_speed_mean_10m_1h_ms_avg</th>\n",
       "      <th>weather_symbol_1h_idx_spe</th>\n",
       "      <th>number_of_events</th>\n",
       "      <th>isHumorfestival</th>\n",
       "      <th>Schalter</th>\n",
       "      <th>Tel</th>\n",
       "      <th>Mail</th>\n",
       "      <th>Total Anfragen</th>\n",
       "    </tr>\n",
       "  </thead>\n",
       "  <tbody>\n",
       "    <tr>\n",
       "      <th>1071</th>\n",
       "      <td>07.12.2018</td>\n",
       "      <td>Freitag</td>\n",
       "      <td>winter season</td>\n",
       "      <td>1072</td>\n",
       "      <td>49</td>\n",
       "      <td>0</td>\n",
       "      <td>0</td>\n",
       "      <td>0</td>\n",
       "      <td>0</td>\n",
       "      <td>nan</td>\n",
       "      <td>...</td>\n",
       "      <td>0.00</td>\n",
       "      <td>0.0</td>\n",
       "      <td>11.5</td>\n",
       "      <td>0.0</td>\n",
       "      <td>1</td>\n",
       "      <td>1</td>\n",
       "      <td>43</td>\n",
       "      <td>41</td>\n",
       "      <td>31</td>\n",
       "      <td>115</td>\n",
       "    </tr>\n",
       "    <tr>\n",
       "      <th>1072</th>\n",
       "      <td>08.12.2018</td>\n",
       "      <td>Samstag</td>\n",
       "      <td>winter season</td>\n",
       "      <td>1073</td>\n",
       "      <td>49</td>\n",
       "      <td>1</td>\n",
       "      <td>1</td>\n",
       "      <td>1</td>\n",
       "      <td>0</td>\n",
       "      <td>nan</td>\n",
       "      <td>...</td>\n",
       "      <td>3.14</td>\n",
       "      <td>5.3</td>\n",
       "      <td>12.2</td>\n",
       "      <td>0.0</td>\n",
       "      <td>1</td>\n",
       "      <td>1</td>\n",
       "      <td>40</td>\n",
       "      <td>35</td>\n",
       "      <td>20</td>\n",
       "      <td>95</td>\n",
       "    </tr>\n",
       "    <tr>\n",
       "      <th>1073</th>\n",
       "      <td>09.12.2018</td>\n",
       "      <td>Sonntag</td>\n",
       "      <td>winter season</td>\n",
       "      <td>1074</td>\n",
       "      <td>49</td>\n",
       "      <td>1</td>\n",
       "      <td>1</td>\n",
       "      <td>1</td>\n",
       "      <td>0</td>\n",
       "      <td>nan</td>\n",
       "      <td>...</td>\n",
       "      <td>5.78</td>\n",
       "      <td>9.2</td>\n",
       "      <td>14.0</td>\n",
       "      <td>0.0</td>\n",
       "      <td>1</td>\n",
       "      <td>1</td>\n",
       "      <td>35</td>\n",
       "      <td>30</td>\n",
       "      <td>15</td>\n",
       "      <td>80</td>\n",
       "    </tr>\n",
       "    <tr>\n",
       "      <th>1074</th>\n",
       "      <td>10.12.2018</td>\n",
       "      <td>Montag</td>\n",
       "      <td>winter season</td>\n",
       "      <td>1075</td>\n",
       "      <td>50</td>\n",
       "      <td>0</td>\n",
       "      <td>0</td>\n",
       "      <td>0</td>\n",
       "      <td>0</td>\n",
       "      <td>nan</td>\n",
       "      <td>...</td>\n",
       "      <td>4.90</td>\n",
       "      <td>7.7</td>\n",
       "      <td>12.1</td>\n",
       "      <td>0.0</td>\n",
       "      <td>1</td>\n",
       "      <td>1</td>\n",
       "      <td>33</td>\n",
       "      <td>36</td>\n",
       "      <td>32</td>\n",
       "      <td>101</td>\n",
       "    </tr>\n",
       "    <tr>\n",
       "      <th>1075</th>\n",
       "      <td>11.12.2018</td>\n",
       "      <td>Dienstag</td>\n",
       "      <td>winter season</td>\n",
       "      <td>1076</td>\n",
       "      <td>50</td>\n",
       "      <td>0</td>\n",
       "      <td>0</td>\n",
       "      <td>0</td>\n",
       "      <td>0</td>\n",
       "      <td>nan</td>\n",
       "      <td>...</td>\n",
       "      <td>0.28</td>\n",
       "      <td>0.0</td>\n",
       "      <td>11.8</td>\n",
       "      <td>0.0</td>\n",
       "      <td>3</td>\n",
       "      <td>1</td>\n",
       "      <td>37</td>\n",
       "      <td>40</td>\n",
       "      <td>35</td>\n",
       "      <td>112</td>\n",
       "    </tr>\n",
       "    <tr>\n",
       "      <th>...</th>\n",
       "      <td>...</td>\n",
       "      <td>...</td>\n",
       "      <td>...</td>\n",
       "      <td>...</td>\n",
       "      <td>...</td>\n",
       "      <td>...</td>\n",
       "      <td>...</td>\n",
       "      <td>...</td>\n",
       "      <td>...</td>\n",
       "      <td>...</td>\n",
       "      <td>...</td>\n",
       "      <td>...</td>\n",
       "      <td>...</td>\n",
       "      <td>...</td>\n",
       "      <td>...</td>\n",
       "      <td>...</td>\n",
       "      <td>...</td>\n",
       "      <td>...</td>\n",
       "      <td>...</td>\n",
       "      <td>...</td>\n",
       "      <td>...</td>\n",
       "    </tr>\n",
       "    <tr>\n",
       "      <th>1334</th>\n",
       "      <td>27.08.2019</td>\n",
       "      <td>Dienstag</td>\n",
       "      <td>summer season</td>\n",
       "      <td>1335</td>\n",
       "      <td>35</td>\n",
       "      <td>0</td>\n",
       "      <td>0</td>\n",
       "      <td>0</td>\n",
       "      <td>0</td>\n",
       "      <td>nan</td>\n",
       "      <td>...</td>\n",
       "      <td>0.00</td>\n",
       "      <td>0.0</td>\n",
       "      <td>11.2</td>\n",
       "      <td>0.0</td>\n",
       "      <td>2</td>\n",
       "      <td>0</td>\n",
       "      <td>59</td>\n",
       "      <td>26</td>\n",
       "      <td>29</td>\n",
       "      <td>114</td>\n",
       "    </tr>\n",
       "    <tr>\n",
       "      <th>1335</th>\n",
       "      <td>28.08.2019</td>\n",
       "      <td>Mittwoch</td>\n",
       "      <td>summer season</td>\n",
       "      <td>1336</td>\n",
       "      <td>35</td>\n",
       "      <td>0</td>\n",
       "      <td>0</td>\n",
       "      <td>0</td>\n",
       "      <td>0</td>\n",
       "      <td>nan</td>\n",
       "      <td>...</td>\n",
       "      <td>0.00</td>\n",
       "      <td>0.0</td>\n",
       "      <td>5.6</td>\n",
       "      <td>1.1</td>\n",
       "      <td>2</td>\n",
       "      <td>0</td>\n",
       "      <td>61</td>\n",
       "      <td>40</td>\n",
       "      <td>19</td>\n",
       "      <td>120</td>\n",
       "    </tr>\n",
       "    <tr>\n",
       "      <th>1336</th>\n",
       "      <td>29.08.2019</td>\n",
       "      <td>Donnerstag</td>\n",
       "      <td>summer season</td>\n",
       "      <td>1337</td>\n",
       "      <td>35</td>\n",
       "      <td>0</td>\n",
       "      <td>0</td>\n",
       "      <td>0</td>\n",
       "      <td>0</td>\n",
       "      <td>nan</td>\n",
       "      <td>...</td>\n",
       "      <td>0.16</td>\n",
       "      <td>0.0</td>\n",
       "      <td>5.8</td>\n",
       "      <td>0.0</td>\n",
       "      <td>2</td>\n",
       "      <td>0</td>\n",
       "      <td>76</td>\n",
       "      <td>38</td>\n",
       "      <td>23</td>\n",
       "      <td>137</td>\n",
       "    </tr>\n",
       "    <tr>\n",
       "      <th>1337</th>\n",
       "      <td>30.08.2019</td>\n",
       "      <td>Freitag</td>\n",
       "      <td>summer season</td>\n",
       "      <td>1338</td>\n",
       "      <td>35</td>\n",
       "      <td>0</td>\n",
       "      <td>0</td>\n",
       "      <td>0</td>\n",
       "      <td>0</td>\n",
       "      <td>nan</td>\n",
       "      <td>...</td>\n",
       "      <td>0.00</td>\n",
       "      <td>0.0</td>\n",
       "      <td>5.7</td>\n",
       "      <td>0.7</td>\n",
       "      <td>3</td>\n",
       "      <td>0</td>\n",
       "      <td>157</td>\n",
       "      <td>48</td>\n",
       "      <td>27</td>\n",
       "      <td>232</td>\n",
       "    </tr>\n",
       "    <tr>\n",
       "      <th>1338</th>\n",
       "      <td>31.08.2019</td>\n",
       "      <td>Samstag</td>\n",
       "      <td>summer season</td>\n",
       "      <td>1339</td>\n",
       "      <td>35</td>\n",
       "      <td>1</td>\n",
       "      <td>1</td>\n",
       "      <td>1</td>\n",
       "      <td>0</td>\n",
       "      <td>nan</td>\n",
       "      <td>...</td>\n",
       "      <td>0.03</td>\n",
       "      <td>0.0</td>\n",
       "      <td>5.8</td>\n",
       "      <td>2.9</td>\n",
       "      <td>3</td>\n",
       "      <td>0</td>\n",
       "      <td>183</td>\n",
       "      <td>33</td>\n",
       "      <td>23</td>\n",
       "      <td>239</td>\n",
       "    </tr>\n",
       "  </tbody>\n",
       "</table>\n",
       "<p>268 rows × 55 columns</p>\n",
       "</div>"
      ],
      "text/plain": [
       "           Datum   Wochentag         season  TagNr  WocheNr  isFreiZH  \\\n",
       "1071  07.12.2018     Freitag  winter season   1072       49         0   \n",
       "1072  08.12.2018     Samstag  winter season   1073       49         1   \n",
       "1073  09.12.2018     Sonntag  winter season   1074       49         1   \n",
       "1074  10.12.2018      Montag  winter season   1075       50         0   \n",
       "1075  11.12.2018    Dienstag  winter season   1076       50         0   \n",
       "...          ...         ...            ...    ...      ...       ...   \n",
       "1334  27.08.2019    Dienstag  summer season   1335       35         0   \n",
       "1335  28.08.2019    Mittwoch  summer season   1336       35         0   \n",
       "1336  29.08.2019  Donnerstag  summer season   1337       35         0   \n",
       "1337  30.08.2019     Freitag  summer season   1338       35         0   \n",
       "1338  31.08.2019     Samstag  summer season   1339       35         1   \n",
       "\n",
       "      isFreiSG  isFreiGR  isFerienZH Ferien Desc ZH  ...  precip_1h_mm_sum  \\\n",
       "1071         0         0           0            nan  ...              0.00   \n",
       "1072         1         1           0            nan  ...              3.14   \n",
       "1073         1         1           0            nan  ...              5.78   \n",
       "1074         0         0           0            nan  ...              4.90   \n",
       "1075         0         0           0            nan  ...              0.28   \n",
       "...        ...       ...         ...            ...  ...               ...   \n",
       "1334         0         0           0            nan  ...              0.00   \n",
       "1335         0         0           0            nan  ...              0.00   \n",
       "1336         0         0           0            nan  ...              0.16   \n",
       "1337         0         0           0            nan  ...              0.00   \n",
       "1338         1         1           0            nan  ...              0.03   \n",
       "\n",
       "      fresh_snow_1h_cm_sum  wind_speed_mean_10m_1h_ms_avg  \\\n",
       "1071                   0.0                           11.5   \n",
       "1072                   5.3                           12.2   \n",
       "1073                   9.2                           14.0   \n",
       "1074                   7.7                           12.1   \n",
       "1075                   0.0                           11.8   \n",
       "...                    ...                            ...   \n",
       "1334                   0.0                           11.2   \n",
       "1335                   0.0                            5.6   \n",
       "1336                   0.0                            5.8   \n",
       "1337                   0.0                            5.7   \n",
       "1338                   0.0                            5.8   \n",
       "\n",
       "     weather_symbol_1h_idx_spe  number_of_events  isHumorfestival  Schalter  \\\n",
       "1071                       0.0                 1                1        43   \n",
       "1072                       0.0                 1                1        40   \n",
       "1073                       0.0                 1                1        35   \n",
       "1074                       0.0                 1                1        33   \n",
       "1075                       0.0                 3                1        37   \n",
       "...                        ...               ...              ...       ...   \n",
       "1334                       0.0                 2                0        59   \n",
       "1335                       1.1                 2                0        61   \n",
       "1336                       0.0                 2                0        76   \n",
       "1337                       0.7                 3                0       157   \n",
       "1338                       2.9                 3                0       183   \n",
       "\n",
       "     Tel  Mail  Total Anfragen  \n",
       "1071  41    31             115  \n",
       "1072  35    20              95  \n",
       "1073  30    15              80  \n",
       "1074  36    32             101  \n",
       "1075  40    35             112  \n",
       "...   ..   ...             ...  \n",
       "1334  26    29             114  \n",
       "1335  40    19             120  \n",
       "1336  38    23             137  \n",
       "1337  48    27             232  \n",
       "1338  33    23             239  \n",
       "\n",
       "[268 rows x 55 columns]"
      ]
     },
     "execution_count": 86,
     "metadata": {},
     "output_type": "execute_result"
    }
   ],
   "source": [
    "X2, y2 = d.iloc[:,:-4],d.iloc[:,-4]\n",
    "X_train_2, X_test_2, y_train_2, y_test_2= train_test_split(X2, y2, test_size=0.2, \n",
    "                                                        random_state=122, shuffle=False)\n",
    "len(X_test_2)\n",
    "df[-268:]"
   ]
  },
  {
   "cell_type": "code",
   "execution_count": 89,
   "metadata": {
    "ExecuteTime": {
     "end_time": "2019-11-30T10:29:49.105711Z",
     "start_time": "2019-11-30T10:29:49.085909Z"
    }
   },
   "outputs": [
    {
     "data": {
      "text/html": [
       "<div>\n",
       "<style scoped>\n",
       "    .dataframe tbody tr th:only-of-type {\n",
       "        vertical-align: middle;\n",
       "    }\n",
       "\n",
       "    .dataframe tbody tr th {\n",
       "        vertical-align: top;\n",
       "    }\n",
       "\n",
       "    .dataframe thead th {\n",
       "        text-align: right;\n",
       "    }\n",
       "</style>\n",
       "<table border=\"1\" class=\"dataframe\">\n",
       "  <thead>\n",
       "    <tr style=\"text-align: right;\">\n",
       "      <th></th>\n",
       "      <th>Datum</th>\n",
       "      <th>Wochentag</th>\n",
       "      <th>season</th>\n",
       "      <th>TagNr</th>\n",
       "      <th>WocheNr</th>\n",
       "      <th>isFreiZH</th>\n",
       "      <th>isFreiSG</th>\n",
       "      <th>isFreiGR</th>\n",
       "      <th>isFerienZH</th>\n",
       "      <th>Ferien Desc ZH</th>\n",
       "      <th>...</th>\n",
       "      <th>precip_1h_mm_sum</th>\n",
       "      <th>fresh_snow_1h_cm_sum</th>\n",
       "      <th>wind_speed_mean_10m_1h_ms_avg</th>\n",
       "      <th>weather_symbol_1h_idx_spe</th>\n",
       "      <th>number_of_events</th>\n",
       "      <th>isHumorfestival</th>\n",
       "      <th>Schalter</th>\n",
       "      <th>Tel</th>\n",
       "      <th>Mail</th>\n",
       "      <th>Total Anfragen</th>\n",
       "    </tr>\n",
       "  </thead>\n",
       "  <tbody>\n",
       "    <tr>\n",
       "      <th>706</th>\n",
       "      <td>07.12.2017</td>\n",
       "      <td>Donnerstag</td>\n",
       "      <td>winter season</td>\n",
       "      <td>707</td>\n",
       "      <td>49</td>\n",
       "      <td>0</td>\n",
       "      <td>0</td>\n",
       "      <td>0</td>\n",
       "      <td>0</td>\n",
       "      <td>nan</td>\n",
       "      <td>...</td>\n",
       "      <td>0.0</td>\n",
       "      <td>0.0</td>\n",
       "      <td>8.9</td>\n",
       "      <td>1.6</td>\n",
       "      <td>0</td>\n",
       "      <td>1</td>\n",
       "      <td>35</td>\n",
       "      <td>38</td>\n",
       "      <td>26</td>\n",
       "      <td>99</td>\n",
       "    </tr>\n",
       "  </tbody>\n",
       "</table>\n",
       "<p>1 rows × 55 columns</p>\n",
       "</div>"
      ],
      "text/plain": [
       "          Datum   Wochentag         season  TagNr  WocheNr  isFreiZH  \\\n",
       "706  07.12.2017  Donnerstag  winter season    707       49         0   \n",
       "\n",
       "     isFreiSG  isFreiGR  isFerienZH Ferien Desc ZH  ...  precip_1h_mm_sum  \\\n",
       "706         0         0           0            nan  ...               0.0   \n",
       "\n",
       "     fresh_snow_1h_cm_sum  wind_speed_mean_10m_1h_ms_avg  \\\n",
       "706                   0.0                            8.9   \n",
       "\n",
       "    weather_symbol_1h_idx_spe  number_of_events  isHumorfestival  Schalter  \\\n",
       "706                       1.6                 0                1        35   \n",
       "\n",
       "    Tel  Mail  Total Anfragen  \n",
       "706  38    26              99  \n",
       "\n",
       "[1 rows x 55 columns]"
      ]
     },
     "execution_count": 89,
     "metadata": {},
     "output_type": "execute_result"
    }
   ],
   "source": [
    "df[df['Datum']=='07.12.2017']"
   ]
  },
  {
   "cell_type": "code",
   "execution_count": 91,
   "metadata": {
    "ExecuteTime": {
     "end_time": "2019-11-30T10:32:21.689226Z",
     "start_time": "2019-11-30T10:32:21.670090Z"
    }
   },
   "outputs": [
    {
     "data": {
      "text/html": [
       "<div>\n",
       "<style scoped>\n",
       "    .dataframe tbody tr th:only-of-type {\n",
       "        vertical-align: middle;\n",
       "    }\n",
       "\n",
       "    .dataframe tbody tr th {\n",
       "        vertical-align: top;\n",
       "    }\n",
       "\n",
       "    .dataframe thead th {\n",
       "        text-align: right;\n",
       "    }\n",
       "</style>\n",
       "<table border=\"1\" class=\"dataframe\">\n",
       "  <thead>\n",
       "    <tr style=\"text-align: right;\">\n",
       "      <th></th>\n",
       "      <th>Datum</th>\n",
       "      <th>Wochentag</th>\n",
       "      <th>season</th>\n",
       "      <th>TagNr</th>\n",
       "      <th>WocheNr</th>\n",
       "      <th>isFreiZH</th>\n",
       "      <th>isFreiSG</th>\n",
       "      <th>isFreiGR</th>\n",
       "      <th>isFerienZH</th>\n",
       "      <th>Ferien Desc ZH</th>\n",
       "      <th>...</th>\n",
       "      <th>precip_1h_mm_sum</th>\n",
       "      <th>fresh_snow_1h_cm_sum</th>\n",
       "      <th>wind_speed_mean_10m_1h_ms_avg</th>\n",
       "      <th>weather_symbol_1h_idx_spe</th>\n",
       "      <th>number_of_events</th>\n",
       "      <th>isHumorfestival</th>\n",
       "      <th>Schalter</th>\n",
       "      <th>Tel</th>\n",
       "      <th>Mail</th>\n",
       "      <th>Total Anfragen</th>\n",
       "    </tr>\n",
       "  </thead>\n",
       "  <tbody>\n",
       "    <tr>\n",
       "      <th>973</th>\n",
       "      <td>31.08.2018</td>\n",
       "      <td>Freitag</td>\n",
       "      <td>summer season</td>\n",
       "      <td>974</td>\n",
       "      <td>35</td>\n",
       "      <td>0</td>\n",
       "      <td>0</td>\n",
       "      <td>0</td>\n",
       "      <td>0</td>\n",
       "      <td>nan</td>\n",
       "      <td>...</td>\n",
       "      <td>2.11</td>\n",
       "      <td>0.0</td>\n",
       "      <td>4.9</td>\n",
       "      <td>0.0</td>\n",
       "      <td>0</td>\n",
       "      <td>0</td>\n",
       "      <td>28</td>\n",
       "      <td>28</td>\n",
       "      <td>12</td>\n",
       "      <td>68</td>\n",
       "    </tr>\n",
       "  </tbody>\n",
       "</table>\n",
       "<p>1 rows × 55 columns</p>\n",
       "</div>"
      ],
      "text/plain": [
       "          Datum Wochentag         season  TagNr  WocheNr  isFreiZH  isFreiSG  \\\n",
       "973  31.08.2018   Freitag  summer season    974       35         0         0   \n",
       "\n",
       "     isFreiGR  isFerienZH Ferien Desc ZH  ...  precip_1h_mm_sum  \\\n",
       "973         0           0            nan  ...              2.11   \n",
       "\n",
       "     fresh_snow_1h_cm_sum  wind_speed_mean_10m_1h_ms_avg  \\\n",
       "973                   0.0                            4.9   \n",
       "\n",
       "    weather_symbol_1h_idx_spe  number_of_events  isHumorfestival  Schalter  \\\n",
       "973                       0.0                 0                0        28   \n",
       "\n",
       "    Tel  Mail  Total Anfragen  \n",
       "973  28    12              68  \n",
       "\n",
       "[1 rows x 55 columns]"
      ]
     },
     "execution_count": 91,
     "metadata": {},
     "output_type": "execute_result"
    }
   ],
   "source": [
    "df[df['Datum']=='31.08.2018']"
   ]
  },
  {
   "cell_type": "code",
   "execution_count": 93,
   "metadata": {
    "ExecuteTime": {
     "end_time": "2019-11-30T10:33:26.506921Z",
     "start_time": "2019-11-30T10:33:26.500138Z"
    }
   },
   "outputs": [
    {
     "data": {
      "text/plain": [
       "706    35\n",
       "707    48\n",
       "708    32\n",
       "709    27\n",
       "710    32\n",
       "       ..\n",
       "969    42\n",
       "970    39\n",
       "971    29\n",
       "972    41\n",
       "973    28\n",
       "Name: Schalter, Length: 268, dtype: int64"
      ]
     },
     "execution_count": 93,
     "metadata": {},
     "output_type": "execute_result"
    }
   ],
   "source": [
    "df.iloc[705:973,-4]"
   ]
  },
  {
   "cell_type": "code",
   "execution_count": 74,
   "metadata": {
    "ExecuteTime": {
     "end_time": "2019-11-30T10:14:37.912897Z",
     "start_time": "2019-11-30T10:14:37.620408Z"
    }
   },
   "outputs": [],
   "source": [
    "regressor = RandomForestRegressor(n_estimators=40, random_state=1)\n",
    "regressor.fit(X_train_2, y_train_2)\n",
    "y_pred_2 = regressor.predict(X_test_2)"
   ]
  },
  {
   "cell_type": "code",
   "execution_count": 76,
   "metadata": {
    "ExecuteTime": {
     "end_time": "2019-11-30T10:14:53.994156Z",
     "start_time": "2019-11-30T10:14:53.989648Z"
    }
   },
   "outputs": [],
   "source": [
    "def mape_vectorized_v2(a, b): \n",
    "    mask = a != 0\n",
    "    return (np.fabs(a - b)/a)[mask].mean()"
   ]
  },
  {
   "cell_type": "code",
   "execution_count": 81,
   "metadata": {
    "ExecuteTime": {
     "end_time": "2019-11-30T10:15:41.558541Z",
     "start_time": "2019-11-30T10:15:41.203884Z"
    }
   },
   "outputs": [
    {
     "name": "stdout",
     "output_type": "stream",
     "text": [
      "Mean Absolute Error: 21.18348880597015\n",
      "Mean Squared Error: 1270.60953125\n",
      "Root Mean Squared Error: 35.64561026620248\n",
      "Mean Absolute Percentage Error : 0.4686706045268409\n"
     ]
    },
    {
     "data": {
      "text/plain": [
       "<matplotlib.axes._subplots.AxesSubplot at 0x1320fb860>"
      ]
     },
     "execution_count": 81,
     "metadata": {},
     "output_type": "execute_result"
    },
    {
     "data": {
      "image/png": "[encoded data removed]",
      "text/plain": [
       "<Figure size 864x864 with 1 Axes>"
      ]
     },
     "metadata": {},
     "output_type": "display_data"
    }
   ],
   "source": [
    "\n",
    "print('Mean Absolute Error:', metrics.mean_absolute_error(y_test_2, y_pred))\n",
    "print('Mean Squared Error:', metrics.mean_squared_error(y_test_2, y_pred))\n",
    "print('Root Mean Squared Error:', np.sqrt(metrics.mean_squared_error(y_test_2, y_pred)))\n",
    "print(\"Mean Absolute Percentage Error : \" + str(mape_vectorized_v2( y_test_2, y_pred)))\n",
    "\n",
    "feat_importances = pd.Series(regressor.feature_importances_, index=X2.columns)\n",
    "width = 12\n",
    "height = 12\n",
    "plt.figure(figsize=(width, height))\n",
    "feat_importances.nlargest(20).plot(kind='barh')"
   ]
  },
  {
   "cell_type": "code",
   "execution_count": 94,
   "metadata": {
    "ExecuteTime": {
     "end_time": "2019-11-30T10:33:35.968955Z",
     "start_time": "2019-11-30T10:33:35.686229Z"
    }
   },
   "outputs": [
    {
     "data": {
      "text/plain": [
       "Text(0.5, 1.0, 'Schalter Besucher:Prediction vs. Test Value')"
      ]
     },
     "execution_count": 94,
     "metadata": {},
     "output_type": "execute_result"
    },
    {
     "data": {
      "image/png": "[encoded data removed]",
      "text/plain": [
       "<Figure size 720x720 with 1 Axes>"
      ]
     },
     "metadata": {},
     "output_type": "display_data"
    }
   ],
   "source": [
    "width = 10\n",
    "height = 10\n",
    "plt.figure(figsize=(width, height))\n",
    "t = pd.date_range(start='2018-12-07',end='2019-08-31')\n",
    "\n",
    "plt.plot\n",
    "plt.plot(t, y_pred)\n",
    "plt.plot(t, y_test_2)\n",
    "plt.plot(t, df.iloc[705:973,-4])\n",
    "\n",
    "plt.xlabel('Datum')\n",
    "plt.ylabel('Schalter Anzahl')\n",
    "plt.legend(('Prediction', 'Test Value','Last year'), loc='upper center')\n",
    "plt.title('Schalter Besucher:Prediction vs. Test Value')"
   ]
  },
  {
   "cell_type": "code",
   "execution_count": null,
   "metadata": {},
   "outputs": [],
   "source": []
  },
  {
   "cell_type": "markdown",
   "metadata": {},
   "source": [
    "# Preprocessing Error"
   ]
  },
  {
   "cell_type": "code",
   "execution_count": 78,
   "metadata": {
    "ExecuteTime": {
     "end_time": "2019-11-30T09:45:33.326338Z",
     "start_time": "2019-11-30T09:45:33.319128Z"
    }
   },
   "outputs": [],
   "source": [
    "list = ['Datum',\n",
    " 'Wochentag',\n",
    " 'season',\n",
    " 'isFerienZH',\n",
    " 'Ferien Desc ZH',\n",
    " 'isFerienSG',\n",
    " 'Ferien Desc SG',\n",
    " 'isFerienGR',\n",
    " 'Ferien Desc GR',\n",
    " 'Feiertag Desc',\n",
    " 'isFeiertag ZH',\n",
    " 'isFeiertag SG',\n",
    " 'isFeiertag GR',\n",
    " 't_2m_c_avg',\n",
    " 'snow_depth_cm_avg',\n",
    " 'visibility_m_avg',\n",
    " 'wind_speed_10m_ms_max',\n",
    " 'prob_precip_1h_p_avg',\n",
    " 'prob_tstorm_1h_p_avg',\n",
    " 'hail_idx_avg',\n",
    " 'wind_gusts_10m_ms_max',\n",
    " 'wind_speed_mean_10m_24h_ms_avg',\n",
    " 't_max_2m_24h_c_max',\n",
    " 't_min_2m_24h_c_min',\n",
    " 'precip_24h_mm_max',\n",
    " 'fresh_snow_24h_cm_max',\n",
    " 'is_sleet_1h_idx_max',\n",
    " 'is_fog_1h_idx_max',\n",
    " 'precip_1h_mm_sum',\n",
    " 'fresh_snow_1h_cm_sum',\n",
    " 'wind_speed_mean_10m_1h_ms_avg',\n",
    " 'weather_symbol_1h_idx_spe',\n",
    " 'number_of_events',\n",
    " 'Schalter',\n",
    " 'Tel',\n",
    " 'Mail',\n",
    " 'Total Anfragen']\n",
    "df = df[list]"
   ]
  },
  {
   "cell_type": "markdown",
   "metadata": {},
   "source": [
    "## LabelEncoder "
   ]
  },
  {
   "cell_type": "code",
   "execution_count": 79,
   "metadata": {
    "ExecuteTime": {
     "end_time": "2019-11-30T09:45:34.800748Z",
     "start_time": "2019-11-30T09:45:34.793450Z"
    }
   },
   "outputs": [],
   "source": [
    "df['Ferien Desc ZH'].fillna(value=0, inplace = True)\n",
    "df['Ferien Desc GR'].fillna(value=0, inplace = True)\n",
    "df['Ferien Desc SG'].fillna(value=0, inplace = True)\n",
    "df['Feiertag Desc'].fillna(value=0, inplace = True)"
   ]
  },
  {
   "cell_type": "code",
   "execution_count": 80,
   "metadata": {
    "ExecuteTime": {
     "end_time": "2019-11-30T09:45:35.742042Z",
     "start_time": "2019-11-30T09:45:35.728983Z"
    }
   },
   "outputs": [],
   "source": [
    "df = df.astype({\"Ferien Desc ZH\": str, \"Ferien Desc GR\": str, \"Ferien Desc SG\": str, \"Feiertag Desc\": str})"
   ]
  },
  {
   "cell_type": "code",
   "execution_count": 81,
   "metadata": {
    "ExecuteTime": {
     "end_time": "2019-11-30T09:45:36.178860Z",
     "start_time": "2019-11-30T09:45:36.171174Z"
    }
   },
   "outputs": [
    {
     "data": {
      "text/plain": [
       "0                   1023\n",
       "Sommerferien         145\n",
       "Sportferien           64\n",
       "Fruehlingsferien      61\n",
       "Herbstferien          45\n",
       "Name: Ferien Desc ZH, dtype: int64"
      ]
     },
     "execution_count": 81,
     "metadata": {},
     "output_type": "execute_result"
    }
   ],
   "source": [
    "df['Ferien Desc ZH'].value_counts()"
   ]
  },
  {
   "cell_type": "code",
   "execution_count": 82,
   "metadata": {
    "ExecuteTime": {
     "end_time": "2019-11-30T09:45:36.455008Z",
     "start_time": "2019-11-30T09:45:36.416635Z"
    }
   },
   "outputs": [
    {
     "data": {
      "text/html": [
       "<div>\n",
       "<style scoped>\n",
       "    .dataframe tbody tr th:only-of-type {\n",
       "        vertical-align: middle;\n",
       "    }\n",
       "\n",
       "    .dataframe tbody tr th {\n",
       "        vertical-align: top;\n",
       "    }\n",
       "\n",
       "    .dataframe thead th {\n",
       "        text-align: right;\n",
       "    }\n",
       "</style>\n",
       "<table border=\"1\" class=\"dataframe\">\n",
       "  <thead>\n",
       "    <tr style=\"text-align: right;\">\n",
       "      <th></th>\n",
       "      <th>Wochentag</th>\n",
       "      <th>season</th>\n",
       "      <th>isFerienZH</th>\n",
       "      <th>Ferien Desc ZH</th>\n",
       "      <th>isFerienSG</th>\n",
       "      <th>Ferien Desc SG</th>\n",
       "      <th>isFerienGR</th>\n",
       "      <th>Ferien Desc GR</th>\n",
       "      <th>Feiertag Desc</th>\n",
       "      <th>isFeiertag ZH</th>\n",
       "      <th>...</th>\n",
       "      <th>is_fog_1h_idx_max</th>\n",
       "      <th>precip_1h_mm_sum</th>\n",
       "      <th>fresh_snow_1h_cm_sum</th>\n",
       "      <th>wind_speed_mean_10m_1h_ms_avg</th>\n",
       "      <th>weather_symbol_1h_idx_spe</th>\n",
       "      <th>number_of_events</th>\n",
       "      <th>Schalter</th>\n",
       "      <th>Tel</th>\n",
       "      <th>Mail</th>\n",
       "      <th>Total Anfragen</th>\n",
       "    </tr>\n",
       "  </thead>\n",
       "  <tbody>\n",
       "    <tr>\n",
       "      <th>0</th>\n",
       "      <td>Freitag</td>\n",
       "      <td>winter season</td>\n",
       "      <td>0</td>\n",
       "      <td>0</td>\n",
       "      <td>0</td>\n",
       "      <td>0</td>\n",
       "      <td>0</td>\n",
       "      <td>0</td>\n",
       "      <td>Neujahr</td>\n",
       "      <td>1</td>\n",
       "      <td>...</td>\n",
       "      <td>1</td>\n",
       "      <td>0.81</td>\n",
       "      <td>1.3</td>\n",
       "      <td>2.6</td>\n",
       "      <td>1.1</td>\n",
       "      <td>0</td>\n",
       "      <td>10</td>\n",
       "      <td>20</td>\n",
       "      <td>5</td>\n",
       "      <td>35</td>\n",
       "    </tr>\n",
       "    <tr>\n",
       "      <th>1</th>\n",
       "      <td>Samstag</td>\n",
       "      <td>winter season</td>\n",
       "      <td>0</td>\n",
       "      <td>0</td>\n",
       "      <td>0</td>\n",
       "      <td>0</td>\n",
       "      <td>0</td>\n",
       "      <td>0</td>\n",
       "      <td>Berchtoldstag</td>\n",
       "      <td>0</td>\n",
       "      <td>...</td>\n",
       "      <td>1</td>\n",
       "      <td>1.21</td>\n",
       "      <td>1.9</td>\n",
       "      <td>5.4</td>\n",
       "      <td>0.0</td>\n",
       "      <td>0</td>\n",
       "      <td>78</td>\n",
       "      <td>59</td>\n",
       "      <td>22</td>\n",
       "      <td>159</td>\n",
       "    </tr>\n",
       "    <tr>\n",
       "      <th>2</th>\n",
       "      <td>Sonntag</td>\n",
       "      <td>winter season</td>\n",
       "      <td>0</td>\n",
       "      <td>0</td>\n",
       "      <td>0</td>\n",
       "      <td>0</td>\n",
       "      <td>0</td>\n",
       "      <td>0</td>\n",
       "      <td>0</td>\n",
       "      <td>0</td>\n",
       "      <td>...</td>\n",
       "      <td>0</td>\n",
       "      <td>0.23</td>\n",
       "      <td>0.0</td>\n",
       "      <td>5.9</td>\n",
       "      <td>0.0</td>\n",
       "      <td>0</td>\n",
       "      <td>0</td>\n",
       "      <td>0</td>\n",
       "      <td>0</td>\n",
       "      <td>0</td>\n",
       "    </tr>\n",
       "    <tr>\n",
       "      <th>3</th>\n",
       "      <td>Montag</td>\n",
       "      <td>winter season</td>\n",
       "      <td>0</td>\n",
       "      <td>0</td>\n",
       "      <td>0</td>\n",
       "      <td>0</td>\n",
       "      <td>0</td>\n",
       "      <td>0</td>\n",
       "      <td>0</td>\n",
       "      <td>0</td>\n",
       "      <td>...</td>\n",
       "      <td>0</td>\n",
       "      <td>0.13</td>\n",
       "      <td>0.3</td>\n",
       "      <td>2.4</td>\n",
       "      <td>0.0</td>\n",
       "      <td>0</td>\n",
       "      <td>0</td>\n",
       "      <td>0</td>\n",
       "      <td>0</td>\n",
       "      <td>0</td>\n",
       "    </tr>\n",
       "    <tr>\n",
       "      <th>4</th>\n",
       "      <td>Dienstag</td>\n",
       "      <td>winter season</td>\n",
       "      <td>0</td>\n",
       "      <td>0</td>\n",
       "      <td>0</td>\n",
       "      <td>0</td>\n",
       "      <td>0</td>\n",
       "      <td>0</td>\n",
       "      <td>0</td>\n",
       "      <td>0</td>\n",
       "      <td>...</td>\n",
       "      <td>0</td>\n",
       "      <td>0.00</td>\n",
       "      <td>0.0</td>\n",
       "      <td>3.4</td>\n",
       "      <td>1.3</td>\n",
       "      <td>0</td>\n",
       "      <td>0</td>\n",
       "      <td>0</td>\n",
       "      <td>0</td>\n",
       "      <td>0</td>\n",
       "    </tr>\n",
       "    <tr>\n",
       "      <th>...</th>\n",
       "      <td>...</td>\n",
       "      <td>...</td>\n",
       "      <td>...</td>\n",
       "      <td>...</td>\n",
       "      <td>...</td>\n",
       "      <td>...</td>\n",
       "      <td>...</td>\n",
       "      <td>...</td>\n",
       "      <td>...</td>\n",
       "      <td>...</td>\n",
       "      <td>...</td>\n",
       "      <td>...</td>\n",
       "      <td>...</td>\n",
       "      <td>...</td>\n",
       "      <td>...</td>\n",
       "      <td>...</td>\n",
       "      <td>...</td>\n",
       "      <td>...</td>\n",
       "      <td>...</td>\n",
       "      <td>...</td>\n",
       "      <td>...</td>\n",
       "    </tr>\n",
       "    <tr>\n",
       "      <th>1334</th>\n",
       "      <td>Dienstag</td>\n",
       "      <td>summer season</td>\n",
       "      <td>0</td>\n",
       "      <td>0</td>\n",
       "      <td>0</td>\n",
       "      <td>0</td>\n",
       "      <td>0</td>\n",
       "      <td>0</td>\n",
       "      <td>0</td>\n",
       "      <td>0</td>\n",
       "      <td>...</td>\n",
       "      <td>0</td>\n",
       "      <td>0.00</td>\n",
       "      <td>0.0</td>\n",
       "      <td>11.2</td>\n",
       "      <td>0.0</td>\n",
       "      <td>2</td>\n",
       "      <td>59</td>\n",
       "      <td>26</td>\n",
       "      <td>29</td>\n",
       "      <td>114</td>\n",
       "    </tr>\n",
       "    <tr>\n",
       "      <th>1335</th>\n",
       "      <td>Mittwoch</td>\n",
       "      <td>summer season</td>\n",
       "      <td>0</td>\n",
       "      <td>0</td>\n",
       "      <td>0</td>\n",
       "      <td>0</td>\n",
       "      <td>0</td>\n",
       "      <td>0</td>\n",
       "      <td>0</td>\n",
       "      <td>0</td>\n",
       "      <td>...</td>\n",
       "      <td>0</td>\n",
       "      <td>0.00</td>\n",
       "      <td>0.0</td>\n",
       "      <td>5.6</td>\n",
       "      <td>1.1</td>\n",
       "      <td>2</td>\n",
       "      <td>61</td>\n",
       "      <td>40</td>\n",
       "      <td>19</td>\n",
       "      <td>120</td>\n",
       "    </tr>\n",
       "    <tr>\n",
       "      <th>1336</th>\n",
       "      <td>Donnerstag</td>\n",
       "      <td>summer season</td>\n",
       "      <td>0</td>\n",
       "      <td>0</td>\n",
       "      <td>0</td>\n",
       "      <td>0</td>\n",
       "      <td>0</td>\n",
       "      <td>0</td>\n",
       "      <td>0</td>\n",
       "      <td>0</td>\n",
       "      <td>...</td>\n",
       "      <td>0</td>\n",
       "      <td>0.16</td>\n",
       "      <td>0.0</td>\n",
       "      <td>5.8</td>\n",
       "      <td>0.0</td>\n",
       "      <td>2</td>\n",
       "      <td>76</td>\n",
       "      <td>38</td>\n",
       "      <td>23</td>\n",
       "      <td>137</td>\n",
       "    </tr>\n",
       "    <tr>\n",
       "      <th>1337</th>\n",
       "      <td>Freitag</td>\n",
       "      <td>summer season</td>\n",
       "      <td>0</td>\n",
       "      <td>0</td>\n",
       "      <td>0</td>\n",
       "      <td>0</td>\n",
       "      <td>0</td>\n",
       "      <td>0</td>\n",
       "      <td>0</td>\n",
       "      <td>0</td>\n",
       "      <td>...</td>\n",
       "      <td>0</td>\n",
       "      <td>0.00</td>\n",
       "      <td>0.0</td>\n",
       "      <td>5.7</td>\n",
       "      <td>0.7</td>\n",
       "      <td>3</td>\n",
       "      <td>157</td>\n",
       "      <td>48</td>\n",
       "      <td>27</td>\n",
       "      <td>232</td>\n",
       "    </tr>\n",
       "    <tr>\n",
       "      <th>1338</th>\n",
       "      <td>Samstag</td>\n",
       "      <td>summer season</td>\n",
       "      <td>0</td>\n",
       "      <td>0</td>\n",
       "      <td>0</td>\n",
       "      <td>0</td>\n",
       "      <td>0</td>\n",
       "      <td>0</td>\n",
       "      <td>0</td>\n",
       "      <td>0</td>\n",
       "      <td>...</td>\n",
       "      <td>0</td>\n",
       "      <td>0.03</td>\n",
       "      <td>0.0</td>\n",
       "      <td>5.8</td>\n",
       "      <td>2.9</td>\n",
       "      <td>3</td>\n",
       "      <td>183</td>\n",
       "      <td>33</td>\n",
       "      <td>23</td>\n",
       "      <td>239</td>\n",
       "    </tr>\n",
       "  </tbody>\n",
       "</table>\n",
       "<p>1338 rows × 36 columns</p>\n",
       "</div>"
      ],
      "text/plain": [
       "       Wochentag         season  isFerienZH Ferien Desc ZH  isFerienSG  \\\n",
       "0        Freitag  winter season           0              0           0   \n",
       "1        Samstag  winter season           0              0           0   \n",
       "2        Sonntag  winter season           0              0           0   \n",
       "3         Montag  winter season           0              0           0   \n",
       "4       Dienstag  winter season           0              0           0   \n",
       "...          ...            ...         ...            ...         ...   \n",
       "1334    Dienstag  summer season           0              0           0   \n",
       "1335    Mittwoch  summer season           0              0           0   \n",
       "1336  Donnerstag  summer season           0              0           0   \n",
       "1337     Freitag  summer season           0              0           0   \n",
       "1338     Samstag  summer season           0              0           0   \n",
       "\n",
       "     Ferien Desc SG  isFerienGR Ferien Desc GR  Feiertag Desc  isFeiertag ZH  \\\n",
       "0                 0           0              0        Neujahr              1   \n",
       "1                 0           0              0  Berchtoldstag              0   \n",
       "2                 0           0              0              0              0   \n",
       "3                 0           0              0              0              0   \n",
       "4                 0           0              0              0              0   \n",
       "...             ...         ...            ...            ...            ...   \n",
       "1334              0           0              0              0              0   \n",
       "1335              0           0              0              0              0   \n",
       "1336              0           0              0              0              0   \n",
       "1337              0           0              0              0              0   \n",
       "1338              0           0              0              0              0   \n",
       "\n",
       "      ...  is_fog_1h_idx_max  precip_1h_mm_sum  fresh_snow_1h_cm_sum  \\\n",
       "0     ...                  1              0.81                   1.3   \n",
       "1     ...                  1              1.21                   1.9   \n",
       "2     ...                  0              0.23                   0.0   \n",
       "3     ...                  0              0.13                   0.3   \n",
       "4     ...                  0              0.00                   0.0   \n",
       "...   ...                ...               ...                   ...   \n",
       "1334  ...                  0              0.00                   0.0   \n",
       "1335  ...                  0              0.00                   0.0   \n",
       "1336  ...                  0              0.16                   0.0   \n",
       "1337  ...                  0              0.00                   0.0   \n",
       "1338  ...                  0              0.03                   0.0   \n",
       "\n",
       "      wind_speed_mean_10m_1h_ms_avg  weather_symbol_1h_idx_spe  \\\n",
       "0                               2.6                        1.1   \n",
       "1                               5.4                        0.0   \n",
       "2                               5.9                        0.0   \n",
       "3                               2.4                        0.0   \n",
       "4                               3.4                        1.3   \n",
       "...                             ...                        ...   \n",
       "1334                           11.2                        0.0   \n",
       "1335                            5.6                        1.1   \n",
       "1336                            5.8                        0.0   \n",
       "1337                            5.7                        0.7   \n",
       "1338                            5.8                        2.9   \n",
       "\n",
       "      number_of_events  Schalter  Tel  Mail  Total Anfragen  \n",
       "0                    0        10   20     5              35  \n",
       "1                    0        78   59    22             159  \n",
       "2                    0         0    0     0               0  \n",
       "3                    0         0    0     0               0  \n",
       "4                    0         0    0     0               0  \n",
       "...                ...       ...  ...   ...             ...  \n",
       "1334                 2        59   26    29             114  \n",
       "1335                 2        61   40    19             120  \n",
       "1336                 2        76   38    23             137  \n",
       "1337                 3       157   48    27             232  \n",
       "1338                 3       183   33    23             239  \n",
       "\n",
       "[1338 rows x 36 columns]"
      ]
     },
     "execution_count": 82,
     "metadata": {},
     "output_type": "execute_result"
    }
   ],
   "source": [
    "df=df.drop(['Datum'],axis=1)\n",
    "df"
   ]
  },
  {
   "cell_type": "code",
   "execution_count": 83,
   "metadata": {
    "ExecuteTime": {
     "end_time": "2019-11-30T09:45:37.414668Z",
     "start_time": "2019-11-30T09:45:37.392904Z"
    }
   },
   "outputs": [
    {
     "name": "stdout",
     "output_type": "stream",
     "text": [
      "  Wochentag         season Ferien Desc ZH Ferien Desc SG Ferien Desc GR  \\\n",
      "0   Freitag  winter season              0              0              0   \n",
      "1   Samstag  winter season              0              0              0   \n",
      "2   Sonntag  winter season              0              0              0   \n",
      "3    Montag  winter season              0              0              0   \n",
      "4  Dienstag  winter season              0              0              0   \n",
      "\n",
      "   Feiertag Desc  \n",
      "0        Neujahr  \n",
      "1  Berchtoldstag  \n",
      "2              0  \n",
      "3              0  \n",
      "4              0  \n"
     ]
    }
   ],
   "source": [
    "# Create a boolean mask for categorical columns \n",
    "categorical_mask = (df.dtypes == object)  # true → is categorical\n",
    "# Get list of categorical column names\n",
    "categorical_columns = df.columns[categorical_mask].tolist()\n",
    "# Print the head of the categorical columns \n",
    "print(df[categorical_columns].head())\n",
    "# Create LabelEncoder object: le \n",
    "le = LabelEncoder()\n",
    "# Apply LabelEncoder to categorical columns\n",
    "df[categorical_columns] = df[categorical_columns].apply(lambda x: le.fit_transform(x))\n",
    "# Print the head of the LabelEncoded categorical columns print(df[categorical_columns].head())"
   ]
  },
  {
   "cell_type": "markdown",
   "metadata": {},
   "source": [
    "## One Hot Encoding"
   ]
  },
  {
   "cell_type": "code",
   "execution_count": 84,
   "metadata": {
    "ExecuteTime": {
     "end_time": "2019-11-30T09:45:38.687860Z",
     "start_time": "2019-11-30T09:45:38.670620Z"
    }
   },
   "outputs": [
    {
     "name": "stdout",
     "output_type": "stream",
     "text": [
      "(1338, 36)\n",
      "(1338, 96)\n",
      "<class 'numpy.ndarray'>\n"
     ]
    },
    {
     "name": "stderr",
     "output_type": "stream",
     "text": [
      "/Users/fight/2019_hack_arosa/lib/python3.7/site-packages/sklearn/preprocessing/_encoders.py:415: FutureWarning: The handling of integer data will change in version 0.22. Currently, the categories are determined based on the range [0, max(values)], while in the future they will be determined based on the unique values.\n",
      "If you want the future behaviour and silence this warning, you can specify \"categories='auto'\".\n",
      "In case you used a LabelEncoder before this OneHotEncoder to convert the categories to integers, then you can now use the OneHotEncoder directly.\n",
      "  warnings.warn(msg, FutureWarning)\n",
      "/Users/fight/2019_hack_arosa/lib/python3.7/site-packages/sklearn/preprocessing/_encoders.py:451: DeprecationWarning: The 'categorical_features' keyword is deprecated in version 0.20 and will be removed in 0.22. You can use the ColumnTransformer instead.\n",
      "  \"use the ColumnTransformer instead.\", DeprecationWarning)\n"
     ]
    },
    {
     "data": {
      "text/plain": [
       "array([[  0.,   0.,   1., ...,  20.,   5.,  35.],\n",
       "       [  0.,   0.,   0., ...,  59.,  22., 159.],\n",
       "       [  0.,   0.,   0., ...,   0.,   0.,   0.],\n",
       "       ...,\n",
       "       [  0.,   1.,   0., ...,  38.,  23., 137.],\n",
       "       [  0.,   0.,   1., ...,  48.,  27., 232.],\n",
       "       [  0.,   0.,   0., ...,  33.,  23., 239.]])"
      ]
     },
     "execution_count": 84,
     "metadata": {},
     "output_type": "execute_result"
    }
   ],
   "source": [
    "# Create OneHotEncoder: ohe\n",
    "ohe = OneHotEncoder(categorical_features=categorical_mask, sparse=False)\n",
    "# Apply OneHotEncoder to categorical columns - output is no longer a dataframe: df_encoded df_encoded = ohe.fit_transform(df)\n",
    "# Print first 5 rows of the resulting dataset - again, this will no longer be a pandas dataframe print(df_encoded[:5, :])\n",
    "# Print the shape of the original DataFrame \n",
    "d_encoded = ohe.fit_transform(df)\n",
    "print(df.shape)\n",
    "# Print the shape of the transformed array \n",
    "print(d_encoded.shape)\n",
    "print(type(d_encoded))\n",
    "d_encoded"
   ]
  },
  {
   "cell_type": "code",
   "execution_count": null,
   "metadata": {},
   "outputs": [],
   "source": []
  },
  {
   "cell_type": "markdown",
   "metadata": {},
   "source": [
    "## Modelling"
   ]
  },
  {
   "cell_type": "code",
   "execution_count": 85,
   "metadata": {
    "ExecuteTime": {
     "end_time": "2019-11-30T09:45:40.542604Z",
     "start_time": "2019-11-30T09:45:40.537896Z"
    }
   },
   "outputs": [
    {
     "name": "stdout",
     "output_type": "stream",
     "text": [
      "(1338, 92)\n"
     ]
    }
   ],
   "source": [
    "print(d_encoded[:,:-4].shape)"
   ]
  },
  {
   "cell_type": "code",
   "execution_count": 86,
   "metadata": {
    "ExecuteTime": {
     "end_time": "2019-11-30T09:45:41.066144Z",
     "start_time": "2019-11-30T09:45:41.057629Z"
    }
   },
   "outputs": [
    {
     "name": "stdout",
     "output_type": "stream",
     "text": [
      "(1338, 92)\n"
     ]
    }
   ],
   "source": [
    "X, y = d_encoded[:,:-4],d_encoded[:,-4]\n",
    "print(X.shape)\n",
    "X_train, X_test, y_train, y_test= train_test_split(X, y, test_size=0.2, \n",
    "                                                        random_state=122, shuffle=False)\n",
    "DM_train = xgb.DMatrix(data=X_train,label=y_train)\n",
    "DM_test =  xgb.DMatrix(data=X_test,label=y_test)"
   ]
  },
  {
   "cell_type": "code",
   "execution_count": 87,
   "metadata": {
    "ExecuteTime": {
     "end_time": "2019-11-30T09:45:41.629816Z",
     "start_time": "2019-11-30T09:45:41.595701Z"
    }
   },
   "outputs": [
    {
     "name": "stdout",
     "output_type": "stream",
     "text": [
      "[10:45:41] WARNING: src/objective/regression_obj.cu:152: reg:linear is now deprecated in favor of reg:squarederror.\n",
      "RMSE: 32.232475\n"
     ]
    }
   ],
   "source": [
    "params = {\"booster\":\"gblinear\",\"objective\":\"reg:linear\"}\n",
    "xg_reg = xgb.train(params = params, dtrain=DM_train, num_boost_round=10)\n",
    "\n",
    "preds = xg_reg.predict(DM_test)\n",
    "\n",
    "rmse = np.sqrt(mean_squared_error(y_test,preds))\n",
    "\n",
    "print(\"RMSE: %f\" % (rmse))"
   ]
  },
  {
   "cell_type": "code",
   "execution_count": 88,
   "metadata": {
    "ExecuteTime": {
     "end_time": "2019-11-30T09:45:42.118032Z",
     "start_time": "2019-11-30T09:45:42.111546Z"
    }
   },
   "outputs": [],
   "source": [
    "def train_model(max_depth, \n",
    "                n_estimators,\n",
    "                learning_rate):\n",
    "    params = {\n",
    "        'n_estimators': int(n_estimators),\n",
    "        'max_depth': int(max_depth),\n",
    "        'learning_rate':learning_rate,\n",
    "        'n_jobs': 8, #number of CPU threads\n",
    "        \"booster\":\"gblinear\",\n",
    "        \"objective\":\"reg:squarederror\"\n",
    "    }\n",
    "\n",
    "#     pipeline = Pipeline([\n",
    "#                      (\"vectorizer\", DictVectorizer(sort=False)),\n",
    "#                      (\"clf\", xgb.XGBRegressor(objective = 'reg:squarederror',**params)),\n",
    "\n",
    "#                         ])\n",
    "    \n",
    "#     xgb_fit = pipeline.fit(DM_train)\n",
    "#     preds = xgb_fit.predict(DM_test)\n",
    "#     mse = mean_absolute_error(preds, y_test)\n",
    "\n",
    "    xg_reg = xgb.train(params = params, dtrain=DM_train, num_boost_round=10)\n",
    "    preds = xg_reg.predict(DM_test)\n",
    "    mse = np.sqrt(mean_squared_error(preds, y_test))\n",
    "    return -mse\n",
    "\n",
    "bounds = {\n",
    "    'max_depth':(5,100),\n",
    "    'n_estimators': (100,10000),\n",
    "    'learning_rate': (.001, 0.1),\n",
    "}"
   ]
  },
  {
   "cell_type": "code",
   "execution_count": 89,
   "metadata": {
    "ExecuteTime": {
     "end_time": "2019-11-30T09:45:50.337954Z",
     "start_time": "2019-11-30T09:45:42.929832Z"
    }
   },
   "outputs": [
    {
     "name": "stdout",
     "output_type": "stream",
     "text": [
      "|   iter    |  target   | learni... | max_depth | n_esti... |\n",
      "-------------------------------------------------------------\n",
      "| \u001b[0m 1       \u001b[0m | \u001b[0m-35.53   \u001b[0m | \u001b[0m 0.04229 \u001b[0m | \u001b[0m 73.43   \u001b[0m | \u001b[0m 101.1   \u001b[0m |\n",
      "| \u001b[0m 2       \u001b[0m | \u001b[0m-36.69   \u001b[0m | \u001b[0m 0.03093 \u001b[0m | \u001b[0m 18.94   \u001b[0m | \u001b[0m 1.014e+0\u001b[0m |\n",
      "| \u001b[0m 3       \u001b[0m | \u001b[0m-39.2    \u001b[0m | \u001b[0m 0.01944 \u001b[0m | \u001b[0m 37.83   \u001b[0m | \u001b[0m 4.028e+0\u001b[0m |\n",
      "| \u001b[95m 4       \u001b[0m | \u001b[95m-34.83   \u001b[0m | \u001b[95m 0.05434 \u001b[0m | \u001b[95m 44.82   \u001b[0m | \u001b[95m 6.884e+0\u001b[0m |\n",
      "| \u001b[0m 5       \u001b[0m | \u001b[0m-38.64   \u001b[0m | \u001b[0m 0.02124 \u001b[0m | \u001b[0m 88.42   \u001b[0m | \u001b[0m 371.1   \u001b[0m |\n",
      "| \u001b[95m 6       \u001b[0m | \u001b[95m-34.39   \u001b[0m | \u001b[95m 0.06738 \u001b[0m | \u001b[95m 44.64   \u001b[0m | \u001b[95m 5.631e+0\u001b[0m |\n",
      "| \u001b[0m 7       \u001b[0m | \u001b[0m-41.12   \u001b[0m | \u001b[0m 0.0149  \u001b[0m | \u001b[0m 23.82   \u001b[0m | \u001b[0m 8.027e+0\u001b[0m |\n",
      "| \u001b[95m 8       \u001b[0m | \u001b[95m-33.88   \u001b[0m | \u001b[95m 0.09686 \u001b[0m | \u001b[95m 34.78   \u001b[0m | \u001b[95m 6.954e+0\u001b[0m |\n",
      "| \u001b[0m 9       \u001b[0m | \u001b[0m-33.99   \u001b[0m | \u001b[0m 0.08776 \u001b[0m | \u001b[0m 89.99   \u001b[0m | \u001b[0m 941.9   \u001b[0m |\n",
      "| \u001b[0m 10      \u001b[0m | \u001b[0m-52.12   \u001b[0m | \u001b[0m 0.004866\u001b[0m | \u001b[0m 21.13   \u001b[0m | \u001b[0m 8.794e+0\u001b[0m |\n",
      "| \u001b[0m 11      \u001b[0m | \u001b[0m-36.94   \u001b[0m | \u001b[0m 0.02929 \u001b[0m | \u001b[0m 78.65   \u001b[0m | \u001b[0m 6.949e+0\u001b[0m |\n",
      "| \u001b[95m 12      \u001b[0m | \u001b[95m-33.84   \u001b[0m | \u001b[95m 0.1     \u001b[0m | \u001b[95m 21.98   \u001b[0m | \u001b[95m 6.928e+0\u001b[0m |\n",
      "| \u001b[0m 13      \u001b[0m | \u001b[0m-33.84   \u001b[0m | \u001b[0m 0.1     \u001b[0m | \u001b[0m 8.677   \u001b[0m | \u001b[0m 6.955e+0\u001b[0m |\n",
      "| \u001b[0m 14      \u001b[0m | \u001b[0m-34.47   \u001b[0m | \u001b[0m 0.06447 \u001b[0m | \u001b[0m 64.99   \u001b[0m | \u001b[0m 930.1   \u001b[0m |\n",
      "| \u001b[0m 15      \u001b[0m | \u001b[0m-62.37   \u001b[0m | \u001b[0m 0.0013  \u001b[0m | \u001b[0m 100.0   \u001b[0m | \u001b[0m 914.3   \u001b[0m |\n",
      "| \u001b[0m 16      \u001b[0m | \u001b[0m-34.04   \u001b[0m | \u001b[0m 0.08472 \u001b[0m | \u001b[0m 31.77   \u001b[0m | \u001b[0m 6.954e+0\u001b[0m |\n",
      "| \u001b[0m 17      \u001b[0m | \u001b[0m-34.25   \u001b[0m | \u001b[0m 0.07316 \u001b[0m | \u001b[0m 12.39   \u001b[0m | \u001b[0m 6.954e+0\u001b[0m |\n",
      "| \u001b[0m 18      \u001b[0m | \u001b[0m-34.5    \u001b[0m | \u001b[0m 0.06347 \u001b[0m | \u001b[0m 21.02   \u001b[0m | \u001b[0m 6.933e+0\u001b[0m |\n",
      "| \u001b[0m 19      \u001b[0m | \u001b[0m-33.84   \u001b[0m | \u001b[0m 0.1     \u001b[0m | \u001b[0m 34.4    \u001b[0m | \u001b[0m 6.95e+03\u001b[0m |\n",
      "| \u001b[0m 20      \u001b[0m | \u001b[0m-33.87   \u001b[0m | \u001b[0m 0.09717 \u001b[0m | \u001b[0m 86.08   \u001b[0m | \u001b[0m 944.5   \u001b[0m |\n",
      "=============================================================\n",
      "{'target': -33.844743928105956, 'params': {'learning_rate': 0.1, 'max_depth': 21.976229591433345, 'n_estimators': 6928.012305983381}}\n"
     ]
    }
   ],
   "source": [
    "optimizer = BayesianOptimization(\n",
    "    f=train_model,\n",
    "    pbounds=bounds,\n",
    "    random_state=1,\n",
    "    verbose=2,\n",
    ")\n",
    "best = optimizer.maximize(init_points=10, n_iter= 10)\n",
    "print(optimizer.max)"
   ]
  },
  {
   "cell_type": "code",
   "execution_count": null,
   "metadata": {},
   "outputs": [],
   "source": []
  },
  {
   "cell_type": "code",
   "execution_count": null,
   "metadata": {},
   "outputs": [],
   "source": []
  }
 ],
 "metadata": {
  "kernelspec": {
   "display_name": "Python 3",
   "language": "python",
   "name": "python3"
  },
  "language_info": {
   "codemirror_mode": {
    "name": "ipython",
    "version": 3
   },
   "file_extension": ".py",
   "mimetype": "text/x-python",
   "name": "python",
   "nbconvert_exporter": "python",
   "pygments_lexer": "ipython3",
   "version": "3.7.0"
  },
  "toc": {
   "base_numbering": 1,
   "nav_menu": {},
   "number_sections": true,
   "sideBar": true,
   "skip_h1_title": false,
   "title_cell": "Table of Contents",
   "title_sidebar": "Preprocessing_Exercises",
   "toc_cell": false,
   "toc_position": {
    "height": "calc(100% - 180px)",
    "left": "10px",
    "top": "150px",
    "width": "288px"
   },
   "toc_section_display": true,
   "toc_window_display": true
  },
  "varInspector": {
   "cols": {
    "lenName": 16,
    "lenType": 16,
    "lenVar": 40
   },
   "kernels_config": {
    "python": {
     "delete_cmd_postfix": "",
     "delete_cmd_prefix": "del ",
     "library": "var_list.py",
     "varRefreshCmd": "print(var_dic_list())"
    },
    "r": {
     "delete_cmd_postfix": ") ",
     "delete_cmd_prefix": "rm(",
     "library": "var_list.r",
     "varRefreshCmd": "cat(var_dic_list()) "
    }
   },
   "types_to_exclude": [
    "module",
    "function",
    "builtin_function_or_method",
    "instance",
    "_Feature"
   ],
   "window_display": false
  }
 },
 "nbformat": 4,
 "nbformat_minor": 2
}
