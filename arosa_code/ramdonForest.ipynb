{
 "cells": [
  {
   "cell_type": "code",
   "execution_count": 287,
   "metadata": {},
   "outputs": [],
   "source": [
    "import os\n",
    "import sys\n",
    "import pandas as pd\n",
    "import numpy as np\n",
    "from matplotlib import pyplot as plt\n",
    "\n",
    "from sklearn.model_selection import train_test_split\n",
    "from sklearn.ensemble import RandomForestRegressor\n",
    "from sklearn import metrics\n",
    "from sklearn.metrics import mean_squared_error\n",
    "\n",
    "DATAIN='../arosa_data/'\n",
    "DATASET_FILENAME='arosa_data_feature1.csv'"
   ]
  },
  {
   "cell_type": "code",
   "execution_count": 316,
   "metadata": {},
   "outputs": [
    {
     "data": {
      "text/html": [
       "<div>\n",
       "<style scoped>\n",
       "    .dataframe tbody tr th:only-of-type {\n",
       "        vertical-align: middle;\n",
       "    }\n",
       "\n",
       "    .dataframe tbody tr th {\n",
       "        vertical-align: top;\n",
       "    }\n",
       "\n",
       "    .dataframe thead th {\n",
       "        text-align: right;\n",
       "    }\n",
       "</style>\n",
       "<table border=\"1\" class=\"dataframe\">\n",
       "  <thead>\n",
       "    <tr style=\"text-align: right;\">\n",
       "      <th></th>\n",
       "      <th>Datum</th>\n",
       "      <th>Wochentag</th>\n",
       "      <th>TagNr</th>\n",
       "      <th>WocheNr</th>\n",
       "      <th>isFreiZH</th>\n",
       "      <th>isFreiSG</th>\n",
       "      <th>isFreiGR</th>\n",
       "      <th>isFerienZH</th>\n",
       "      <th>Ferien Desc ZH</th>\n",
       "      <th>IsFerienZH_plus3</th>\n",
       "      <th>...</th>\n",
       "      <th>precip_1h_mm_sum</th>\n",
       "      <th>fresh_snow_1h_cm_sum</th>\n",
       "      <th>wind_speed_mean_10m_1h_ms_avg</th>\n",
       "      <th>weather_symbol_1h_idx_spe</th>\n",
       "      <th>number_of_events</th>\n",
       "      <th>isHumorfestival</th>\n",
       "      <th>Schalter</th>\n",
       "      <th>Tel</th>\n",
       "      <th>Mail</th>\n",
       "      <th>Total Anfragen</th>\n",
       "    </tr>\n",
       "  </thead>\n",
       "  <tbody>\n",
       "    <tr>\n",
       "      <th>0</th>\n",
       "      <td>01.01.2016</td>\n",
       "      <td>Freitag</td>\n",
       "      <td>1</td>\n",
       "      <td>53</td>\n",
       "      <td>1</td>\n",
       "      <td>1</td>\n",
       "      <td>1</td>\n",
       "      <td>0</td>\n",
       "      <td>NaN</td>\n",
       "      <td>0</td>\n",
       "      <td>...</td>\n",
       "      <td>0.81</td>\n",
       "      <td>1.3</td>\n",
       "      <td>2.6</td>\n",
       "      <td>1.1</td>\n",
       "      <td>0</td>\n",
       "      <td>0</td>\n",
       "      <td>10</td>\n",
       "      <td>20</td>\n",
       "      <td>5</td>\n",
       "      <td>35</td>\n",
       "    </tr>\n",
       "    <tr>\n",
       "      <th>1</th>\n",
       "      <td>02.01.2016</td>\n",
       "      <td>Samstag</td>\n",
       "      <td>2</td>\n",
       "      <td>53</td>\n",
       "      <td>1</td>\n",
       "      <td>1</td>\n",
       "      <td>1</td>\n",
       "      <td>0</td>\n",
       "      <td>NaN</td>\n",
       "      <td>0</td>\n",
       "      <td>...</td>\n",
       "      <td>1.21</td>\n",
       "      <td>1.9</td>\n",
       "      <td>5.4</td>\n",
       "      <td>0.0</td>\n",
       "      <td>0</td>\n",
       "      <td>0</td>\n",
       "      <td>78</td>\n",
       "      <td>59</td>\n",
       "      <td>22</td>\n",
       "      <td>159</td>\n",
       "    </tr>\n",
       "    <tr>\n",
       "      <th>2</th>\n",
       "      <td>03.01.2016</td>\n",
       "      <td>Sonntag</td>\n",
       "      <td>3</td>\n",
       "      <td>53</td>\n",
       "      <td>1</td>\n",
       "      <td>1</td>\n",
       "      <td>1</td>\n",
       "      <td>0</td>\n",
       "      <td>NaN</td>\n",
       "      <td>0</td>\n",
       "      <td>...</td>\n",
       "      <td>0.23</td>\n",
       "      <td>0.0</td>\n",
       "      <td>5.9</td>\n",
       "      <td>0.0</td>\n",
       "      <td>0</td>\n",
       "      <td>0</td>\n",
       "      <td>0</td>\n",
       "      <td>0</td>\n",
       "      <td>0</td>\n",
       "      <td>0</td>\n",
       "    </tr>\n",
       "    <tr>\n",
       "      <th>3</th>\n",
       "      <td>04.01.2016</td>\n",
       "      <td>Montag</td>\n",
       "      <td>4</td>\n",
       "      <td>1</td>\n",
       "      <td>0</td>\n",
       "      <td>0</td>\n",
       "      <td>0</td>\n",
       "      <td>0</td>\n",
       "      <td>NaN</td>\n",
       "      <td>0</td>\n",
       "      <td>...</td>\n",
       "      <td>0.13</td>\n",
       "      <td>0.3</td>\n",
       "      <td>2.4</td>\n",
       "      <td>0.0</td>\n",
       "      <td>0</td>\n",
       "      <td>0</td>\n",
       "      <td>0</td>\n",
       "      <td>0</td>\n",
       "      <td>0</td>\n",
       "      <td>0</td>\n",
       "    </tr>\n",
       "    <tr>\n",
       "      <th>4</th>\n",
       "      <td>05.01.2016</td>\n",
       "      <td>Dienstag</td>\n",
       "      <td>5</td>\n",
       "      <td>1</td>\n",
       "      <td>0</td>\n",
       "      <td>0</td>\n",
       "      <td>0</td>\n",
       "      <td>0</td>\n",
       "      <td>NaN</td>\n",
       "      <td>0</td>\n",
       "      <td>...</td>\n",
       "      <td>0.00</td>\n",
       "      <td>0.0</td>\n",
       "      <td>3.4</td>\n",
       "      <td>1.3</td>\n",
       "      <td>0</td>\n",
       "      <td>0</td>\n",
       "      <td>0</td>\n",
       "      <td>0</td>\n",
       "      <td>0</td>\n",
       "      <td>0</td>\n",
       "    </tr>\n",
       "  </tbody>\n",
       "</table>\n",
       "<p>5 rows × 54 columns</p>\n",
       "</div>"
      ],
      "text/plain": [
       "        Datum Wochentag  TagNr  WocheNr  isFreiZH  isFreiSG  isFreiGR  \\\n",
       "0  01.01.2016   Freitag      1       53         1         1         1   \n",
       "1  02.01.2016   Samstag      2       53         1         1         1   \n",
       "2  03.01.2016   Sonntag      3       53         1         1         1   \n",
       "3  04.01.2016    Montag      4        1         0         0         0   \n",
       "4  05.01.2016  Dienstag      5        1         0         0         0   \n",
       "\n",
       "   isFerienZH Ferien Desc ZH  IsFerienZH_plus3      ...        \\\n",
       "0           0            NaN                 0      ...         \n",
       "1           0            NaN                 0      ...         \n",
       "2           0            NaN                 0      ...         \n",
       "3           0            NaN                 0      ...         \n",
       "4           0            NaN                 0      ...         \n",
       "\n",
       "   precip_1h_mm_sum  fresh_snow_1h_cm_sum wind_speed_mean_10m_1h_ms_avg  \\\n",
       "0              0.81                   1.3                           2.6   \n",
       "1              1.21                   1.9                           5.4   \n",
       "2              0.23                   0.0                           5.9   \n",
       "3              0.13                   0.3                           2.4   \n",
       "4              0.00                   0.0                           3.4   \n",
       "\n",
       "   weather_symbol_1h_idx_spe  number_of_events  isHumorfestival Schalter  Tel  \\\n",
       "0                        1.1                 0                0       10   20   \n",
       "1                        0.0                 0                0       78   59   \n",
       "2                        0.0                 0                0        0    0   \n",
       "3                        0.0                 0                0        0    0   \n",
       "4                        1.3                 0                0        0    0   \n",
       "\n",
       "   Mail Total Anfragen  \n",
       "0     5             35  \n",
       "1    22            159  \n",
       "2     0              0  \n",
       "3     0              0  \n",
       "4     0              0  \n",
       "\n",
       "[5 rows x 54 columns]"
      ]
     },
     "execution_count": 316,
     "metadata": {},
     "output_type": "execute_result"
    }
   ],
   "source": [
    "path_in = DATAIN\n",
    "file_name = DATASET_FILENAME\n",
    "\n",
    "df = pd.read_csv(os.path.join(path_in, file_name), delimiter=';')\n",
    "df.head()"
   ]
  },
  {
   "cell_type": "code",
   "execution_count": 317,
   "metadata": {},
   "outputs": [
    {
     "name": "stdout",
     "output_type": "stream",
     "text": [
      "The shape of our features is: (1339, 108)\n"
     ]
    }
   ],
   "source": [
    "# do preprocessing\n",
    "oneToHotCols = ['Ferien Desc ZH','Ferien Desc SG','Ferien Desc GR','Feiertag Desc','Wochentag']\n",
    "df = pd.get_dummies(df, columns=oneToHotCols)\n",
    "\n",
    "print('The shape of our features is:', df.shape)"
   ]
  },
  {
   "cell_type": "code",
   "execution_count": 318,
   "metadata": {},
   "outputs": [
    {
     "data": {
      "text/plain": [
       "(1168, 108)"
      ]
     },
     "execution_count": 318,
     "metadata": {},
     "output_type": "execute_result"
    }
   ],
   "source": [
    "df.loc[df['Mail']!=0].shape\n",
    "df.loc[df['Schalter']!=0].shape\n",
    "df.loc[df['Total Anfragen']!=0].shape\n",
    "df.loc[df['Tel']!=0].shape"
   ]
  },
  {
   "cell_type": "code",
   "execution_count": 319,
   "metadata": {},
   "outputs": [],
   "source": [
    "features = list(df)\n",
    "target_variables = ['Mail','Schalter','Tel','Total Anfragen']\n",
    "for tv in target_variables:\n",
    "    df = df.loc[df[tv]!=0]\n",
    "    features.remove(tv)\n",
    "    \n",
    "#features.remove('TagNr')\n",
    "#features.remove('Datum')\n",
    "    \n",
    "X, y = df[features],df[target_variables]"
   ]
  },
  {
   "cell_type": "code",
   "execution_count": 320,
   "metadata": {},
   "outputs": [
    {
     "name": "stdout",
     "output_type": "stream",
     "text": [
      "Now the shape of our features is: (1159, 104)\n",
      "Now tThe shape of our target variables is: (1159, 4)\n"
     ]
    }
   ],
   "source": [
    "print('Now the shape of our features is:', X.shape)\n",
    "print('Now tThe shape of our target variables is:', y.shape)\n",
    "nulls_per_column = X.isnull().sum()\n",
    "#print(nulls_per_column)"
   ]
  },
  {
   "cell_type": "code",
   "execution_count": 321,
   "metadata": {},
   "outputs": [],
   "source": [
    "X_train, X_test, y_train, y_test= train_test_split(X, y, test_size=0.2, random_state=123)\n",
    "X_test, X_val, y_test, y_val= train_test_split(X_test, y_test, test_size=0.3, random_state=123)"
   ]
  },
  {
   "cell_type": "code",
   "execution_count": 322,
   "metadata": {},
   "outputs": [],
   "source": [
    "# store dates in dataframe and remove from train, test and validation\n",
    "dates_xtrain = X_train['Datum']\n",
    "dates_xtest = X_test['Datum']\n",
    "dates_xval = X_val['Datum']\n",
    "\n",
    "\n",
    "X_train = X_train.drop(\"Datum\", axis=1)\n",
    "X_test = X_test.drop(\"Datum\", axis=1)\n",
    "X_val = X_val.drop(\"Datum\", axis=1)\n",
    "features.remove('Datum')\n",
    "#X_test.remove('Datum')\n",
    "#X_val.remove('Datum')"
   ]
  },
  {
   "cell_type": "code",
   "execution_count": null,
   "metadata": {},
   "outputs": [],
   "source": []
  },
  {
   "cell_type": "code",
   "execution_count": 323,
   "metadata": {},
   "outputs": [
    {
     "name": "stdout",
     "output_type": "stream",
     "text": [
      "The shape of our X_train is: (927, 103)\n",
      "The shape of our X_test variables is: (162, 103)\n",
      "The shape of our X_val variables is: (70, 103)\n",
      "The shape of our y_train is: (927, 4)\n",
      "The shape of our y_test variables is: (162, 4)\n",
      "The shape of our y_val variables is: (70, 4)\n"
     ]
    }
   ],
   "source": [
    "print('The shape of our X_train is:', X_train.shape)\n",
    "print('The shape of our X_test variables is:', X_test.shape)\n",
    "print('The shape of our X_val variables is:', X_val.shape)\n",
    "print('The shape of our y_train is:', y_train.shape)\n",
    "print('The shape of our y_test variables is:', y_test.shape)\n",
    "print('The shape of our y_val variables is:', y_val.shape)"
   ]
  },
  {
   "cell_type": "code",
   "execution_count": null,
   "metadata": {},
   "outputs": [],
   "source": []
  },
  {
   "cell_type": "code",
   "execution_count": 324,
   "metadata": {},
   "outputs": [],
   "source": [
    "# set parameters for random forest model\n",
    "ntrees = 1000\n",
    "bootstrap = True\n",
    "\n",
    "# define model regressor\n",
    "rf_reg = RandomForestRegressor(n_estimators=ntrees, bootstrap = bootstrap, random_state = 123)"
   ]
  },
  {
   "cell_type": "code",
   "execution_count": 325,
   "metadata": {},
   "outputs": [],
   "source": [
    "#Train the model using the training sets y_pred=clf.predict(X_test)\n",
    "rf_reg.fit(X_train,y_train)\n",
    "\n",
    "predictions = rf_reg.predict(X_val)"
   ]
  },
  {
   "cell_type": "code",
   "execution_count": 326,
   "metadata": {},
   "outputs": [
    {
     "name": "stdout",
     "output_type": "stream",
     "text": [
      "******************************\n",
      "Mean Absolute Error:\n",
      " Mail               6.91\n",
      "Schalter          15.71\n",
      "Tel                7.76\n",
      "Total Anfragen    23.67\n",
      "dtype: float64 degrees.\n",
      "******************************\n",
      "Accuracy:\n",
      " Mail              52.91\n",
      "Schalter          45.38\n",
      "Tel               71.46\n",
      "Total Anfragen    72.70\n",
      "dtype: float64 %.\n",
      "******************************\n",
      "Mean Squared Error: 461.8020257285713\n",
      "******************************\n",
      "Score: 0.5573488636793333\n",
      "******************************\n"
     ]
    }
   ],
   "source": [
    "# Calculate the absolute errors\n",
    "errors = abs(predictions - y_val)\n",
    "\n",
    "# Calculate mean absolute percentage error (MAPE)\n",
    "mape = 100 * (errors / y_val)\n",
    "# Calculate and display accuracy\n",
    "accuracy = 100 - np.mean(mape)\n",
    "\n",
    "# Print out the mean absolute error (mae)\n",
    "print('*'*30)\n",
    "print('Mean Absolute Error:\\n', round(np.mean(errors), 2), 'degrees.')\n",
    "print('*'*30)\n",
    "print('Accuracy:\\n', round(accuracy, 2), '%.')\n",
    "print('*'*30)\n",
    "print('Mean Squared Error:', mean_squared_error(y_val, predictions))\n",
    "print('*'*30)\n",
    "print('Score:', rf_reg.score(X_test, y_test))\n",
    "print('*'*30)"
   ]
  },
  {
   "cell_type": "code",
   "execution_count": 346,
   "metadata": {},
   "outputs": [
    {
     "name": "stdout",
     "output_type": "stream",
     "text": [
      "Variable: TagNr                Importance: 0.2\n",
      "Variable: Ferien Desc GR_Sommerferien Importance: 0.18\n",
      "Variable: WocheNr              Importance: 0.09\n",
      "Variable: snow_depth_cm_avg    Importance: 0.06\n",
      "Variable: t_2m_c_avg           Importance: 0.04\n",
      "Variable: wind_gusts_10m_ms_max Importance: 0.04\n",
      "Variable: t_max_2m_24h_c_max   Importance: 0.04\n",
      "Variable: t_min_2m_24h_c_min   Importance: 0.04\n",
      "Variable: wind_speed_10m_ms_max Importance: 0.03\n",
      "Variable: wind_speed_mean_10m_24h_ms_avg Importance: 0.03\n",
      "Variable: wind_speed_mean_10m_1h_ms_avg Importance: 0.03\n",
      "Variable: visibility_m_avg     Importance: 0.02\n",
      "Variable: prob_tstorm_1h_p_avg Importance: 0.02\n",
      "Variable: weather_symbol_1h_idx_spe Importance: 0.02\n",
      "Variable: Wochentag_Sonntag    Importance: 0.02\n",
      "Variable: isFreiZH             Importance: 0.01\n",
      "Variable: isFreiSG             Importance: 0.01\n",
      "Variable: precip_24h_mm_max    Importance: 0.01\n",
      "Variable: Ferien Desc SG_Sommerferien Importance: 0.01\n",
      "Variable: Feiertag Desc_Silvester Importance: 0.01\n",
      "Variable: Wochentag_Mittwoch   Importance: 0.01\n",
      "Variable: Wochentag_Samstag    Importance: 0.01\n",
      "Variable: isFreiGR             Importance: 0.0\n",
      "Variable: isFerienZH           Importance: 0.0\n",
      "Variable: IsFerienZH_plus3     Importance: 0.0\n",
      "Variable: isFerienZH_minus3    Importance: 0.0\n",
      "Variable: isFerienSG           Importance: 0.0\n",
      "Variable: IsFerienSG_plus3     Importance: 0.0\n",
      "Variable: isFerienSG_minus3    Importance: 0.0\n",
      "Variable: isFerienGR           Importance: 0.0\n",
      "Variable: IsFerienGR_plus3     Importance: 0.0\n",
      "Variable: isFerienGR_minus3    Importance: 0.0\n",
      "Variable: isFeiertag ZH        Importance: 0.0\n",
      "Variable: IsFeiertagZH_plus3   Importance: 0.0\n",
      "Variable: isFeiertagZH_minus3  Importance: 0.0\n",
      "Variable: isFeiertag SG        Importance: 0.0\n",
      "Variable: IsFeiertagSG_plus3   Importance: 0.0\n",
      "Variable: isFeiertagSG_minus3  Importance: 0.0\n",
      "Variable: isFeiertag GR        Importance: 0.0\n",
      "Variable: IsFeiertagGR_plus3   Importance: 0.0\n",
      "Variable: isFeiertagGR_minus3  Importance: 0.0\n",
      "Variable: prob_precip_1h_p_avg Importance: 0.0\n",
      "Variable: hail_idx_avg         Importance: 0.0\n",
      "Variable: fresh_snow_24h_cm_max Importance: 0.0\n",
      "Variable: is_sleet_1h_idx_max  Importance: 0.0\n",
      "Variable: is_fog_1h_idx_max    Importance: 0.0\n",
      "Variable: precip_1h_mm_sum     Importance: 0.0\n",
      "Variable: fresh_snow_1h_cm_sum Importance: 0.0\n",
      "Variable: number_of_events     Importance: 0.0\n",
      "Variable: isHumorfestival      Importance: 0.0\n",
      "Variable: Ferien Desc ZH_Fruehlingsferien Importance: 0.0\n",
      "Variable: Ferien Desc ZH_Herbstferien Importance: 0.0\n",
      "Variable: Ferien Desc ZH_Sommerferien Importance: 0.0\n",
      "Variable: Ferien Desc ZH_Sportferien Importance: 0.0\n",
      "Variable: Ferien Desc SG_Fruehlingsferien Importance: 0.0\n",
      "Variable: Ferien Desc SG_Herbstferien Importance: 0.0\n",
      "Variable: Ferien Desc SG_Sportferien Importance: 0.0\n",
      "Variable: Ferien Desc GR_Fruehlingsferien Importance: 0.0\n",
      "Variable: Ferien Desc GR_Herbstferien Importance: 0.0\n",
      "Variable: Ferien Desc GR_Sportferien Importance: 0.0\n",
      "Variable: Feiertag Desc_Allerheiligen Importance: 0.0\n",
      "Variable: Feiertag Desc_Allerseelen Importance: 0.0\n",
      "Variable: Feiertag Desc_Auffahrt Importance: 0.0\n",
      "Variable: Feiertag Desc_Berchtoldstag Importance: 0.0\n",
      "Variable: Feiertag Desc_Eidg. Dank-, Buss- und Bettag Importance: 0.0\n",
      "Variable: Feiertag Desc_Ewigkeitssonntag Importance: 0.0\n",
      "Variable: Feiertag Desc_Fasnacht * Importance: 0.0\n",
      "Variable: Feiertag Desc_Fasnachtsdienstag * Importance: 0.0\n",
      "Variable: Feiertag Desc_Fasnachtsmittwoch * Importance: 0.0\n",
      "Variable: Feiertag Desc_Fasnachtsmontag Importance: 0.0\n",
      "Variable: Feiertag Desc_Fronleichnam Importance: 0.0\n",
      "Variable: Feiertag Desc_Fruehlingsanfang Importance: 0.0\n",
      "Variable: Feiertag Desc_Genfer Bettag * Importance: 0.0\n",
      "Variable: Feiertag Desc_Heilige Drei Koenige Importance: 0.0\n",
      "Variable: Feiertag Desc_Heiliger Abend Importance: 0.0\n",
      "Variable: Feiertag Desc_Herbstanfang Importance: 0.0\n",
      "Variable: Feiertag Desc_Josefstag Importance: 0.0\n",
      "Variable: Feiertag Desc_Karfreitag Importance: 0.0\n",
      "Variable: Feiertag Desc_Knabenschiessen * Importance: 0.0\n",
      "Variable: Feiertag Desc_Mariae Empfaengnis Importance: 0.0\n",
      "Variable: Feiertag Desc_Mariae Himmelfahrt Importance: 0.0\n",
      "Variable: Feiertag Desc_Muttertag Importance: 0.0\n",
      "Variable: Feiertag Desc_Naefelser Fahrt Importance: 0.0\n",
      "Variable: Feiertag Desc_Nationalfeiertag Importance: 0.0\n",
      "Variable: Feiertag Desc_Neujahr Importance: 0.0\n",
      "Variable: Feiertag Desc_Ostermontag Importance: 0.0\n",
      "Variable: Feiertag Desc_Ostersonntag Importance: 0.0\n",
      "Variable: Feiertag Desc_Peter und Paul Importance: 0.0\n",
      "Variable: Feiertag Desc_Pfingstmontag Importance: 0.0\n",
      "Variable: Feiertag Desc_Pfingstsonntag Importance: 0.0\n",
      "Variable: Feiertag Desc_Sechselaeuten * Importance: 0.0\n",
      "Variable: Feiertag Desc_Sommeranfang, Sommersonnenwende Importance: 0.0\n",
      "Variable: Feiertag Desc_Sommerzeitbeginn Importance: 0.0\n",
      "Variable: Feiertag Desc_Sommerzeitende Importance: 0.0\n",
      "Variable: Feiertag Desc_Stephanstag Importance: 0.0\n",
      "Variable: Feiertag Desc_Tag der Arbeit Importance: 0.0\n",
      "Variable: Feiertag Desc_Valentinstag Importance: 0.0\n",
      "Variable: Feiertag Desc_Weihnachten Importance: 0.0\n",
      "Variable: Feiertag Desc_Winteranfang, Wintersonnenwende Importance: 0.0\n",
      "Variable: Wochentag_Dienstag   Importance: 0.0\n",
      "Variable: Wochentag_Donnerstag Importance: 0.0\n",
      "Variable: Wochentag_Freitag    Importance: 0.0\n",
      "Variable: Wochentag_Montag     Importance: 0.0\n"
     ]
    }
   ],
   "source": [
    "# Get numerical feature importances\n",
    "importances = list(rf_reg.feature_importances_)\n",
    "\n",
    "# List of tuples with variable and importance\n",
    "feature_importances = [(feature, round(importance, 2)) for feature, importance in zip(features, importances)]\n",
    "\n",
    "# Sort the feature importances by most important first\n",
    "feature_importances = sorted(feature_importances, key = lambda x: x[1], reverse = True)\n",
    "\n",
    "# Print out the feature and importances \n",
    "[print('Variable: {:20} Importance: {}'.format(*pair)) for pair in feature_importances];"
   ]
  },
  {
   "cell_type": "code",
   "execution_count": 328,
   "metadata": {},
   "outputs": [
    {
     "data": {
      "text/plain": [
       "Text(0,0.5,'Predictions')"
      ]
     },
     "execution_count": 328,
     "metadata": {},
     "output_type": "execute_result"
    },
    {
     "data": {
      "image/png": "[encoded data removed]",
      "text/plain": [
       "<Figure size 432x288 with 1 Axes>"
      ]
     },
     "metadata": {},
     "output_type": "display_data"
    }
   ],
   "source": [
    "plt.scatter(y_val['Mail'], predictions[:,0])\n",
    "plt.xlabel('True Values')\n",
    "plt.ylabel('Predictions')"
   ]
  },
  {
   "cell_type": "code",
   "execution_count": 358,
   "metadata": {},
   "outputs": [],
   "source": [
    "# create pandas dataframe from predictions\n",
    "pred_values = pd.DataFrame(data=predictions,    # values\n",
    "             #index=predictions[1:,0],    # 1st column as index\n",
    "             columns=target_variables)  # 1st row as the column names\n"
   ]
  },
  {
   "cell_type": "code",
   "execution_count": 364,
   "metadata": {},
   "outputs": [],
   "source": [
    "dates_xval = pd.DataFrame(data=dates_xval,    # values\n",
    "             #index=predictions[1:,0],    # 1st column as index\n",
    "             columns=['Datum'])  # 1st row as the column names\n",
    "dates_xval = dates_xval.reset_index(drop=True)"
   ]
  },
  {
   "cell_type": "code",
   "execution_count": 369,
   "metadata": {},
   "outputs": [
    {
     "data": {
      "text/html": [
       "<div>\n",
       "<style scoped>\n",
       "    .dataframe tbody tr th:only-of-type {\n",
       "        vertical-align: middle;\n",
       "    }\n",
       "\n",
       "    .dataframe tbody tr th {\n",
       "        vertical-align: top;\n",
       "    }\n",
       "\n",
       "    .dataframe thead th {\n",
       "        text-align: right;\n",
       "    }\n",
       "</style>\n",
       "<table border=\"1\" class=\"dataframe\">\n",
       "  <thead>\n",
       "    <tr style=\"text-align: right;\">\n",
       "      <th></th>\n",
       "      <th>Mail</th>\n",
       "      <th>Schalter</th>\n",
       "      <th>Tel</th>\n",
       "      <th>Total Anfragen</th>\n",
       "    </tr>\n",
       "  </thead>\n",
       "  <tbody>\n",
       "    <tr>\n",
       "      <th>0</th>\n",
       "      <td>14.337</td>\n",
       "      <td>29.221</td>\n",
       "      <td>16.585</td>\n",
       "      <td>60.143</td>\n",
       "    </tr>\n",
       "    <tr>\n",
       "      <th>1</th>\n",
       "      <td>20.228</td>\n",
       "      <td>38.484</td>\n",
       "      <td>31.594</td>\n",
       "      <td>88.575</td>\n",
       "    </tr>\n",
       "    <tr>\n",
       "      <th>2</th>\n",
       "      <td>19.820</td>\n",
       "      <td>36.020</td>\n",
       "      <td>30.381</td>\n",
       "      <td>85.566</td>\n",
       "    </tr>\n",
       "    <tr>\n",
       "      <th>3</th>\n",
       "      <td>22.483</td>\n",
       "      <td>48.750</td>\n",
       "      <td>44.491</td>\n",
       "      <td>115.310</td>\n",
       "    </tr>\n",
       "    <tr>\n",
       "      <th>4</th>\n",
       "      <td>16.107</td>\n",
       "      <td>127.847</td>\n",
       "      <td>30.711</td>\n",
       "      <td>174.665</td>\n",
       "    </tr>\n",
       "  </tbody>\n",
       "</table>\n",
       "</div>"
      ],
      "text/plain": [
       "     Mail  Schalter     Tel  Total Anfragen\n",
       "0  14.337    29.221  16.585          60.143\n",
       "1  20.228    38.484  31.594          88.575\n",
       "2  19.820    36.020  30.381          85.566\n",
       "3  22.483    48.750  44.491         115.310\n",
       "4  16.107   127.847  30.711         174.665"
      ]
     },
     "execution_count": 369,
     "metadata": {},
     "output_type": "execute_result"
    }
   ],
   "source": [
    "pred_pd.head()"
   ]
  },
  {
   "cell_type": "code",
   "execution_count": 370,
   "metadata": {},
   "outputs": [
    {
     "data": {
      "text/html": [
       "<div>\n",
       "<style scoped>\n",
       "    .dataframe tbody tr th:only-of-type {\n",
       "        vertical-align: middle;\n",
       "    }\n",
       "\n",
       "    .dataframe tbody tr th {\n",
       "        vertical-align: top;\n",
       "    }\n",
       "\n",
       "    .dataframe thead th {\n",
       "        text-align: right;\n",
       "    }\n",
       "</style>\n",
       "<table border=\"1\" class=\"dataframe\">\n",
       "  <thead>\n",
       "    <tr style=\"text-align: right;\">\n",
       "      <th></th>\n",
       "      <th>Datum</th>\n",
       "    </tr>\n",
       "  </thead>\n",
       "  <tbody>\n",
       "    <tr>\n",
       "      <th>0</th>\n",
       "      <td>20.01.2019</td>\n",
       "    </tr>\n",
       "    <tr>\n",
       "      <th>1</th>\n",
       "      <td>31.01.2018</td>\n",
       "    </tr>\n",
       "    <tr>\n",
       "      <th>2</th>\n",
       "      <td>16.01.2019</td>\n",
       "    </tr>\n",
       "    <tr>\n",
       "      <th>3</th>\n",
       "      <td>13.01.2017</td>\n",
       "    </tr>\n",
       "    <tr>\n",
       "      <th>4</th>\n",
       "      <td>20.08.2016</td>\n",
       "    </tr>\n",
       "  </tbody>\n",
       "</table>\n",
       "</div>"
      ],
      "text/plain": [
       "        Datum\n",
       "0  20.01.2019\n",
       "1  31.01.2018\n",
       "2  16.01.2019\n",
       "3  13.01.2017\n",
       "4  20.08.2016"
      ]
     },
     "execution_count": 370,
     "metadata": {},
     "output_type": "execute_result"
    }
   ],
   "source": [
    "dates_xval.head()"
   ]
  },
  {
   "cell_type": "code",
   "execution_count": 371,
   "metadata": {},
   "outputs": [
    {
     "data": {
      "text/html": [
       "<div>\n",
       "<style scoped>\n",
       "    .dataframe tbody tr th:only-of-type {\n",
       "        vertical-align: middle;\n",
       "    }\n",
       "\n",
       "    .dataframe tbody tr th {\n",
       "        vertical-align: top;\n",
       "    }\n",
       "\n",
       "    .dataframe thead th {\n",
       "        text-align: right;\n",
       "    }\n",
       "</style>\n",
       "<table border=\"1\" class=\"dataframe\">\n",
       "  <thead>\n",
       "    <tr style=\"text-align: right;\">\n",
       "      <th></th>\n",
       "      <th>Datum</th>\n",
       "      <th>Mail</th>\n",
       "      <th>Schalter</th>\n",
       "      <th>Tel</th>\n",
       "      <th>Total Anfragen</th>\n",
       "    </tr>\n",
       "  </thead>\n",
       "  <tbody>\n",
       "    <tr>\n",
       "      <th>0</th>\n",
       "      <td>20.01.2019</td>\n",
       "      <td>14.337</td>\n",
       "      <td>29.221</td>\n",
       "      <td>16.585</td>\n",
       "      <td>60.143</td>\n",
       "    </tr>\n",
       "    <tr>\n",
       "      <th>1</th>\n",
       "      <td>31.01.2018</td>\n",
       "      <td>20.228</td>\n",
       "      <td>38.484</td>\n",
       "      <td>31.594</td>\n",
       "      <td>88.575</td>\n",
       "    </tr>\n",
       "    <tr>\n",
       "      <th>2</th>\n",
       "      <td>16.01.2019</td>\n",
       "      <td>19.820</td>\n",
       "      <td>36.020</td>\n",
       "      <td>30.381</td>\n",
       "      <td>85.566</td>\n",
       "    </tr>\n",
       "    <tr>\n",
       "      <th>3</th>\n",
       "      <td>13.01.2017</td>\n",
       "      <td>22.483</td>\n",
       "      <td>48.750</td>\n",
       "      <td>44.491</td>\n",
       "      <td>115.310</td>\n",
       "    </tr>\n",
       "    <tr>\n",
       "      <th>4</th>\n",
       "      <td>20.08.2016</td>\n",
       "      <td>16.107</td>\n",
       "      <td>127.847</td>\n",
       "      <td>30.711</td>\n",
       "      <td>174.665</td>\n",
       "    </tr>\n",
       "  </tbody>\n",
       "</table>\n",
       "</div>"
      ],
      "text/plain": [
       "        Datum    Mail  Schalter     Tel  Total Anfragen\n",
       "0  20.01.2019  14.337    29.221  16.585          60.143\n",
       "1  31.01.2018  20.228    38.484  31.594          88.575\n",
       "2  16.01.2019  19.820    36.020  30.381          85.566\n",
       "3  13.01.2017  22.483    48.750  44.491         115.310\n",
       "4  20.08.2016  16.107   127.847  30.711         174.665"
      ]
     },
     "execution_count": 371,
     "metadata": {},
     "output_type": "execute_result"
    }
   ],
   "source": [
    "result = pd.concat([dates_xval, pred_pd], axis=1, sort=True)\n",
    "result.head()"
   ]
  },
  {
   "cell_type": "code",
   "execution_count": 398,
   "metadata": {},
   "outputs": [],
   "source": [
    "file_name_pred = '../arosa_app/predictions/model_2019_8.csv'\n",
    "result.to_csv(path_or_buf=file_name_pred,sep=';',index=False, header=True)"
   ]
  },
  {
   "cell_type": "code",
   "execution_count": 396,
   "metadata": {},
   "outputs": [
    {
     "name": "stdout",
     "output_type": "stream",
     "text": [
      "None\n"
     ]
    }
   ],
   "source": []
  },
  {
   "cell_type": "code",
   "execution_count": null,
   "metadata": {},
   "outputs": [],
   "source": []
  },
  {
   "cell_type": "code",
   "execution_count": null,
   "metadata": {},
   "outputs": [],
   "source": []
  }
 ],
 "metadata": {
  "kernelspec": {
   "display_name": "Python 3",
   "language": "python",
   "name": "python3"
  },
  "language_info": {
   "codemirror_mode": {
    "name": "ipython",
    "version": 3
   },
   "file_extension": ".py",
   "mimetype": "text/x-python",
   "name": "python",
   "nbconvert_exporter": "python",
   "pygments_lexer": "ipython3",
   "version": "3.6.5"
  }
 },
 "nbformat": 4,
 "nbformat_minor": 2
}
