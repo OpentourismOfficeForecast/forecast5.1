{
 "cells": [
  {
   "cell_type": "markdown",
   "metadata": {},
   "source": [
    "# Preprocessing\n",
    "General imports:"
   ]
  },
  {
   "cell_type": "code",
   "execution_count": 5,
   "metadata": {
    "ExecuteTime": {
     "end_time": "2019-11-29T12:31:45.467438Z",
     "start_time": "2019-11-29T12:31:45.460999Z"
    }
   },
   "outputs": [
    {
     "data": {
      "text/plain": [
       "True"
      ]
     },
     "execution_count": 5,
     "metadata": {},
     "output_type": "execute_result"
    }
   ],
   "source": [
    "import os\n",
    "import sys\n",
    "from pprint import pprint\n",
    "from dotenv import load_dotenv\n",
    "import pandas as pd\n",
    "import pandas_profiling\n",
    "load_dotenv('forecast_arosa.env')"
   ]
  },
  {
   "cell_type": "code",
   "execution_count": 6,
   "metadata": {
    "ExecuteTime": {
     "end_time": "2019-11-29T12:31:45.940917Z",
     "start_time": "2019-11-29T12:31:45.937552Z"
    }
   },
   "outputs": [],
   "source": [
    "path_in = os.getenv('DATAIN') # this is where we downloaded the tabel"
   ]
  },
  {
   "cell_type": "code",
   "execution_count": 7,
   "metadata": {
    "ExecuteTime": {
     "end_time": "2019-11-29T12:31:46.502455Z",
     "start_time": "2019-11-29T12:31:46.496838Z"
    }
   },
   "outputs": [
    {
     "data": {
      "text/plain": [
       "'/Users/fight/Documents/HSLU/Semester_3/Hackathon/Arosa_forecast/Arosa_working_data/Daten_Personaleinsatzplanung_Challenge_Arosa.csv'"
      ]
     },
     "execution_count": 7,
     "metadata": {},
     "output_type": "execute_result"
    }
   ],
   "source": [
    "os.path.join(path_in, 'Daten_Personaleinsatzplanung_Challenge_Arosa.csv')"
   ]
  },
  {
   "cell_type": "code",
   "execution_count": 8,
   "metadata": {
    "ExecuteTime": {
     "end_time": "2019-11-29T12:31:47.561342Z",
     "start_time": "2019-11-29T12:31:47.545903Z"
    }
   },
   "outputs": [],
   "source": [
    "df = pd.read_csv(os.path.join(path_in, 'Daten_Personaleinsatzplanung_Challenge_Arosa.csv'))"
   ]
  },
  {
   "cell_type": "code",
   "execution_count": 9,
   "metadata": {
    "ExecuteTime": {
     "end_time": "2019-11-29T12:31:48.973904Z",
     "start_time": "2019-11-29T12:31:48.946171Z"
    }
   },
   "outputs": [
    {
     "data": {
      "text/html": [
       "<div>\n",
       "<style scoped>\n",
       "    .dataframe tbody tr th:only-of-type {\n",
       "        vertical-align: middle;\n",
       "    }\n",
       "\n",
       "    .dataframe tbody tr th {\n",
       "        vertical-align: top;\n",
       "    }\n",
       "\n",
       "    .dataframe thead th {\n",
       "        text-align: right;\n",
       "    }\n",
       "</style>\n",
       "<table border=\"1\" class=\"dataframe\">\n",
       "  <thead>\n",
       "    <tr style=\"text-align: right;\">\n",
       "      <th></th>\n",
       "      <th>Datum</th>\n",
       "      <th>Wochentag</th>\n",
       "      <th>isFerienZH</th>\n",
       "      <th>Ferien Desc ZH</th>\n",
       "      <th>isFerienSG</th>\n",
       "      <th>Ferien Desc SG</th>\n",
       "      <th>isFerienGR</th>\n",
       "      <th>Ferien Desc GR</th>\n",
       "      <th>Feiertag Desc</th>\n",
       "      <th>isFeiertag ZH</th>\n",
       "      <th>...</th>\n",
       "      <th>is_fog_1h_idx_max</th>\n",
       "      <th>precip_1h_mm_sum</th>\n",
       "      <th>fresh_snow_1h_cm_sum</th>\n",
       "      <th>wind_speed_mean_10m_1h_ms_avg</th>\n",
       "      <th>weather_symbol_1h_idx_spe</th>\n",
       "      <th>number_of_events</th>\n",
       "      <th>Schalter</th>\n",
       "      <th>Tel</th>\n",
       "      <th>Mail</th>\n",
       "      <th>Total Anfragen</th>\n",
       "    </tr>\n",
       "  </thead>\n",
       "  <tbody>\n",
       "    <tr>\n",
       "      <th>1338</th>\n",
       "      <td>31.08.2019</td>\n",
       "      <td>Samstag</td>\n",
       "      <td>0</td>\n",
       "      <td>NaN</td>\n",
       "      <td>0</td>\n",
       "      <td>NaN</td>\n",
       "      <td>0</td>\n",
       "      <td>NaN</td>\n",
       "      <td>NaN</td>\n",
       "      <td>0</td>\n",
       "      <td>...</td>\n",
       "      <td>0.0</td>\n",
       "      <td>0.03</td>\n",
       "      <td>0.0</td>\n",
       "      <td>5.8</td>\n",
       "      <td>2.9</td>\n",
       "      <td>3</td>\n",
       "      <td>183</td>\n",
       "      <td>33</td>\n",
       "      <td>23</td>\n",
       "      <td>239</td>\n",
       "    </tr>\n",
       "  </tbody>\n",
       "</table>\n",
       "<p>1 rows × 36 columns</p>\n",
       "</div>"
      ],
      "text/plain": [
       "           Datum Wochentag  isFerienZH Ferien Desc ZH  isFerienSG  \\\n",
       "1338  31.08.2019   Samstag           0            NaN           0   \n",
       "\n",
       "     Ferien Desc SG  isFerienGR Ferien Desc GR Feiertag Desc  isFeiertag ZH  \\\n",
       "1338            NaN           0            NaN           NaN              0   \n",
       "\n",
       "      ...  is_fog_1h_idx_max  precip_1h_mm_sum  fresh_snow_1h_cm_sum  \\\n",
       "1338  ...                0.0              0.03                   0.0   \n",
       "\n",
       "      wind_speed_mean_10m_1h_ms_avg  weather_symbol_1h_idx_spe  \\\n",
       "1338                            5.8                        2.9   \n",
       "\n",
       "      number_of_events  Schalter  Tel  Mail  Total Anfragen  \n",
       "1338                 3       183   33    23             239  \n",
       "\n",
       "[1 rows x 36 columns]"
      ]
     },
     "execution_count": 9,
     "metadata": {},
     "output_type": "execute_result"
    }
   ],
   "source": [
    "df[df['Datum']=='31.08.2019']"
   ]
  },
  {
   "cell_type": "code",
   "execution_count": 10,
   "metadata": {
    "ExecuteTime": {
     "end_time": "2019-11-29T12:31:51.410627Z",
     "start_time": "2019-11-29T12:31:51.406899Z"
    }
   },
   "outputs": [],
   "source": [
    "df = df.iloc[1:1339]"
   ]
  },
  {
   "cell_type": "markdown",
   "metadata": {},
   "source": [
    "# Overview of Data"
   ]
  },
  {
   "cell_type": "markdown",
   "metadata": {
    "ExecuteTime": {
     "end_time": "2019-11-29T12:32:21.997593Z",
     "start_time": "2019-11-29T12:31:54.265918Z"
    }
   },
   "source": [
    "df.profile_report()"
   ]
  },
  {
   "cell_type": "code",
   "execution_count": null,
   "metadata": {},
   "outputs": [],
   "source": []
  }
 ],
 "metadata": {
  "kernelspec": {
   "display_name": "Python 3",
   "language": "python",
   "name": "python3"
  },
  "language_info": {
   "codemirror_mode": {
    "name": "ipython",
    "version": 3
   },
   "file_extension": ".py",
   "mimetype": "text/x-python",
   "name": "python",
   "nbconvert_exporter": "python",
   "pygments_lexer": "ipython3",
   "version": "3.7.0"
  },
  "toc": {
   "base_numbering": 1,
   "nav_menu": {},
   "number_sections": true,
   "sideBar": true,
   "skip_h1_title": false,
   "title_cell": "Table of Contents",
   "title_sidebar": "Preprocessing_Exercises",
   "toc_cell": false,
   "toc_position": {},
   "toc_section_display": true,
   "toc_window_display": false
  },
  "varInspector": {
   "cols": {
    "lenName": 16,
    "lenType": 16,
    "lenVar": 40
   },
   "kernels_config": {
    "python": {
     "delete_cmd_postfix": "",
     "delete_cmd_prefix": "del ",
     "library": "var_list.py",
     "varRefreshCmd": "print(var_dic_list())"
    },
    "r": {
     "delete_cmd_postfix": ") ",
     "delete_cmd_prefix": "rm(",
     "library": "var_list.r",
     "varRefreshCmd": "cat(var_dic_list()) "
    }
   },
   "types_to_exclude": [
    "module",
    "function",
    "builtin_function_or_method",
    "instance",
    "_Feature"
   ],
   "window_display": false
  }
 },
 "nbformat": 4,
 "nbformat_minor": 2
}
