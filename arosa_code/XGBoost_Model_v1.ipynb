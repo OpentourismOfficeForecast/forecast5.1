{
 "cells": [
  {
   "cell_type": "code",
   "execution_count": 1,
   "metadata": {
    "ExecuteTime": {
     "end_time": "2019-11-30T12:06:21.295085Z",
     "start_time": "2019-11-30T12:06:19.904976Z"
    }
   },
   "outputs": [],
   "source": [
    "import os\n",
    "import sys\n",
    "from pprint import pprint\n",
    "from dotenv import load_dotenv\n",
    "import pandas as pd\n",
    "import numpy as np\n",
    "#import seaborn as sns\n",
    "#import time\n",
    "import xgboost as xgb\n",
    "from xgboost import plot_tree\n",
    "from sklearn.feature_extraction import DictVectorizer\n",
    "from sklearn.pipeline import Pipeline\n",
    "from sklearn.metrics import mean_squared_error\n",
    "from sklearn.metrics import mean_absolute_error\n",
    "from sklearn.model_selection import cross_val_score\n",
    "from sklearn.model_selection import RandomizedSearchCV\n",
    "from sklearn.model_selection import GridSearchCV\n",
    "from sklearn.model_selection import train_test_split\n",
    "from sklearn.model_selection import TimeSeriesSplit\n",
    "from sklearn.preprocessing import LabelEncoder\n",
    "import matplotlib.pyplot as plt\n",
    "import operator\n",
    "import random\n",
    "import graphviz\n",
    "from sklearn.preprocessing import LabelEncoder\n",
    "from sklearn.preprocessing import OneHotEncoder\n",
    "\n",
    "#conda install -c conda-forge bayesian-optimization\n",
    "from bayes_opt import BayesianOptimization\n",
    "import pandas_profiling\n",
    "load_dotenv('forecast_arosa.env')\n",
    "random.seed(22)"
   ]
  },
  {
   "cell_type": "markdown",
   "metadata": {},
   "source": [
    "# Open CSV\n"
   ]
  },
  {
   "cell_type": "code",
   "execution_count": 2,
   "metadata": {
    "ExecuteTime": {
     "end_time": "2019-11-30T12:06:21.314226Z",
     "start_time": "2019-11-30T12:06:21.309791Z"
    }
   },
   "outputs": [],
   "source": [
    "path_in = os.getenv('DATAIN') # this is where we downloaded the tabel"
   ]
  },
  {
   "cell_type": "code",
   "execution_count": 3,
   "metadata": {
    "ExecuteTime": {
     "end_time": "2019-11-30T12:06:21.329207Z",
     "start_time": "2019-11-30T12:06:21.326978Z"
    }
   },
   "outputs": [],
   "source": [
    "file_name = os.getenv('DATASET_FILENAME') # this is where we downloaded the tabel"
   ]
  },
  {
   "cell_type": "code",
   "execution_count": 4,
   "metadata": {
    "ExecuteTime": {
     "end_time": "2019-11-30T12:06:21.345592Z",
     "start_time": "2019-11-30T12:06:21.340368Z"
    }
   },
   "outputs": [
    {
     "data": {
      "text/plain": [
       "'../arosa_data/arosa_data_feature1.csv'"
      ]
     },
     "execution_count": 4,
     "metadata": {},
     "output_type": "execute_result"
    }
   ],
   "source": [
    "os.path.join(path_in, file_name)"
   ]
  },
  {
   "cell_type": "code",
   "execution_count": 5,
   "metadata": {
    "ExecuteTime": {
     "end_time": "2019-11-30T12:06:21.391154Z",
     "start_time": "2019-11-30T12:06:21.355495Z"
    }
   },
   "outputs": [
    {
     "data": {
      "text/html": [
       "<div>\n",
       "<style scoped>\n",
       "    .dataframe tbody tr th:only-of-type {\n",
       "        vertical-align: middle;\n",
       "    }\n",
       "\n",
       "    .dataframe tbody tr th {\n",
       "        vertical-align: top;\n",
       "    }\n",
       "\n",
       "    .dataframe thead th {\n",
       "        text-align: right;\n",
       "    }\n",
       "</style>\n",
       "<table border=\"1\" class=\"dataframe\">\n",
       "  <thead>\n",
       "    <tr style=\"text-align: right;\">\n",
       "      <th></th>\n",
       "      <th>Datum</th>\n",
       "      <th>Wochentag</th>\n",
       "      <th>season</th>\n",
       "      <th>TagNr</th>\n",
       "      <th>WocheNr</th>\n",
       "      <th>isFreiZH</th>\n",
       "      <th>isFreiSG</th>\n",
       "      <th>isFreiGR</th>\n",
       "      <th>isFerienZH</th>\n",
       "      <th>Ferien Desc ZH</th>\n",
       "      <th>...</th>\n",
       "      <th>precip_1h_mm_sum</th>\n",
       "      <th>fresh_snow_1h_cm_sum</th>\n",
       "      <th>wind_speed_mean_10m_1h_ms_avg</th>\n",
       "      <th>weather_symbol_1h_idx_spe</th>\n",
       "      <th>number_of_events</th>\n",
       "      <th>isHumorfestival</th>\n",
       "      <th>Schalter</th>\n",
       "      <th>Tel</th>\n",
       "      <th>Mail</th>\n",
       "      <th>Total Anfragen</th>\n",
       "    </tr>\n",
       "  </thead>\n",
       "  <tbody>\n",
       "    <tr>\n",
       "      <th>0</th>\n",
       "      <td>01.01.2016</td>\n",
       "      <td>Freitag</td>\n",
       "      <td>winter season</td>\n",
       "      <td>1</td>\n",
       "      <td>53</td>\n",
       "      <td>1</td>\n",
       "      <td>1</td>\n",
       "      <td>1</td>\n",
       "      <td>0</td>\n",
       "      <td>NaN</td>\n",
       "      <td>...</td>\n",
       "      <td>0.81</td>\n",
       "      <td>1.3</td>\n",
       "      <td>2.6</td>\n",
       "      <td>1.1</td>\n",
       "      <td>0</td>\n",
       "      <td>0</td>\n",
       "      <td>10</td>\n",
       "      <td>20</td>\n",
       "      <td>5</td>\n",
       "      <td>35</td>\n",
       "    </tr>\n",
       "    <tr>\n",
       "      <th>1</th>\n",
       "      <td>02.01.2016</td>\n",
       "      <td>Samstag</td>\n",
       "      <td>winter season</td>\n",
       "      <td>2</td>\n",
       "      <td>53</td>\n",
       "      <td>1</td>\n",
       "      <td>1</td>\n",
       "      <td>1</td>\n",
       "      <td>0</td>\n",
       "      <td>NaN</td>\n",
       "      <td>...</td>\n",
       "      <td>1.21</td>\n",
       "      <td>1.9</td>\n",
       "      <td>5.4</td>\n",
       "      <td>0.0</td>\n",
       "      <td>0</td>\n",
       "      <td>0</td>\n",
       "      <td>78</td>\n",
       "      <td>59</td>\n",
       "      <td>22</td>\n",
       "      <td>159</td>\n",
       "    </tr>\n",
       "    <tr>\n",
       "      <th>2</th>\n",
       "      <td>03.01.2016</td>\n",
       "      <td>Sonntag</td>\n",
       "      <td>winter season</td>\n",
       "      <td>3</td>\n",
       "      <td>53</td>\n",
       "      <td>1</td>\n",
       "      <td>1</td>\n",
       "      <td>1</td>\n",
       "      <td>0</td>\n",
       "      <td>NaN</td>\n",
       "      <td>...</td>\n",
       "      <td>0.23</td>\n",
       "      <td>0.0</td>\n",
       "      <td>5.9</td>\n",
       "      <td>0.0</td>\n",
       "      <td>0</td>\n",
       "      <td>0</td>\n",
       "      <td>0</td>\n",
       "      <td>0</td>\n",
       "      <td>0</td>\n",
       "      <td>0</td>\n",
       "    </tr>\n",
       "    <tr>\n",
       "      <th>3</th>\n",
       "      <td>04.01.2016</td>\n",
       "      <td>Montag</td>\n",
       "      <td>winter season</td>\n",
       "      <td>4</td>\n",
       "      <td>1</td>\n",
       "      <td>0</td>\n",
       "      <td>0</td>\n",
       "      <td>0</td>\n",
       "      <td>0</td>\n",
       "      <td>NaN</td>\n",
       "      <td>...</td>\n",
       "      <td>0.13</td>\n",
       "      <td>0.3</td>\n",
       "      <td>2.4</td>\n",
       "      <td>0.0</td>\n",
       "      <td>0</td>\n",
       "      <td>0</td>\n",
       "      <td>0</td>\n",
       "      <td>0</td>\n",
       "      <td>0</td>\n",
       "      <td>0</td>\n",
       "    </tr>\n",
       "    <tr>\n",
       "      <th>4</th>\n",
       "      <td>05.01.2016</td>\n",
       "      <td>Dienstag</td>\n",
       "      <td>winter season</td>\n",
       "      <td>5</td>\n",
       "      <td>1</td>\n",
       "      <td>0</td>\n",
       "      <td>0</td>\n",
       "      <td>0</td>\n",
       "      <td>0</td>\n",
       "      <td>NaN</td>\n",
       "      <td>...</td>\n",
       "      <td>0.00</td>\n",
       "      <td>0.0</td>\n",
       "      <td>3.4</td>\n",
       "      <td>1.3</td>\n",
       "      <td>0</td>\n",
       "      <td>0</td>\n",
       "      <td>0</td>\n",
       "      <td>0</td>\n",
       "      <td>0</td>\n",
       "      <td>0</td>\n",
       "    </tr>\n",
       "    <tr>\n",
       "      <th>...</th>\n",
       "      <td>...</td>\n",
       "      <td>...</td>\n",
       "      <td>...</td>\n",
       "      <td>...</td>\n",
       "      <td>...</td>\n",
       "      <td>...</td>\n",
       "      <td>...</td>\n",
       "      <td>...</td>\n",
       "      <td>...</td>\n",
       "      <td>...</td>\n",
       "      <td>...</td>\n",
       "      <td>...</td>\n",
       "      <td>...</td>\n",
       "      <td>...</td>\n",
       "      <td>...</td>\n",
       "      <td>...</td>\n",
       "      <td>...</td>\n",
       "      <td>...</td>\n",
       "      <td>...</td>\n",
       "      <td>...</td>\n",
       "      <td>...</td>\n",
       "    </tr>\n",
       "    <tr>\n",
       "      <th>1334</th>\n",
       "      <td>27.08.2019</td>\n",
       "      <td>Dienstag</td>\n",
       "      <td>summer season</td>\n",
       "      <td>1335</td>\n",
       "      <td>35</td>\n",
       "      <td>0</td>\n",
       "      <td>0</td>\n",
       "      <td>0</td>\n",
       "      <td>0</td>\n",
       "      <td>NaN</td>\n",
       "      <td>...</td>\n",
       "      <td>0.00</td>\n",
       "      <td>0.0</td>\n",
       "      <td>11.2</td>\n",
       "      <td>0.0</td>\n",
       "      <td>2</td>\n",
       "      <td>0</td>\n",
       "      <td>59</td>\n",
       "      <td>26</td>\n",
       "      <td>29</td>\n",
       "      <td>114</td>\n",
       "    </tr>\n",
       "    <tr>\n",
       "      <th>1335</th>\n",
       "      <td>28.08.2019</td>\n",
       "      <td>Mittwoch</td>\n",
       "      <td>summer season</td>\n",
       "      <td>1336</td>\n",
       "      <td>35</td>\n",
       "      <td>0</td>\n",
       "      <td>0</td>\n",
       "      <td>0</td>\n",
       "      <td>0</td>\n",
       "      <td>NaN</td>\n",
       "      <td>...</td>\n",
       "      <td>0.00</td>\n",
       "      <td>0.0</td>\n",
       "      <td>5.6</td>\n",
       "      <td>1.1</td>\n",
       "      <td>2</td>\n",
       "      <td>0</td>\n",
       "      <td>61</td>\n",
       "      <td>40</td>\n",
       "      <td>19</td>\n",
       "      <td>120</td>\n",
       "    </tr>\n",
       "    <tr>\n",
       "      <th>1336</th>\n",
       "      <td>29.08.2019</td>\n",
       "      <td>Donnerstag</td>\n",
       "      <td>summer season</td>\n",
       "      <td>1337</td>\n",
       "      <td>35</td>\n",
       "      <td>0</td>\n",
       "      <td>0</td>\n",
       "      <td>0</td>\n",
       "      <td>0</td>\n",
       "      <td>NaN</td>\n",
       "      <td>...</td>\n",
       "      <td>0.16</td>\n",
       "      <td>0.0</td>\n",
       "      <td>5.8</td>\n",
       "      <td>0.0</td>\n",
       "      <td>2</td>\n",
       "      <td>0</td>\n",
       "      <td>76</td>\n",
       "      <td>38</td>\n",
       "      <td>23</td>\n",
       "      <td>137</td>\n",
       "    </tr>\n",
       "    <tr>\n",
       "      <th>1337</th>\n",
       "      <td>30.08.2019</td>\n",
       "      <td>Freitag</td>\n",
       "      <td>summer season</td>\n",
       "      <td>1338</td>\n",
       "      <td>35</td>\n",
       "      <td>0</td>\n",
       "      <td>0</td>\n",
       "      <td>0</td>\n",
       "      <td>0</td>\n",
       "      <td>NaN</td>\n",
       "      <td>...</td>\n",
       "      <td>0.00</td>\n",
       "      <td>0.0</td>\n",
       "      <td>5.7</td>\n",
       "      <td>0.7</td>\n",
       "      <td>3</td>\n",
       "      <td>0</td>\n",
       "      <td>157</td>\n",
       "      <td>48</td>\n",
       "      <td>27</td>\n",
       "      <td>232</td>\n",
       "    </tr>\n",
       "    <tr>\n",
       "      <th>1338</th>\n",
       "      <td>31.08.2019</td>\n",
       "      <td>Samstag</td>\n",
       "      <td>summer season</td>\n",
       "      <td>1339</td>\n",
       "      <td>35</td>\n",
       "      <td>1</td>\n",
       "      <td>1</td>\n",
       "      <td>1</td>\n",
       "      <td>0</td>\n",
       "      <td>NaN</td>\n",
       "      <td>...</td>\n",
       "      <td>0.03</td>\n",
       "      <td>0.0</td>\n",
       "      <td>5.8</td>\n",
       "      <td>2.9</td>\n",
       "      <td>3</td>\n",
       "      <td>0</td>\n",
       "      <td>183</td>\n",
       "      <td>33</td>\n",
       "      <td>23</td>\n",
       "      <td>239</td>\n",
       "    </tr>\n",
       "  </tbody>\n",
       "</table>\n",
       "<p>1339 rows × 55 columns</p>\n",
       "</div>"
      ],
      "text/plain": [
       "           Datum   Wochentag         season  TagNr  WocheNr  isFreiZH  \\\n",
       "0     01.01.2016     Freitag  winter season      1       53         1   \n",
       "1     02.01.2016     Samstag  winter season      2       53         1   \n",
       "2     03.01.2016     Sonntag  winter season      3       53         1   \n",
       "3     04.01.2016      Montag  winter season      4        1         0   \n",
       "4     05.01.2016    Dienstag  winter season      5        1         0   \n",
       "...          ...         ...            ...    ...      ...       ...   \n",
       "1334  27.08.2019    Dienstag  summer season   1335       35         0   \n",
       "1335  28.08.2019    Mittwoch  summer season   1336       35         0   \n",
       "1336  29.08.2019  Donnerstag  summer season   1337       35         0   \n",
       "1337  30.08.2019     Freitag  summer season   1338       35         0   \n",
       "1338  31.08.2019     Samstag  summer season   1339       35         1   \n",
       "\n",
       "      isFreiSG  isFreiGR  isFerienZH Ferien Desc ZH  ...  precip_1h_mm_sum  \\\n",
       "0            1         1           0            NaN  ...              0.81   \n",
       "1            1         1           0            NaN  ...              1.21   \n",
       "2            1         1           0            NaN  ...              0.23   \n",
       "3            0         0           0            NaN  ...              0.13   \n",
       "4            0         0           0            NaN  ...              0.00   \n",
       "...        ...       ...         ...            ...  ...               ...   \n",
       "1334         0         0           0            NaN  ...              0.00   \n",
       "1335         0         0           0            NaN  ...              0.00   \n",
       "1336         0         0           0            NaN  ...              0.16   \n",
       "1337         0         0           0            NaN  ...              0.00   \n",
       "1338         1         1           0            NaN  ...              0.03   \n",
       "\n",
       "      fresh_snow_1h_cm_sum  wind_speed_mean_10m_1h_ms_avg  \\\n",
       "0                      1.3                            2.6   \n",
       "1                      1.9                            5.4   \n",
       "2                      0.0                            5.9   \n",
       "3                      0.3                            2.4   \n",
       "4                      0.0                            3.4   \n",
       "...                    ...                            ...   \n",
       "1334                   0.0                           11.2   \n",
       "1335                   0.0                            5.6   \n",
       "1336                   0.0                            5.8   \n",
       "1337                   0.0                            5.7   \n",
       "1338                   0.0                            5.8   \n",
       "\n",
       "     weather_symbol_1h_idx_spe  number_of_events  isHumorfestival  Schalter  \\\n",
       "0                          1.1                 0                0        10   \n",
       "1                          0.0                 0                0        78   \n",
       "2                          0.0                 0                0         0   \n",
       "3                          0.0                 0                0         0   \n",
       "4                          1.3                 0                0         0   \n",
       "...                        ...               ...              ...       ...   \n",
       "1334                       0.0                 2                0        59   \n",
       "1335                       1.1                 2                0        61   \n",
       "1336                       0.0                 2                0        76   \n",
       "1337                       0.7                 3                0       157   \n",
       "1338                       2.9                 3                0       183   \n",
       "\n",
       "     Tel  Mail  Total Anfragen  \n",
       "0     20     5              35  \n",
       "1     59    22             159  \n",
       "2      0     0               0  \n",
       "3      0     0               0  \n",
       "4      0     0               0  \n",
       "...   ..   ...             ...  \n",
       "1334  26    29             114  \n",
       "1335  40    19             120  \n",
       "1336  38    23             137  \n",
       "1337  48    27             232  \n",
       "1338  33    23             239  \n",
       "\n",
       "[1339 rows x 55 columns]"
      ]
     },
     "execution_count": 5,
     "metadata": {},
     "output_type": "execute_result"
    }
   ],
   "source": [
    "df = pd.read_csv(os.path.join(path_in, file_name),delimiter=';')\n",
    "df"
   ]
  },
  {
   "cell_type": "code",
   "execution_count": 6,
   "metadata": {
    "ExecuteTime": {
     "end_time": "2019-11-30T12:06:21.446523Z",
     "start_time": "2019-11-30T12:06:21.428870Z"
    }
   },
   "outputs": [
    {
     "data": {
      "text/html": [
       "<div>\n",
       "<style scoped>\n",
       "    .dataframe tbody tr th:only-of-type {\n",
       "        vertical-align: middle;\n",
       "    }\n",
       "\n",
       "    .dataframe tbody tr th {\n",
       "        vertical-align: top;\n",
       "    }\n",
       "\n",
       "    .dataframe thead th {\n",
       "        text-align: right;\n",
       "    }\n",
       "</style>\n",
       "<table border=\"1\" class=\"dataframe\">\n",
       "  <thead>\n",
       "    <tr style=\"text-align: right;\">\n",
       "      <th></th>\n",
       "      <th>Datum</th>\n",
       "      <th>Wochentag</th>\n",
       "      <th>season</th>\n",
       "      <th>TagNr</th>\n",
       "      <th>WocheNr</th>\n",
       "      <th>isFreiZH</th>\n",
       "      <th>isFreiSG</th>\n",
       "      <th>isFreiGR</th>\n",
       "      <th>isFerienZH</th>\n",
       "      <th>Ferien Desc ZH</th>\n",
       "      <th>...</th>\n",
       "      <th>precip_1h_mm_sum</th>\n",
       "      <th>fresh_snow_1h_cm_sum</th>\n",
       "      <th>wind_speed_mean_10m_1h_ms_avg</th>\n",
       "      <th>weather_symbol_1h_idx_spe</th>\n",
       "      <th>number_of_events</th>\n",
       "      <th>isHumorfestival</th>\n",
       "      <th>Schalter</th>\n",
       "      <th>Tel</th>\n",
       "      <th>Mail</th>\n",
       "      <th>Total Anfragen</th>\n",
       "    </tr>\n",
       "  </thead>\n",
       "  <tbody>\n",
       "    <tr>\n",
       "      <th>1338</th>\n",
       "      <td>31.08.2019</td>\n",
       "      <td>Samstag</td>\n",
       "      <td>summer season</td>\n",
       "      <td>1339</td>\n",
       "      <td>35</td>\n",
       "      <td>1</td>\n",
       "      <td>1</td>\n",
       "      <td>1</td>\n",
       "      <td>0</td>\n",
       "      <td>NaN</td>\n",
       "      <td>...</td>\n",
       "      <td>0.03</td>\n",
       "      <td>0.0</td>\n",
       "      <td>5.8</td>\n",
       "      <td>2.9</td>\n",
       "      <td>3</td>\n",
       "      <td>0</td>\n",
       "      <td>183</td>\n",
       "      <td>33</td>\n",
       "      <td>23</td>\n",
       "      <td>239</td>\n",
       "    </tr>\n",
       "  </tbody>\n",
       "</table>\n",
       "<p>1 rows × 55 columns</p>\n",
       "</div>"
      ],
      "text/plain": [
       "           Datum Wochentag         season  TagNr  WocheNr  isFreiZH  isFreiSG  \\\n",
       "1338  31.08.2019   Samstag  summer season   1339       35         1         1   \n",
       "\n",
       "      isFreiGR  isFerienZH Ferien Desc ZH  ...  precip_1h_mm_sum  \\\n",
       "1338         1           0            NaN  ...              0.03   \n",
       "\n",
       "      fresh_snow_1h_cm_sum  wind_speed_mean_10m_1h_ms_avg  \\\n",
       "1338                   0.0                            5.8   \n",
       "\n",
       "     weather_symbol_1h_idx_spe  number_of_events  isHumorfestival  Schalter  \\\n",
       "1338                       2.9                 3                0       183   \n",
       "\n",
       "     Tel  Mail  Total Anfragen  \n",
       "1338  33    23             239  \n",
       "\n",
       "[1 rows x 55 columns]"
      ]
     },
     "execution_count": 6,
     "metadata": {},
     "output_type": "execute_result"
    }
   ],
   "source": [
    "df[df['Datum']=='31.08.2019']"
   ]
  },
  {
   "cell_type": "code",
   "execution_count": 7,
   "metadata": {
    "ExecuteTime": {
     "end_time": "2019-11-30T12:06:21.484456Z",
     "start_time": "2019-11-30T12:06:21.480457Z"
    }
   },
   "outputs": [
    {
     "data": {
      "text/plain": [
       "1339"
      ]
     },
     "execution_count": 7,
     "metadata": {},
     "output_type": "execute_result"
    }
   ],
   "source": [
    "len(df)"
   ]
  },
  {
   "cell_type": "markdown",
   "metadata": {},
   "source": [
    "# Overview of Data"
   ]
  },
  {
   "cell_type": "code",
   "execution_count": 8,
   "metadata": {
    "ExecuteTime": {
     "end_time": "2019-11-30T12:06:21.522529Z",
     "start_time": "2019-11-30T12:06:21.519828Z"
    },
    "scrolled": true
   },
   "outputs": [],
   "source": [
    "#df.profile_report()"
   ]
  },
  {
   "cell_type": "markdown",
   "metadata": {},
   "source": [
    "# Preprocessing"
   ]
  },
  {
   "cell_type": "code",
   "execution_count": 9,
   "metadata": {
    "ExecuteTime": {
     "end_time": "2019-11-30T12:06:21.807050Z",
     "start_time": "2019-11-30T12:06:21.804797Z"
    },
    "scrolled": true
   },
   "outputs": [],
   "source": [
    "# df['Total Anfragen'].replace('-', 0)\n",
    "#df[df['Total Anfragen']=='-']\n",
    "#df.astype({'Total Anfragen': 'int32'}).dtypes"
   ]
  },
  {
   "cell_type": "code",
   "execution_count": 10,
   "metadata": {
    "ExecuteTime": {
     "end_time": "2019-11-30T12:06:22.000989Z",
     "start_time": "2019-11-30T12:06:21.996728Z"
    }
   },
   "outputs": [
    {
     "data": {
      "text/plain": [
       "dtype('int64')"
      ]
     },
     "execution_count": 10,
     "metadata": {},
     "output_type": "execute_result"
    }
   ],
   "source": [
    "df['Total Anfragen'].dtypes"
   ]
  },
  {
   "cell_type": "code",
   "execution_count": 11,
   "metadata": {
    "ExecuteTime": {
     "end_time": "2019-11-30T12:06:22.182406Z",
     "start_time": "2019-11-30T12:06:22.177711Z"
    }
   },
   "outputs": [
    {
     "data": {
      "text/plain": [
       "['Datum',\n",
       " 'Wochentag',\n",
       " 'season',\n",
       " 'TagNr',\n",
       " 'WocheNr',\n",
       " 'isFreiZH',\n",
       " 'isFreiSG',\n",
       " 'isFreiGR',\n",
       " 'isFerienZH',\n",
       " 'Ferien Desc ZH',\n",
       " 'IsFerienZH_plus3',\n",
       " 'isFerienZH_minus3',\n",
       " 'isFerienSG',\n",
       " 'Ferien Desc SG',\n",
       " 'IsFerienSG_plus3',\n",
       " 'isFerienSG_minus3',\n",
       " 'isFerienGR',\n",
       " 'Ferien Desc GR',\n",
       " 'IsFerienGR_plus3',\n",
       " 'isFerienGR_minus3',\n",
       " 'Feiertag Desc',\n",
       " 'isFeiertag ZH',\n",
       " 'IsFeiertagZH_plus3',\n",
       " 'isFeiertagZH_minus3',\n",
       " 'isFeiertag SG',\n",
       " 'IsFeiertagSG_plus3',\n",
       " 'isFeiertagSG_minus3',\n",
       " 'isFeiertag GR',\n",
       " 'IsFeiertagGR_plus3',\n",
       " 'isFeiertagGR_minus3',\n",
       " 't_2m_c_avg',\n",
       " 'snow_depth_cm_avg',\n",
       " 'visibility_m_avg',\n",
       " 'wind_speed_10m_ms_max',\n",
       " 'prob_precip_1h_p_avg',\n",
       " 'prob_tstorm_1h_p_avg',\n",
       " 'hail_idx_avg',\n",
       " 'wind_gusts_10m_ms_max',\n",
       " 'wind_speed_mean_10m_24h_ms_avg',\n",
       " 't_max_2m_24h_c_max',\n",
       " 't_min_2m_24h_c_min',\n",
       " 'precip_24h_mm_max',\n",
       " 'fresh_snow_24h_cm_max',\n",
       " 'is_sleet_1h_idx_max',\n",
       " 'is_fog_1h_idx_max',\n",
       " 'precip_1h_mm_sum',\n",
       " 'fresh_snow_1h_cm_sum',\n",
       " 'wind_speed_mean_10m_1h_ms_avg',\n",
       " 'weather_symbol_1h_idx_spe',\n",
       " 'number_of_events',\n",
       " 'isHumorfestival',\n",
       " 'Tel',\n",
       " 'Mail',\n",
       " 'Total Anfragen']"
      ]
     },
     "execution_count": 11,
     "metadata": {},
     "output_type": "execute_result"
    }
   ],
   "source": [
    "target_variable = 'Schalter'\n",
    "col_names= list(df)\n",
    "col_names.remove(target_variable)\n",
    "col_names"
   ]
  },
  {
   "cell_type": "code",
   "execution_count": 12,
   "metadata": {
    "ExecuteTime": {
     "end_time": "2019-11-30T12:06:22.371843Z",
     "start_time": "2019-11-30T12:06:22.364706Z"
    }
   },
   "outputs": [],
   "source": [
    "df = df.dropna(subset=[target_variable])"
   ]
  },
  {
   "cell_type": "code",
   "execution_count": 13,
   "metadata": {
    "ExecuteTime": {
     "end_time": "2019-11-30T12:06:22.550080Z",
     "start_time": "2019-11-30T12:06:22.543917Z"
    }
   },
   "outputs": [
    {
     "name": "stdout",
     "output_type": "stream",
     "text": [
      "Datum                                0\n",
      "Wochentag                            0\n",
      "season                               0\n",
      "TagNr                                0\n",
      "WocheNr                              0\n",
      "isFreiZH                             0\n",
      "isFreiSG                             0\n",
      "isFreiGR                             0\n",
      "isFerienZH                           0\n",
      "Ferien Desc ZH                    1024\n",
      "IsFerienZH_plus3                     0\n",
      "isFerienZH_minus3                    0\n",
      "isFerienSG                           0\n",
      "Ferien Desc SG                    1042\n",
      "IsFerienSG_plus3                     0\n",
      "isFerienSG_minus3                    0\n",
      "isFerienGR                           0\n",
      "Ferien Desc GR                     998\n",
      "IsFerienGR_plus3                     0\n",
      "isFerienGR_minus3                    0\n",
      "Feiertag Desc                     1194\n",
      "isFeiertag ZH                        0\n",
      "IsFeiertagZH_plus3                   0\n",
      "isFeiertagZH_minus3                  0\n",
      "isFeiertag SG                        0\n",
      "IsFeiertagSG_plus3                   0\n",
      "isFeiertagSG_minus3                  0\n",
      "isFeiertag GR                        0\n",
      "IsFeiertagGR_plus3                   0\n",
      "isFeiertagGR_minus3                  0\n",
      "t_2m_c_avg                           0\n",
      "snow_depth_cm_avg                    0\n",
      "visibility_m_avg                     0\n",
      "wind_speed_10m_ms_max                0\n",
      "prob_precip_1h_p_avg                 0\n",
      "prob_tstorm_1h_p_avg                 0\n",
      "hail_idx_avg                         0\n",
      "wind_gusts_10m_ms_max                0\n",
      "wind_speed_mean_10m_24h_ms_avg       0\n",
      "t_max_2m_24h_c_max                   0\n",
      "t_min_2m_24h_c_min                   0\n",
      "precip_24h_mm_max                    0\n",
      "fresh_snow_24h_cm_max                0\n",
      "is_sleet_1h_idx_max                  0\n",
      "is_fog_1h_idx_max                    0\n",
      "precip_1h_mm_sum                     0\n",
      "fresh_snow_1h_cm_sum                 0\n",
      "wind_speed_mean_10m_1h_ms_avg        0\n",
      "weather_symbol_1h_idx_spe            0\n",
      "number_of_events                     0\n",
      "isHumorfestival                      0\n",
      "Schalter                             0\n",
      "Tel                                  0\n",
      "Mail                                 0\n",
      "Total Anfragen                       0\n",
      "dtype: int64\n"
     ]
    }
   ],
   "source": [
    "nulls_per_column = df.isnull().sum()\n",
    "print(nulls_per_column)"
   ]
  },
  {
   "cell_type": "code",
   "execution_count": 14,
   "metadata": {
    "ExecuteTime": {
     "end_time": "2019-11-30T12:06:22.759359Z",
     "start_time": "2019-11-30T12:06:22.739905Z"
    }
   },
   "outputs": [
    {
     "data": {
      "text/html": [
       "<div>\n",
       "<style scoped>\n",
       "    .dataframe tbody tr th:only-of-type {\n",
       "        vertical-align: middle;\n",
       "    }\n",
       "\n",
       "    .dataframe tbody tr th {\n",
       "        vertical-align: top;\n",
       "    }\n",
       "\n",
       "    .dataframe thead th {\n",
       "        text-align: right;\n",
       "    }\n",
       "</style>\n",
       "<table border=\"1\" class=\"dataframe\">\n",
       "  <thead>\n",
       "    <tr style=\"text-align: right;\">\n",
       "      <th></th>\n",
       "      <th>Datum</th>\n",
       "      <th>Wochentag</th>\n",
       "      <th>season</th>\n",
       "      <th>TagNr</th>\n",
       "      <th>WocheNr</th>\n",
       "      <th>isFreiZH</th>\n",
       "      <th>isFreiSG</th>\n",
       "      <th>isFreiGR</th>\n",
       "      <th>isFerienZH</th>\n",
       "      <th>Ferien Desc ZH</th>\n",
       "      <th>...</th>\n",
       "      <th>precip_1h_mm_sum</th>\n",
       "      <th>fresh_snow_1h_cm_sum</th>\n",
       "      <th>wind_speed_mean_10m_1h_ms_avg</th>\n",
       "      <th>weather_symbol_1h_idx_spe</th>\n",
       "      <th>number_of_events</th>\n",
       "      <th>isHumorfestival</th>\n",
       "      <th>Schalter</th>\n",
       "      <th>Tel</th>\n",
       "      <th>Mail</th>\n",
       "      <th>Total Anfragen</th>\n",
       "    </tr>\n",
       "  </thead>\n",
       "  <tbody>\n",
       "    <tr>\n",
       "      <th>911</th>\n",
       "      <td>30.06.2018</td>\n",
       "      <td>Samstag</td>\n",
       "      <td>summer season</td>\n",
       "      <td>912</td>\n",
       "      <td>26</td>\n",
       "      <td>1</td>\n",
       "      <td>1</td>\n",
       "      <td>1</td>\n",
       "      <td>0</td>\n",
       "      <td>NaN</td>\n",
       "      <td>...</td>\n",
       "      <td>0.0</td>\n",
       "      <td>0.0</td>\n",
       "      <td>8.2</td>\n",
       "      <td>2.0</td>\n",
       "      <td>0</td>\n",
       "      <td>0</td>\n",
       "      <td>65</td>\n",
       "      <td>2</td>\n",
       "      <td>2</td>\n",
       "      <td>69</td>\n",
       "    </tr>\n",
       "  </tbody>\n",
       "</table>\n",
       "<p>1 rows × 55 columns</p>\n",
       "</div>"
      ],
      "text/plain": [
       "          Datum Wochentag         season  TagNr  WocheNr  isFreiZH  isFreiSG  \\\n",
       "911  30.06.2018   Samstag  summer season    912       26         1         1   \n",
       "\n",
       "     isFreiGR  isFerienZH Ferien Desc ZH  ...  precip_1h_mm_sum  \\\n",
       "911         1           0            NaN  ...               0.0   \n",
       "\n",
       "     fresh_snow_1h_cm_sum  wind_speed_mean_10m_1h_ms_avg  \\\n",
       "911                   0.0                            8.2   \n",
       "\n",
       "    weather_symbol_1h_idx_spe  number_of_events  isHumorfestival  Schalter  \\\n",
       "911                       2.0                 0                0        65   \n",
       "\n",
       "    Tel  Mail  Total Anfragen  \n",
       "911   2     2              69  \n",
       "\n",
       "[1 rows x 55 columns]"
      ]
     },
     "execution_count": 14,
     "metadata": {},
     "output_type": "execute_result"
    }
   ],
   "source": [
    "df[df.Datum == '30.06.2018']"
   ]
  },
  {
   "cell_type": "code",
   "execution_count": 15,
   "metadata": {
    "ExecuteTime": {
     "end_time": "2019-11-30T12:06:22.964833Z",
     "start_time": "2019-11-30T12:06:22.929022Z"
    }
   },
   "outputs": [
    {
     "data": {
      "text/html": [
       "<div>\n",
       "<style scoped>\n",
       "    .dataframe tbody tr th:only-of-type {\n",
       "        vertical-align: middle;\n",
       "    }\n",
       "\n",
       "    .dataframe tbody tr th {\n",
       "        vertical-align: top;\n",
       "    }\n",
       "\n",
       "    .dataframe thead th {\n",
       "        text-align: right;\n",
       "    }\n",
       "</style>\n",
       "<table border=\"1\" class=\"dataframe\">\n",
       "  <thead>\n",
       "    <tr style=\"text-align: right;\">\n",
       "      <th></th>\n",
       "      <th>Wochentag</th>\n",
       "      <th>season</th>\n",
       "      <th>TagNr</th>\n",
       "      <th>WocheNr</th>\n",
       "      <th>isFreiZH</th>\n",
       "      <th>isFreiSG</th>\n",
       "      <th>isFreiGR</th>\n",
       "      <th>isFerienZH</th>\n",
       "      <th>Ferien Desc ZH</th>\n",
       "      <th>IsFerienZH_plus3</th>\n",
       "      <th>...</th>\n",
       "      <th>precip_24h_mm_max</th>\n",
       "      <th>fresh_snow_24h_cm_max</th>\n",
       "      <th>is_sleet_1h_idx_max</th>\n",
       "      <th>is_fog_1h_idx_max</th>\n",
       "      <th>precip_1h_mm_sum</th>\n",
       "      <th>fresh_snow_1h_cm_sum</th>\n",
       "      <th>wind_speed_mean_10m_1h_ms_avg</th>\n",
       "      <th>weather_symbol_1h_idx_spe</th>\n",
       "      <th>number_of_events</th>\n",
       "      <th>isHumorfestival</th>\n",
       "    </tr>\n",
       "  </thead>\n",
       "  <tbody>\n",
       "    <tr>\n",
       "      <th>932</th>\n",
       "      <td>Samstag</td>\n",
       "      <td>summer season</td>\n",
       "      <td>933</td>\n",
       "      <td>29</td>\n",
       "      <td>1</td>\n",
       "      <td>1</td>\n",
       "      <td>1</td>\n",
       "      <td>1</td>\n",
       "      <td>Sommerferien</td>\n",
       "      <td>1</td>\n",
       "      <td>...</td>\n",
       "      <td>24.99</td>\n",
       "      <td>0.0</td>\n",
       "      <td>0</td>\n",
       "      <td>1</td>\n",
       "      <td>1.55</td>\n",
       "      <td>0.0</td>\n",
       "      <td>3.5</td>\n",
       "      <td>0.3</td>\n",
       "      <td>0</td>\n",
       "      <td>0</td>\n",
       "    </tr>\n",
       "    <tr>\n",
       "      <th>933</th>\n",
       "      <td>Sonntag</td>\n",
       "      <td>summer season</td>\n",
       "      <td>934</td>\n",
       "      <td>29</td>\n",
       "      <td>1</td>\n",
       "      <td>1</td>\n",
       "      <td>1</td>\n",
       "      <td>1</td>\n",
       "      <td>Sommerferien</td>\n",
       "      <td>1</td>\n",
       "      <td>...</td>\n",
       "      <td>10.40</td>\n",
       "      <td>0.0</td>\n",
       "      <td>0</td>\n",
       "      <td>0</td>\n",
       "      <td>0.09</td>\n",
       "      <td>0.0</td>\n",
       "      <td>6.7</td>\n",
       "      <td>0.0</td>\n",
       "      <td>0</td>\n",
       "      <td>0</td>\n",
       "    </tr>\n",
       "    <tr>\n",
       "      <th>934</th>\n",
       "      <td>Montag</td>\n",
       "      <td>summer season</td>\n",
       "      <td>935</td>\n",
       "      <td>30</td>\n",
       "      <td>1</td>\n",
       "      <td>1</td>\n",
       "      <td>1</td>\n",
       "      <td>1</td>\n",
       "      <td>Sommerferien</td>\n",
       "      <td>1</td>\n",
       "      <td>...</td>\n",
       "      <td>0.83</td>\n",
       "      <td>0.0</td>\n",
       "      <td>0</td>\n",
       "      <td>0</td>\n",
       "      <td>0.60</td>\n",
       "      <td>0.0</td>\n",
       "      <td>6.1</td>\n",
       "      <td>1.0</td>\n",
       "      <td>0</td>\n",
       "      <td>0</td>\n",
       "    </tr>\n",
       "    <tr>\n",
       "      <th>935</th>\n",
       "      <td>Dienstag</td>\n",
       "      <td>summer season</td>\n",
       "      <td>936</td>\n",
       "      <td>30</td>\n",
       "      <td>1</td>\n",
       "      <td>1</td>\n",
       "      <td>1</td>\n",
       "      <td>1</td>\n",
       "      <td>Sommerferien</td>\n",
       "      <td>1</td>\n",
       "      <td>...</td>\n",
       "      <td>4.90</td>\n",
       "      <td>0.0</td>\n",
       "      <td>0</td>\n",
       "      <td>0</td>\n",
       "      <td>0.00</td>\n",
       "      <td>0.0</td>\n",
       "      <td>6.9</td>\n",
       "      <td>0.0</td>\n",
       "      <td>0</td>\n",
       "      <td>0</td>\n",
       "    </tr>\n",
       "    <tr>\n",
       "      <th>936</th>\n",
       "      <td>Mittwoch</td>\n",
       "      <td>summer season</td>\n",
       "      <td>937</td>\n",
       "      <td>30</td>\n",
       "      <td>1</td>\n",
       "      <td>1</td>\n",
       "      <td>1</td>\n",
       "      <td>1</td>\n",
       "      <td>Sommerferien</td>\n",
       "      <td>1</td>\n",
       "      <td>...</td>\n",
       "      <td>0.00</td>\n",
       "      <td>0.0</td>\n",
       "      <td>0</td>\n",
       "      <td>0</td>\n",
       "      <td>0.00</td>\n",
       "      <td>0.0</td>\n",
       "      <td>7.2</td>\n",
       "      <td>0.9</td>\n",
       "      <td>0</td>\n",
       "      <td>0</td>\n",
       "    </tr>\n",
       "  </tbody>\n",
       "</table>\n",
       "<p>5 rows × 50 columns</p>\n",
       "</div>"
      ],
      "text/plain": [
       "    Wochentag         season  TagNr  WocheNr  isFreiZH  isFreiSG  isFreiGR  \\\n",
       "932   Samstag  summer season    933       29         1         1         1   \n",
       "933   Sonntag  summer season    934       29         1         1         1   \n",
       "934    Montag  summer season    935       30         1         1         1   \n",
       "935  Dienstag  summer season    936       30         1         1         1   \n",
       "936  Mittwoch  summer season    937       30         1         1         1   \n",
       "\n",
       "     isFerienZH Ferien Desc ZH  IsFerienZH_plus3  ...  precip_24h_mm_max  \\\n",
       "932           1   Sommerferien                 1  ...              24.99   \n",
       "933           1   Sommerferien                 1  ...              10.40   \n",
       "934           1   Sommerferien                 1  ...               0.83   \n",
       "935           1   Sommerferien                 1  ...               4.90   \n",
       "936           1   Sommerferien                 1  ...               0.00   \n",
       "\n",
       "     fresh_snow_24h_cm_max is_sleet_1h_idx_max  is_fog_1h_idx_max  \\\n",
       "932                    0.0                   0                  1   \n",
       "933                    0.0                   0                  0   \n",
       "934                    0.0                   0                  0   \n",
       "935                    0.0                   0                  0   \n",
       "936                    0.0                   0                  0   \n",
       "\n",
       "     precip_1h_mm_sum  fresh_snow_1h_cm_sum wind_speed_mean_10m_1h_ms_avg  \\\n",
       "932              1.55                   0.0                           3.5   \n",
       "933              0.09                   0.0                           6.7   \n",
       "934              0.60                   0.0                           6.1   \n",
       "935              0.00                   0.0                           6.9   \n",
       "936              0.00                   0.0                           7.2   \n",
       "\n",
       "     weather_symbol_1h_idx_spe  number_of_events isHumorfestival  \n",
       "932                        0.3                 0               0  \n",
       "933                        0.0                 0               0  \n",
       "934                        1.0                 0               0  \n",
       "935                        0.0                 0               0  \n",
       "936                        0.9                 0               0  \n",
       "\n",
       "[5 rows x 50 columns]"
      ]
     },
     "execution_count": 15,
     "metadata": {},
     "output_type": "execute_result"
    }
   ],
   "source": [
    "col_names= list(df)\n",
    "col_names.remove(target_variable)\n",
    "df= df[df.Datum != '09.03.2016']\n",
    "col_names.remove('Tel')\n",
    "col_names.remove('Mail')\n",
    "col_names.remove('Total Anfragen')\n",
    "col_names.remove('Datum')\n",
    "df = df.dropna(subset=[target_variable])\n",
    "X, y = df[col_names],df[target_variable]\n",
    "\n",
    "X_train, X_test, y_train, y_test= train_test_split(X, y, test_size=0.3, random_state=123,shuffle=False)\n",
    "X_test, X_val, y_test, y_val= train_test_split(X_test, y_test, test_size=0.5, random_state=123,shuffle=False)\n",
    "X_train.tail()"
   ]
  },
  {
   "cell_type": "markdown",
   "metadata": {},
   "source": [
    "# XGBoost Model"
   ]
  },
  {
   "cell_type": "code",
   "execution_count": 16,
   "metadata": {
    "ExecuteTime": {
     "end_time": "2019-11-30T12:06:23.579942Z",
     "start_time": "2019-11-30T12:06:23.313073Z"
    }
   },
   "outputs": [
    {
     "name": "stderr",
     "output_type": "stream",
     "text": [
      "/Users/fight/2019_hack_arosa/lib/python3.7/site-packages/xgboost/core.py:587: FutureWarning: Series.base is deprecated and will be removed in a future version\n",
      "  if getattr(data, 'base', None) is not None and \\\n"
     ]
    }
   ],
   "source": [
    "params1 = {'n_jobs': 8 }\n",
    "\n",
    "pipeline1 = Pipeline([\n",
    "                     (\"vectorizer\", DictVectorizer(sort=False)),\n",
    "                     (\"xgb_model\", xgb.XGBRegressor(**params1, objective='reg:squarederror')) \n",
    "                    ])\n",
    "\n",
    "xgb_fit = pipeline1.fit(X_train.to_dict(\"records\"), y_train)"
   ]
  },
  {
   "cell_type": "code",
   "execution_count": 17,
   "metadata": {
    "ExecuteTime": {
     "end_time": "2019-11-30T12:06:23.740692Z",
     "start_time": "2019-11-30T12:06:23.738161Z"
    }
   },
   "outputs": [],
   "source": [
    "def mape_vectorized_v2(a, b): \n",
    "    mask = a != 0\n",
    "    return (np.fabs(a - b)/a)[mask].mean()"
   ]
  },
  {
   "cell_type": "code",
   "execution_count": 18,
   "metadata": {
    "ExecuteTime": {
     "end_time": "2019-11-30T12:06:23.888400Z",
     "start_time": "2019-11-30T12:06:23.884883Z"
    }
   },
   "outputs": [],
   "source": [
    "def mean_absolute_percentage_error(y_true, y_pred): \n",
    "    y_true, y_pred = np.array(y_true), np.array(y_pred)\n",
    "    return np.mean(np.abs((y_true - y_pred) / y_true)) * 100"
   ]
  },
  {
   "cell_type": "code",
   "execution_count": 19,
   "metadata": {
    "ExecuteTime": {
     "end_time": "2019-11-30T12:06:24.060937Z",
     "start_time": "2019-11-30T12:06:24.034953Z"
    }
   },
   "outputs": [
    {
     "name": "stdout",
     "output_type": "stream",
     "text": [
      "Mean Absolute Error : 13.79394056785166\n",
      "Mean Squared Error : 277.03904073707275\n",
      "Mean Absolute Percentage Error : 0.33394516535334273\n",
      "Mean Absolute Percentage Error : inf\n"
     ]
    },
    {
     "name": "stderr",
     "output_type": "stream",
     "text": [
      "/Users/fight/2019_hack_arosa/lib/python3.7/site-packages/ipykernel_launcher.py:3: RuntimeWarning: divide by zero encountered in true_divide\n",
      "  This is separate from the ipykernel package so we can avoid doing imports until\n"
     ]
    }
   ],
   "source": [
    "#Computing the MAE of our predictions\n",
    "preds = xgb_fit.predict(X_test.to_dict(\"records\"))\n",
    "print(\"Mean Absolute Error : \" + str(mean_absolute_error(preds, y_test)))\n",
    "print(\"Mean Squared Error : \" + str(mean_squared_error(preds, y_test)))\n",
    "print(\"Mean Absolute Percentage Error : \" + str(mape_vectorized_v2(preds, y_test)))\n",
    "print(\"Mean Absolute Percentage Error : \" + str(mean_absolute_percentage_error(y_test, preds)))"
   ]
  },
  {
   "cell_type": "code",
   "execution_count": 20,
   "metadata": {
    "ExecuteTime": {
     "end_time": "2019-11-30T09:41:12.989411Z",
     "start_time": "2019-11-30T09:41:12.983083Z"
    }
   },
   "outputs": [
    {
     "data": {
      "text/plain": [
       "array([69.94032  , 72.091515 , 76.9005   , 66.95416  , 71.52734  ,\n",
       "       67.07724  , 59.64536  , 65.49324  , 68.992355 , 84.20682  ,\n",
       "       76.40279  , 83.98203  , 64.81064  , 71.589386 , 68.923096 ,\n",
       "       70.37989  , 79.84477  , 64.044586 , 37.903675 , 33.572506 ,\n",
       "       42.382454 , 35.148    , 40.329136 , 35.03763  , 31.092909 ,\n",
       "       36.37624  , 35.923595 , 30.498968 , 34.297718 , 35.082287 ,\n",
       "       36.601566 , 27.799633 , 46.12047  , 38.754036 , 35.887764 ,\n",
       "       30.173496 , 33.242104 , 33.902096 , 27.18129  , 37.629707 ,\n",
       "       36.08855  , 44.210243 , 33.964783 , 36.918697 , 40.338535 ,\n",
       "       31.32248  , 37.685642 , 35.913017 , 34.654053 , 34.297718 ,\n",
       "       35.756847 , 41.635544 , 30.857042 , 40.295193 , 34.38315  ,\n",
       "       31.526482 , 35.213123 , 40.886395 , 37.61284  , 41.61134  ,\n",
       "       31.055582 , 31.714737 , 32.30297  , 31.688545 , 38.42051  ,\n",
       "       38.062305 , 27.941898 , 31.681292 , 33.484146 , 29.77019  ,\n",
       "       32.90131  , 48.79312  , 36.76753  , 30.535591 , 36.687805 ,\n",
       "       34.490788 , 34.9445   , 33.97843  , 49.30905  , 37.81578  ,\n",
       "       29.87686  , 33.10518  , 28.08532  , 28.871744 , 27.341806 ,\n",
       "       34.53506  , 32.95311  , 23.017216 , 23.1146   , 21.430382 ,\n",
       "       16.96394  , 18.815474 , 23.600994 , 26.020763 , 22.936556 ,\n",
       "       28.309694 , 18.691395 , 19.703623 , 16.489439 , 19.35092  ,\n",
       "       22.876167 , 14.602968 , 18.506784 , 23.02714  , 17.893332 ,\n",
       "       17.22297  , 21.823488 , 23.533226 , 15.1690235, 20.141436 ,\n",
       "       19.837877 , 18.52672  , 18.291561 , 22.258692 , 24.802763 ,\n",
       "       16.127033 , 21.297628 , 20.82262  , 19.426622 , 17.385363 ,\n",
       "       25.6489   , 23.142681 , 15.847071 , 21.35376  , 20.262543 ,\n",
       "       18.286585 , 18.418713 , 20.845667 , 24.845913 , 16.28672  ,\n",
       "       29.570263 , 34.75889  , 32.282047 , 38.833744 , 37.920242 ,\n",
       "       49.448414 , 41.629025 , 44.259026 , 38.049763 , 39.46934  ,\n",
       "       38.144947 , 41.65534  , 43.218243 , 34.957733 , 33.540276 ,\n",
       "       33.50047  , 31.134203 , 30.176228 , 36.036415 , 33.190178 ,\n",
       "       29.14466  , 46.221092 , 46.851685 , 47.955235 , 46.951855 ,\n",
       "       49.92165  , 52.318523 , 30.624212 , 38.57303  , 32.776627 ,\n",
       "       46.773586 , 35.086834 , 35.827286 , 50.426815 , 30.972061 ,\n",
       "       39.735264 , 42.712826 , 35.13312  , 35.127422 , 36.323437 ,\n",
       "       42.49072  , 37.84592  , 43.080814 , 36.312096 , 34.169487 ,\n",
       "       36.5524   , 39.441734 , 41.71746  , 32.80007  , 38.395813 ,\n",
       "       36.854656 , 33.248394 , 34.05389  , 35.702374 , 38.682358 ,\n",
       "       32.658382 , 44.474617 , 37.87748  , 35.552284 , 36.136463 ,\n",
       "       46.62042  , 34.76061  , 37.892754 , 36.0321   , 36.854656 ,\n",
       "       33.248394 , 34.256596 , 44.081177 , 41.19528  , 51.23726  ,\n",
       "       42.88562  ], dtype=float32)"
      ]
     },
     "execution_count": 20,
     "metadata": {},
     "output_type": "execute_result"
    }
   ],
   "source": [
    "preds"
   ]
  },
  {
   "cell_type": "code",
   "execution_count": 21,
   "metadata": {
    "ExecuteTime": {
     "end_time": "2019-11-30T09:41:14.350281Z",
     "start_time": "2019-11-30T09:41:13.920041Z"
    }
   },
   "outputs": [
    {
     "data": {
      "image/png": "[encoded data removed]",
      "text/plain": [
       "<Figure size 576x396 with 1 Axes>"
      ]
     },
     "metadata": {},
     "output_type": "display_data"
    }
   ],
   "source": [
    "xgb.plot_importance(pipeline1._final_estimator)\n",
    "plt.rcParams['figure.figsize'] = [50, 50]\n",
    "plt.show()"
   ]
  },
  {
   "cell_type": "code",
   "execution_count": 34,
   "metadata": {
    "ExecuteTime": {
     "end_time": "2019-11-30T07:46:21.579637Z",
     "start_time": "2019-11-30T07:46:21.574896Z"
    }
   },
   "outputs": [
    {
     "data": {
      "text/plain": [
       "{'Wochentag=Freitag': 0,\n",
       " 'TagNr': 1,\n",
       " 'WocheNr': 2,\n",
       " 'isFreiZH': 3,\n",
       " 'isFreiSG': 4,\n",
       " 'isFreiGR': 5,\n",
       " 'isFerienZH': 6,\n",
       " 'Ferien Desc ZH': 7,\n",
       " 'IsFerienZH_plus3': 8,\n",
       " 'isFerienZH_minus3': 9,\n",
       " 'isFerienSG': 10,\n",
       " 'Ferien Desc SG': 11,\n",
       " 'IsFerienSG_plus3': 12,\n",
       " 'isFerienSG_minus3': 13,\n",
       " 'isFerienGR': 14,\n",
       " 'Ferien Desc GR': 15,\n",
       " 'IsFerienGR_plus3': 16,\n",
       " 'isFerienGR_minus3': 17,\n",
       " 'Feiertag Desc=Neujahr': 18,\n",
       " 'isFeiertag ZH': 19,\n",
       " 'IsFeiertagZH_plus3': 20,\n",
       " 'isFeiertagZH_minus3': 21,\n",
       " 'isFeiertag SG': 22,\n",
       " 'IsFeiertagSG_plus3': 23,\n",
       " 'isFeiertagSG_minus3': 24,\n",
       " 'isFeiertag GR': 25,\n",
       " 'IsFeiertagGR_plus3': 26,\n",
       " 'isFeiertagGR_minus3': 27,\n",
       " 't_2m_c_avg': 28,\n",
       " 'snow_depth_cm_avg': 29,\n",
       " 'visibility_m_avg': 30,\n",
       " 'wind_speed_10m_ms_max': 31,\n",
       " 'prob_precip_1h_p_avg': 32,\n",
       " 'prob_tstorm_1h_p_avg': 33,\n",
       " 'hail_idx_avg': 34,\n",
       " 'wind_gusts_10m_ms_max': 35,\n",
       " 'wind_speed_mean_10m_24h_ms_avg': 36,\n",
       " 't_max_2m_24h_c_max': 37,\n",
       " 't_min_2m_24h_c_min': 38,\n",
       " 'precip_24h_mm_max': 39,\n",
       " 'fresh_snow_24h_cm_max': 40,\n",
       " 'is_sleet_1h_idx_max': 41,\n",
       " 'is_fog_1h_idx_max': 42,\n",
       " 'precip_1h_mm_sum': 43,\n",
       " 'fresh_snow_1h_cm_sum': 44,\n",
       " 'wind_speed_mean_10m_1h_ms_avg': 45,\n",
       " 'weather_symbol_1h_idx_spe': 46,\n",
       " 'number_of_events': 47,\n",
       " 'isHumorfestival': 48,\n",
       " 'Wochentag=Samstag': 49,\n",
       " 'Feiertag Desc=Berchtoldstag': 50,\n",
       " 'Wochentag=Sonntag': 51,\n",
       " 'Feiertag Desc': 52,\n",
       " 'Wochentag=Montag': 53,\n",
       " 'Wochentag=Dienstag': 54,\n",
       " 'Wochentag=Mittwoch': 55,\n",
       " 'Feiertag Desc=Heilige Drei Koenige': 56,\n",
       " 'Wochentag=Donnerstag': 57,\n",
       " 'Ferien Desc SG=Sportferien': 58,\n",
       " 'Feiertag Desc=Fasnachtsmontag': 59,\n",
       " 'Ferien Desc ZH=Sportferien': 60,\n",
       " 'Feiertag Desc=Valentinstag': 61,\n",
       " 'Feiertag Desc=Fasnacht *': 62,\n",
       " 'Feiertag Desc=Fasnachtsdienstag *': 63,\n",
       " 'Feiertag Desc=Fasnachtsmittwoch *': 64,\n",
       " 'Ferien Desc GR=Sportferien': 65,\n",
       " 'Feiertag Desc=Josefstag': 66,\n",
       " 'Feiertag Desc=Fruehlingsanfang': 67,\n",
       " 'Feiertag Desc=Karfreitag': 68,\n",
       " 'Feiertag Desc=Ostersonntag': 69,\n",
       " 'Feiertag Desc=Ostermontag': 70,\n",
       " 'Feiertag Desc=Naefelser Fahrt': 71,\n",
       " 'Ferien Desc SG=Fruehlingsferien': 72,\n",
       " 'Ferien Desc GR=Fruehlingsferien': 73,\n",
       " 'Feiertag Desc=Sechselaeuten *': 74,\n",
       " 'Ferien Desc ZH=Fruehlingsferien': 75,\n",
       " 'Feiertag Desc=Tag der Arbeit': 76,\n",
       " 'Feiertag Desc=Auffahrt': 77,\n",
       " 'Feiertag Desc=Muttertag': 78,\n",
       " 'Feiertag Desc=Pfingstsonntag': 79,\n",
       " 'Feiertag Desc=Pfingstmontag': 80,\n",
       " 'Feiertag Desc=Fronleichnam': 81,\n",
       " 'Feiertag Desc=Sommeranfang, Sommersonnenwende': 82,\n",
       " 'Feiertag Desc=Peter und Paul': 83,\n",
       " 'Ferien Desc GR=Sommerferien': 84,\n",
       " 'Ferien Desc SG=Sommerferien': 85,\n",
       " 'Ferien Desc ZH=Sommerferien': 86,\n",
       " 'Feiertag Desc=Nationalfeiertag': 87,\n",
       " 'Feiertag Desc=Mariae Himmelfahrt': 88,\n",
       " 'Feiertag Desc=Genfer Bettag *': 89,\n",
       " 'Feiertag Desc=Knabenschiessen *': 90,\n",
       " 'Feiertag Desc=Eidg. Dank-, Buss- und Bettag': 91,\n",
       " 'Feiertag Desc=Herbstanfang': 92,\n",
       " 'Ferien Desc SG=Herbstferien': 93,\n",
       " 'Ferien Desc ZH=Herbstferien': 94,\n",
       " 'Ferien Desc GR=Herbstferien': 95,\n",
       " 'Feiertag Desc=Sommerzeitende': 96,\n",
       " 'Feiertag Desc=Allerheiligen': 97,\n",
       " 'Feiertag Desc=Allerseelen': 98,\n",
       " 'Feiertag Desc=Ewigkeitssonntag': 99,\n",
       " 'Feiertag Desc=Mariae Empfaengnis': 100,\n",
       " 'Feiertag Desc=Winteranfang, Wintersonnenwende': 101,\n",
       " 'Feiertag Desc=Heiliger Abend': 102,\n",
       " 'Feiertag Desc=Weihnachten': 103,\n",
       " 'Feiertag Desc=Stephanstag': 104,\n",
       " 'Feiertag Desc=Silvester': 105,\n",
       " 'Feiertag Desc=Sommerzeitbeginn': 106}"
      ]
     },
     "execution_count": 34,
     "metadata": {},
     "output_type": "execute_result"
    }
   ],
   "source": [
    "pipeline1.named_steps['vectorizer'].vocabulary_"
   ]
  },
  {
   "cell_type": "code",
   "execution_count": 24,
   "metadata": {
    "ExecuteTime": {
     "end_time": "2019-11-30T09:42:38.424800Z",
     "start_time": "2019-11-30T09:42:38.417385Z"
    }
   },
   "outputs": [],
   "source": [
    "def train_model(max_depth, \n",
    "                n_estimators,\n",
    "                learning_rate):\n",
    "    params = {\n",
    "        'n_estimators': int(n_estimators),\n",
    "        'max_depth': int(max_depth),\n",
    "        'learning_rate':learning_rate,\n",
    "        'n_jobs': 8 #number of CPU threads\n",
    "    }\n",
    "\n",
    "    pipeline = Pipeline([\n",
    "                     (\"vectorizer\", DictVectorizer(sort=False)),\n",
    "                     (\"clf\", xgb.XGBRegressor(objective = 'reg:squarederror',**params)),\n",
    "\n",
    "                        ])\n",
    "\n",
    "    xgb_fit = pipeline.fit(X_train.to_dict(\"records\"), y_train)\n",
    "    preds = xgb_fit.predict(X_val.to_dict(\"records\"))\n",
    "    mse = np.sqrt(mean_squared_error(preds, y_test))\n",
    "    return -mse\n",
    "\n",
    "bounds = {\n",
    "    'max_depth':(5,100),\n",
    "    'n_estimators': (100,10000),\n",
    "    'learning_rate': (.001, 0.1),\n",
    "}\n"
   ]
  },
  {
   "cell_type": "code",
   "execution_count": 25,
   "metadata": {
    "ExecuteTime": {
     "end_time": "2019-11-30T09:43:16.120105Z",
     "start_time": "2019-11-30T09:42:39.344281Z"
    }
   },
   "outputs": [
    {
     "name": "stdout",
     "output_type": "stream",
     "text": [
      "|   iter    |  target   | learni... | max_depth | n_esti... |\n",
      "-------------------------------------------------------------\n",
      "| \u001b[0m 1       \u001b[0m | \u001b[0m-27.73   \u001b[0m | \u001b[0m 0.04229 \u001b[0m | \u001b[0m 73.43   \u001b[0m | \u001b[0m 101.1   \u001b[0m |\n"
     ]
    },
    {
     "name": "stderr",
     "output_type": "stream",
     "text": [
      "/Users/fight/2019_hack_arosa/lib/python3.7/site-packages/xgboost/core.py:587: FutureWarning: Series.base is deprecated and will be removed in a future version\n",
      "  if getattr(data, 'base', None) is not None and \\\n"
     ]
    },
    {
     "name": "stdout",
     "output_type": "stream",
     "text": [
      "| \u001b[95m 2       \u001b[0m | \u001b[95m-27.55   \u001b[0m | \u001b[95m 0.03093 \u001b[0m | \u001b[95m 18.94   \u001b[0m | \u001b[95m 1.014e+0\u001b[0m |\n"
     ]
    },
    {
     "name": "stderr",
     "output_type": "stream",
     "text": [
      "/Users/fight/2019_hack_arosa/lib/python3.7/site-packages/xgboost/core.py:587: FutureWarning: Series.base is deprecated and will be removed in a future version\n",
      "  if getattr(data, 'base', None) is not None and \\\n"
     ]
    },
    {
     "name": "stdout",
     "output_type": "stream",
     "text": [
      "| \u001b[0m 3       \u001b[0m | \u001b[0m-27.59   \u001b[0m | \u001b[0m 0.1     \u001b[0m | \u001b[0m 5.0     \u001b[0m | \u001b[0m 1e+04   \u001b[0m |\n"
     ]
    },
    {
     "name": "stderr",
     "output_type": "stream",
     "text": [
      "/Users/fight/2019_hack_arosa/lib/python3.7/site-packages/xgboost/core.py:587: FutureWarning: Series.base is deprecated and will be removed in a future version\n",
      "  if getattr(data, 'base', None) is not None and \\\n"
     ]
    },
    {
     "name": "stdout",
     "output_type": "stream",
     "text": [
      "| \u001b[0m 4       \u001b[0m | \u001b[0m-27.69   \u001b[0m | \u001b[0m 0.03031 \u001b[0m | \u001b[0m 100.0   \u001b[0m | \u001b[0m 5.67e+03\u001b[0m |\n"
     ]
    },
    {
     "name": "stderr",
     "output_type": "stream",
     "text": [
      "/Users/fight/2019_hack_arosa/lib/python3.7/site-packages/xgboost/core.py:587: FutureWarning: Series.base is deprecated and will be removed in a future version\n",
      "  if getattr(data, 'base', None) is not None and \\\n"
     ]
    },
    {
     "name": "stdout",
     "output_type": "stream",
     "text": [
      "| \u001b[0m 5       \u001b[0m | \u001b[0m-28.03   \u001b[0m | \u001b[0m 0.1     \u001b[0m | \u001b[0m 100.0   \u001b[0m | \u001b[0m 3.194e+0\u001b[0m |\n",
      "=============================================================\n",
      "{'target': -27.54824513392604, 'params': {'learning_rate': 0.03093092469055214, 'max_depth': 18.941809627625737, 'n_estimators': 1014.1520882110982}}\n"
     ]
    }
   ],
   "source": [
    "optimizer = BayesianOptimization(\n",
    "    f=train_model,\n",
    "    pbounds=bounds,\n",
    "    random_state=1,\n",
    "    verbose=2,\n",
    ")\n",
    "best = optimizer.maximize(init_points=2, n_iter= 3)\n",
    "print(optimizer.max)"
   ]
  },
  {
   "cell_type": "code",
   "execution_count": 37,
   "metadata": {
    "ExecuteTime": {
     "end_time": "2019-11-30T07:47:05.224170Z",
     "start_time": "2019-11-30T07:46:58.708180Z"
    }
   },
   "outputs": [
    {
     "data": {
      "text/plain": [
       "21.631477848510837"
      ]
     },
     "execution_count": 37,
     "metadata": {},
     "output_type": "execute_result"
    }
   ],
   "source": [
    "params = {\n",
    "    'n_estimators': 1000,\n",
    "    'max_depth': 100,\n",
    "    'learning_rate':0.001,\n",
    "    'n_jobs': 8 #number of CPU threads\n",
    "}\n",
    "\n",
    "pipeline = Pipeline([\n",
    "                 (\"vectorizer\", DictVectorizer(sort=False)),\n",
    "                 (\"clf\", xgb.XGBRegressor(objective = 'reg:squarederror',**params)),\n",
    "                    ])\n",
    "\n",
    "xgb_fit = pipeline.fit(X_train.to_dict(\"records\"), y_train)\n",
    "preds = xgb_fit.predict(X_val.to_dict(\"records\"))\n",
    "mse = mean_absolute_error(preds, y_test)\n",
    "mse"
   ]
  },
  {
   "cell_type": "code",
   "execution_count": 20,
   "metadata": {
    "ExecuteTime": {
     "end_time": "2019-11-30T12:06:46.007297Z",
     "start_time": "2019-11-30T12:06:45.986854Z"
    }
   },
   "outputs": [
    {
     "ename": "NameError",
     "evalue": "name 'optimizer' is not defined",
     "output_type": "error",
     "traceback": [
      "\u001b[0;31m---------------------------------------------------------------------------\u001b[0m",
      "\u001b[0;31mNameError\u001b[0m                                 Traceback (most recent call last)",
      "\u001b[0;32m<ipython-input-20-2306bf06800a>\u001b[0m in \u001b[0;36m<module>\u001b[0;34m\u001b[0m\n\u001b[1;32m      1\u001b[0m params2 = {\n\u001b[0;32m----> 2\u001b[0;31m     \u001b[0;34m'n_estimators'\u001b[0m\u001b[0;34m:\u001b[0m \u001b[0mint\u001b[0m\u001b[0;34m(\u001b[0m\u001b[0moptimizer\u001b[0m\u001b[0;34m.\u001b[0m\u001b[0mmax\u001b[0m\u001b[0;34m[\u001b[0m\u001b[0;34m'params'\u001b[0m\u001b[0;34m]\u001b[0m\u001b[0;34m[\u001b[0m\u001b[0;34m'n_estimators'\u001b[0m\u001b[0;34m]\u001b[0m\u001b[0;34m)\u001b[0m\u001b[0;34m,\u001b[0m\u001b[0;34m\u001b[0m\u001b[0m\n\u001b[0m\u001b[1;32m      3\u001b[0m     \u001b[0;34m'max_depth'\u001b[0m\u001b[0;34m:\u001b[0m \u001b[0mint\u001b[0m\u001b[0;34m(\u001b[0m\u001b[0moptimizer\u001b[0m\u001b[0;34m.\u001b[0m\u001b[0mmax\u001b[0m\u001b[0;34m[\u001b[0m\u001b[0;34m'params'\u001b[0m\u001b[0;34m]\u001b[0m\u001b[0;34m[\u001b[0m\u001b[0;34m'max_depth'\u001b[0m\u001b[0;34m]\u001b[0m\u001b[0;34m)\u001b[0m\u001b[0;34m,\u001b[0m\u001b[0;34m\u001b[0m\u001b[0m\n\u001b[1;32m      4\u001b[0m     \u001b[0;34m'learning_rate'\u001b[0m\u001b[0;34m:\u001b[0m\u001b[0moptimizer\u001b[0m\u001b[0;34m.\u001b[0m\u001b[0mmax\u001b[0m\u001b[0;34m[\u001b[0m\u001b[0;34m'params'\u001b[0m\u001b[0;34m]\u001b[0m\u001b[0;34m[\u001b[0m\u001b[0;34m'learning_rate'\u001b[0m\u001b[0;34m]\u001b[0m\u001b[0;34m,\u001b[0m\u001b[0;34m\u001b[0m\u001b[0m\n\u001b[1;32m      5\u001b[0m     \u001b[0;34m'n_jobs'\u001b[0m\u001b[0;34m:\u001b[0m \u001b[0;36m8\u001b[0m \u001b[0;31m#number of CPU threads\u001b[0m\u001b[0;34m\u001b[0m\u001b[0m\n",
      "\u001b[0;31mNameError\u001b[0m: name 'optimizer' is not defined"
     ]
    }
   ],
   "source": [
    "params2 = {\n",
    "    'n_estimators': int(optimizer.max['params']['n_estimators']),\n",
    "    'max_depth': int(optimizer.max['params']['max_depth']),\n",
    "    'learning_rate':optimizer.max['params']['learning_rate'],\n",
    "    'n_jobs': 8 #number of CPU threads\n",
    "}\n",
    "\n",
    "pipeline2 = Pipeline([\n",
    "                     (\"vectorizer\", DictVectorizer(sort=False)),\n",
    "                     (\"clf\", xgb.XGBRegressor(**params2))\n",
    "                    ])\n",
    "\n",
    "xgb_tuned_fit = pipeline2.fit(X_train.to_dict(\"records\"), y_train)"
   ]
  },
  {
   "cell_type": "code",
   "execution_count": null,
   "metadata": {
    "ExecuteTime": {
     "end_time": "2019-11-30T07:47:19.466942Z",
     "start_time": "2019-11-30T07:46:58.984Z"
    }
   },
   "outputs": [],
   "source": [
    "preds = xgb_tuned_fit.predict(X_val.to_dict(\"records\"))\n",
    "mse = mean_absolute_error(preds, y_test)\n",
    "mse"
   ]
  },
  {
   "cell_type": "code",
   "execution_count": null,
   "metadata": {
    "ExecuteTime": {
     "end_time": "2019-11-30T07:47:19.469216Z",
     "start_time": "2019-11-30T07:46:59.152Z"
    }
   },
   "outputs": [],
   "source": [
    "from bokeh.models import ColumnDataSource\n",
    "from bokeh.plotting import figure, show, output_file\n",
    "\n",
    "df.sort_index(inplace=True)\n",
    "\n",
    "source = ColumnDataSource(df)\n",
    "\n",
    "p = figure(x_axis_type=\"datetime\", plot_width=800, plot_height=350)\n",
    "p.line(X_test[target_variable], preds)\n"
   ]
  },
  {
   "cell_type": "markdown",
   "metadata": {},
   "source": [
    "# Preprocessing Error"
   ]
  },
  {
   "cell_type": "code",
   "execution_count": 166,
   "metadata": {
    "ExecuteTime": {
     "end_time": "2019-11-30T08:34:54.926885Z",
     "start_time": "2019-11-30T08:34:54.914753Z"
    }
   },
   "outputs": [
    {
     "ename": "AttributeError",
     "evalue": "'numpy.ndarray' object has no attribute 'to_dict'",
     "output_type": "error",
     "traceback": [
      "\u001b[0;31m---------------------------------------------------------------------------\u001b[0m",
      "\u001b[0;31mAttributeError\u001b[0m                            Traceback (most recent call last)",
      "\u001b[0;32m<ipython-input-166-4a5f0e08994f>\u001b[0m in \u001b[0;36m<module>\u001b[0;34m\u001b[0m\n\u001b[1;32m      3\u001b[0m                                 ])\n\u001b[1;32m      4\u001b[0m \u001b[0;34m\u001b[0m\u001b[0m\n\u001b[0;32m----> 5\u001b[0;31m \u001b[0mtest\u001b[0m \u001b[0;34m=\u001b[0m \u001b[0mpipeline\u001b[0m\u001b[0;34m.\u001b[0m\u001b[0mfit\u001b[0m\u001b[0;34m(\u001b[0m\u001b[0mX_train\u001b[0m\u001b[0;34m.\u001b[0m\u001b[0mto_dict\u001b[0m\u001b[0;34m(\u001b[0m\u001b[0;34m\"records\"\u001b[0m\u001b[0;34m)\u001b[0m\u001b[0;34m,\u001b[0m \u001b[0my_train\u001b[0m\u001b[0;34m)\u001b[0m\u001b[0;34m\u001b[0m\u001b[0m\n\u001b[0m",
      "\u001b[0;31mAttributeError\u001b[0m: 'numpy.ndarray' object has no attribute 'to_dict'"
     ]
    }
   ],
   "source": [
    "pipeline = Pipeline([\n",
    "                 (\"vectorizer\", DictVectorizer(sort=False)),\n",
    "                                ])\n",
    "\n",
    "test = pipeline.fit(X_train.to_dict(\"records\"), y_train)"
   ]
  },
  {
   "cell_type": "code",
   "execution_count": 167,
   "metadata": {
    "ExecuteTime": {
     "end_time": "2019-11-30T08:34:57.476412Z",
     "start_time": "2019-11-30T08:34:57.465479Z"
    }
   },
   "outputs": [
    {
     "ename": "AttributeError",
     "evalue": "'numpy.ndarray' object has no attribute 'to_dict'",
     "output_type": "error",
     "traceback": [
      "\u001b[0;31m---------------------------------------------------------------------------\u001b[0m",
      "\u001b[0;31mAttributeError\u001b[0m                            Traceback (most recent call last)",
      "\u001b[0;32m<ipython-input-167-a1dd2e58f192>\u001b[0m in \u001b[0;36m<module>\u001b[0;34m\u001b[0m\n\u001b[0;32m----> 1\u001b[0;31m \u001b[0mX_train\u001b[0m\u001b[0;34m.\u001b[0m\u001b[0mto_dict\u001b[0m\u001b[0;34m(\u001b[0m\u001b[0;34m\"records\"\u001b[0m\u001b[0;34m)\u001b[0m\u001b[0;34m\u001b[0m\u001b[0m\n\u001b[0m",
      "\u001b[0;31mAttributeError\u001b[0m: 'numpy.ndarray' object has no attribute 'to_dict'"
     ]
    }
   ],
   "source": [
    "X_train.to_dict(\"records\")"
   ]
  },
  {
   "cell_type": "code",
   "execution_count": 168,
   "metadata": {
    "ExecuteTime": {
     "end_time": "2019-11-30T08:34:57.749727Z",
     "start_time": "2019-11-30T08:34:57.743696Z"
    }
   },
   "outputs": [
    {
     "data": {
      "text/plain": [
       "DictVectorizer(dtype=array([[2.000e+00, 1.000e+00, 5.300e+01, ..., 1.100e+00, 0.000e+00,\n",
       "        0.000e+00],\n",
       "       [5.000e+00, 2.000e+00, 5.300e+01, ..., 0.000e+00, 0.000e+00,\n",
       "        0.000e+00],\n",
       "       [6.000e+00, 3.000e+00, 5.300e+01, ..., 0.000e+00, 0.000e+00,\n",
       "        0.000e+00],\n",
       "       ...,\n",
       "       [0.000e+00, 1.069e+03, 4.900e+01, ..., 0.000e+00, 0.000e+00,\n",
       "        0.000e+00],\n",
       "       [3.000e+00, 1.070e+03, 4.900e+01, ..., 5.000e-01, 0.000e+00,\n",
       "        0.000e+00],\n",
       "       [1.000e+00, 1.071e+03, 4.900e+01, ..., 0.000e+00, 1.000e+00,\n",
       "        1.000e+00]]),\n",
       "               separator='=', sort=True, sparse=True)"
      ]
     },
     "execution_count": 168,
     "metadata": {},
     "output_type": "execute_result"
    }
   ],
   "source": [
    "DictVectorizer(X_train)"
   ]
  },
  {
   "cell_type": "markdown",
   "metadata": {},
   "source": [
    "## LabelEncoder "
   ]
  },
  {
   "cell_type": "code",
   "execution_count": 26,
   "metadata": {
    "ExecuteTime": {
     "end_time": "2019-11-30T09:43:16.274238Z",
     "start_time": "2019-11-30T09:43:16.269674Z"
    }
   },
   "outputs": [],
   "source": [
    "df['Ferien Desc ZH'].fillna(value=0, inplace = True)\n",
    "df['Ferien Desc GR'].fillna(value=0, inplace = True)\n",
    "df['Ferien Desc SG'].fillna(value=0, inplace = True)\n",
    "df['Feiertag Desc'].fillna(value=0, inplace = True)"
   ]
  },
  {
   "cell_type": "code",
   "execution_count": 27,
   "metadata": {
    "ExecuteTime": {
     "end_time": "2019-11-30T09:43:16.427629Z",
     "start_time": "2019-11-30T09:43:16.418460Z"
    }
   },
   "outputs": [],
   "source": [
    "df = df.astype({\"Ferien Desc ZH\": str, \"Ferien Desc GR\": str, \"Ferien Desc SG\": str, \"Feiertag Desc\": str})"
   ]
  },
  {
   "cell_type": "code",
   "execution_count": 28,
   "metadata": {
    "ExecuteTime": {
     "end_time": "2019-11-30T09:43:16.578245Z",
     "start_time": "2019-11-30T09:43:16.573509Z"
    }
   },
   "outputs": [
    {
     "data": {
      "text/plain": [
       "0                   1023\n",
       "Sommerferien         145\n",
       "Sportferien           64\n",
       "Fruehlingsferien      61\n",
       "Herbstferien          45\n",
       "Name: Ferien Desc ZH, dtype: int64"
      ]
     },
     "execution_count": 28,
     "metadata": {},
     "output_type": "execute_result"
    }
   ],
   "source": [
    "df['Ferien Desc ZH'].value_counts()"
   ]
  },
  {
   "cell_type": "code",
   "execution_count": 29,
   "metadata": {
    "ExecuteTime": {
     "end_time": "2019-11-30T09:43:19.153176Z",
     "start_time": "2019-11-30T09:43:19.123620Z"
    }
   },
   "outputs": [
    {
     "data": {
      "text/html": [
       "<div>\n",
       "<style scoped>\n",
       "    .dataframe tbody tr th:only-of-type {\n",
       "        vertical-align: middle;\n",
       "    }\n",
       "\n",
       "    .dataframe tbody tr th {\n",
       "        vertical-align: top;\n",
       "    }\n",
       "\n",
       "    .dataframe thead th {\n",
       "        text-align: right;\n",
       "    }\n",
       "</style>\n",
       "<table border=\"1\" class=\"dataframe\">\n",
       "  <thead>\n",
       "    <tr style=\"text-align: right;\">\n",
       "      <th></th>\n",
       "      <th>Wochentag</th>\n",
       "      <th>TagNr</th>\n",
       "      <th>WocheNr</th>\n",
       "      <th>isFreiZH</th>\n",
       "      <th>isFreiSG</th>\n",
       "      <th>isFreiGR</th>\n",
       "      <th>isFerienZH</th>\n",
       "      <th>Ferien Desc ZH</th>\n",
       "      <th>IsFerienZH_plus3</th>\n",
       "      <th>isFerienZH_minus3</th>\n",
       "      <th>...</th>\n",
       "      <th>precip_1h_mm_sum</th>\n",
       "      <th>fresh_snow_1h_cm_sum</th>\n",
       "      <th>wind_speed_mean_10m_1h_ms_avg</th>\n",
       "      <th>weather_symbol_1h_idx_spe</th>\n",
       "      <th>number_of_events</th>\n",
       "      <th>isHumorfestival</th>\n",
       "      <th>Schalter</th>\n",
       "      <th>Tel</th>\n",
       "      <th>Mail</th>\n",
       "      <th>Total Anfragen</th>\n",
       "    </tr>\n",
       "  </thead>\n",
       "  <tbody>\n",
       "    <tr>\n",
       "      <th>0</th>\n",
       "      <td>Freitag</td>\n",
       "      <td>1</td>\n",
       "      <td>53</td>\n",
       "      <td>1</td>\n",
       "      <td>1</td>\n",
       "      <td>1</td>\n",
       "      <td>0</td>\n",
       "      <td>0</td>\n",
       "      <td>0</td>\n",
       "      <td>0</td>\n",
       "      <td>...</td>\n",
       "      <td>0.81</td>\n",
       "      <td>1.3</td>\n",
       "      <td>2.6</td>\n",
       "      <td>1.1</td>\n",
       "      <td>0</td>\n",
       "      <td>0</td>\n",
       "      <td>10</td>\n",
       "      <td>20</td>\n",
       "      <td>5</td>\n",
       "      <td>35</td>\n",
       "    </tr>\n",
       "    <tr>\n",
       "      <th>1</th>\n",
       "      <td>Samstag</td>\n",
       "      <td>2</td>\n",
       "      <td>53</td>\n",
       "      <td>1</td>\n",
       "      <td>1</td>\n",
       "      <td>1</td>\n",
       "      <td>0</td>\n",
       "      <td>0</td>\n",
       "      <td>0</td>\n",
       "      <td>0</td>\n",
       "      <td>...</td>\n",
       "      <td>1.21</td>\n",
       "      <td>1.9</td>\n",
       "      <td>5.4</td>\n",
       "      <td>0.0</td>\n",
       "      <td>0</td>\n",
       "      <td>0</td>\n",
       "      <td>78</td>\n",
       "      <td>59</td>\n",
       "      <td>22</td>\n",
       "      <td>159</td>\n",
       "    </tr>\n",
       "    <tr>\n",
       "      <th>2</th>\n",
       "      <td>Sonntag</td>\n",
       "      <td>3</td>\n",
       "      <td>53</td>\n",
       "      <td>1</td>\n",
       "      <td>1</td>\n",
       "      <td>1</td>\n",
       "      <td>0</td>\n",
       "      <td>0</td>\n",
       "      <td>0</td>\n",
       "      <td>0</td>\n",
       "      <td>...</td>\n",
       "      <td>0.23</td>\n",
       "      <td>0.0</td>\n",
       "      <td>5.9</td>\n",
       "      <td>0.0</td>\n",
       "      <td>0</td>\n",
       "      <td>0</td>\n",
       "      <td>0</td>\n",
       "      <td>0</td>\n",
       "      <td>0</td>\n",
       "      <td>0</td>\n",
       "    </tr>\n",
       "    <tr>\n",
       "      <th>3</th>\n",
       "      <td>Montag</td>\n",
       "      <td>4</td>\n",
       "      <td>1</td>\n",
       "      <td>0</td>\n",
       "      <td>0</td>\n",
       "      <td>0</td>\n",
       "      <td>0</td>\n",
       "      <td>0</td>\n",
       "      <td>0</td>\n",
       "      <td>0</td>\n",
       "      <td>...</td>\n",
       "      <td>0.13</td>\n",
       "      <td>0.3</td>\n",
       "      <td>2.4</td>\n",
       "      <td>0.0</td>\n",
       "      <td>0</td>\n",
       "      <td>0</td>\n",
       "      <td>0</td>\n",
       "      <td>0</td>\n",
       "      <td>0</td>\n",
       "      <td>0</td>\n",
       "    </tr>\n",
       "    <tr>\n",
       "      <th>4</th>\n",
       "      <td>Dienstag</td>\n",
       "      <td>5</td>\n",
       "      <td>1</td>\n",
       "      <td>0</td>\n",
       "      <td>0</td>\n",
       "      <td>0</td>\n",
       "      <td>0</td>\n",
       "      <td>0</td>\n",
       "      <td>0</td>\n",
       "      <td>0</td>\n",
       "      <td>...</td>\n",
       "      <td>0.00</td>\n",
       "      <td>0.0</td>\n",
       "      <td>3.4</td>\n",
       "      <td>1.3</td>\n",
       "      <td>0</td>\n",
       "      <td>0</td>\n",
       "      <td>0</td>\n",
       "      <td>0</td>\n",
       "      <td>0</td>\n",
       "      <td>0</td>\n",
       "    </tr>\n",
       "    <tr>\n",
       "      <th>...</th>\n",
       "      <td>...</td>\n",
       "      <td>...</td>\n",
       "      <td>...</td>\n",
       "      <td>...</td>\n",
       "      <td>...</td>\n",
       "      <td>...</td>\n",
       "      <td>...</td>\n",
       "      <td>...</td>\n",
       "      <td>...</td>\n",
       "      <td>...</td>\n",
       "      <td>...</td>\n",
       "      <td>...</td>\n",
       "      <td>...</td>\n",
       "      <td>...</td>\n",
       "      <td>...</td>\n",
       "      <td>...</td>\n",
       "      <td>...</td>\n",
       "      <td>...</td>\n",
       "      <td>...</td>\n",
       "      <td>...</td>\n",
       "      <td>...</td>\n",
       "    </tr>\n",
       "    <tr>\n",
       "      <th>1334</th>\n",
       "      <td>Dienstag</td>\n",
       "      <td>1335</td>\n",
       "      <td>35</td>\n",
       "      <td>0</td>\n",
       "      <td>0</td>\n",
       "      <td>0</td>\n",
       "      <td>0</td>\n",
       "      <td>0</td>\n",
       "      <td>0</td>\n",
       "      <td>0</td>\n",
       "      <td>...</td>\n",
       "      <td>0.00</td>\n",
       "      <td>0.0</td>\n",
       "      <td>11.2</td>\n",
       "      <td>0.0</td>\n",
       "      <td>2</td>\n",
       "      <td>0</td>\n",
       "      <td>59</td>\n",
       "      <td>26</td>\n",
       "      <td>29</td>\n",
       "      <td>114</td>\n",
       "    </tr>\n",
       "    <tr>\n",
       "      <th>1335</th>\n",
       "      <td>Mittwoch</td>\n",
       "      <td>1336</td>\n",
       "      <td>35</td>\n",
       "      <td>0</td>\n",
       "      <td>0</td>\n",
       "      <td>0</td>\n",
       "      <td>0</td>\n",
       "      <td>0</td>\n",
       "      <td>0</td>\n",
       "      <td>0</td>\n",
       "      <td>...</td>\n",
       "      <td>0.00</td>\n",
       "      <td>0.0</td>\n",
       "      <td>5.6</td>\n",
       "      <td>1.1</td>\n",
       "      <td>2</td>\n",
       "      <td>0</td>\n",
       "      <td>61</td>\n",
       "      <td>40</td>\n",
       "      <td>19</td>\n",
       "      <td>120</td>\n",
       "    </tr>\n",
       "    <tr>\n",
       "      <th>1336</th>\n",
       "      <td>Donnerstag</td>\n",
       "      <td>1337</td>\n",
       "      <td>35</td>\n",
       "      <td>0</td>\n",
       "      <td>0</td>\n",
       "      <td>0</td>\n",
       "      <td>0</td>\n",
       "      <td>0</td>\n",
       "      <td>0</td>\n",
       "      <td>0</td>\n",
       "      <td>...</td>\n",
       "      <td>0.16</td>\n",
       "      <td>0.0</td>\n",
       "      <td>5.8</td>\n",
       "      <td>0.0</td>\n",
       "      <td>2</td>\n",
       "      <td>0</td>\n",
       "      <td>76</td>\n",
       "      <td>38</td>\n",
       "      <td>23</td>\n",
       "      <td>137</td>\n",
       "    </tr>\n",
       "    <tr>\n",
       "      <th>1337</th>\n",
       "      <td>Freitag</td>\n",
       "      <td>1338</td>\n",
       "      <td>35</td>\n",
       "      <td>0</td>\n",
       "      <td>0</td>\n",
       "      <td>0</td>\n",
       "      <td>0</td>\n",
       "      <td>0</td>\n",
       "      <td>0</td>\n",
       "      <td>0</td>\n",
       "      <td>...</td>\n",
       "      <td>0.00</td>\n",
       "      <td>0.0</td>\n",
       "      <td>5.7</td>\n",
       "      <td>0.7</td>\n",
       "      <td>3</td>\n",
       "      <td>0</td>\n",
       "      <td>157</td>\n",
       "      <td>48</td>\n",
       "      <td>27</td>\n",
       "      <td>232</td>\n",
       "    </tr>\n",
       "    <tr>\n",
       "      <th>1338</th>\n",
       "      <td>Samstag</td>\n",
       "      <td>1339</td>\n",
       "      <td>35</td>\n",
       "      <td>1</td>\n",
       "      <td>1</td>\n",
       "      <td>1</td>\n",
       "      <td>0</td>\n",
       "      <td>0</td>\n",
       "      <td>0</td>\n",
       "      <td>0</td>\n",
       "      <td>...</td>\n",
       "      <td>0.03</td>\n",
       "      <td>0.0</td>\n",
       "      <td>5.8</td>\n",
       "      <td>2.9</td>\n",
       "      <td>3</td>\n",
       "      <td>0</td>\n",
       "      <td>183</td>\n",
       "      <td>33</td>\n",
       "      <td>23</td>\n",
       "      <td>239</td>\n",
       "    </tr>\n",
       "  </tbody>\n",
       "</table>\n",
       "<p>1338 rows × 53 columns</p>\n",
       "</div>"
      ],
      "text/plain": [
       "       Wochentag  TagNr  WocheNr  isFreiZH  isFreiSG  isFreiGR  isFerienZH  \\\n",
       "0        Freitag      1       53         1         1         1           0   \n",
       "1        Samstag      2       53         1         1         1           0   \n",
       "2        Sonntag      3       53         1         1         1           0   \n",
       "3         Montag      4        1         0         0         0           0   \n",
       "4       Dienstag      5        1         0         0         0           0   \n",
       "...          ...    ...      ...       ...       ...       ...         ...   \n",
       "1334    Dienstag   1335       35         0         0         0           0   \n",
       "1335    Mittwoch   1336       35         0         0         0           0   \n",
       "1336  Donnerstag   1337       35         0         0         0           0   \n",
       "1337     Freitag   1338       35         0         0         0           0   \n",
       "1338     Samstag   1339       35         1         1         1           0   \n",
       "\n",
       "     Ferien Desc ZH  IsFerienZH_plus3  isFerienZH_minus3  ...  \\\n",
       "0                 0                 0                  0  ...   \n",
       "1                 0                 0                  0  ...   \n",
       "2                 0                 0                  0  ...   \n",
       "3                 0                 0                  0  ...   \n",
       "4                 0                 0                  0  ...   \n",
       "...             ...               ...                ...  ...   \n",
       "1334              0                 0                  0  ...   \n",
       "1335              0                 0                  0  ...   \n",
       "1336              0                 0                  0  ...   \n",
       "1337              0                 0                  0  ...   \n",
       "1338              0                 0                  0  ...   \n",
       "\n",
       "      precip_1h_mm_sum fresh_snow_1h_cm_sum  wind_speed_mean_10m_1h_ms_avg  \\\n",
       "0                 0.81                  1.3                            2.6   \n",
       "1                 1.21                  1.9                            5.4   \n",
       "2                 0.23                  0.0                            5.9   \n",
       "3                 0.13                  0.3                            2.4   \n",
       "4                 0.00                  0.0                            3.4   \n",
       "...                ...                  ...                            ...   \n",
       "1334              0.00                  0.0                           11.2   \n",
       "1335              0.00                  0.0                            5.6   \n",
       "1336              0.16                  0.0                            5.8   \n",
       "1337              0.00                  0.0                            5.7   \n",
       "1338              0.03                  0.0                            5.8   \n",
       "\n",
       "      weather_symbol_1h_idx_spe  number_of_events isHumorfestival  Schalter  \\\n",
       "0                           1.1                 0               0        10   \n",
       "1                           0.0                 0               0        78   \n",
       "2                           0.0                 0               0         0   \n",
       "3                           0.0                 0               0         0   \n",
       "4                           1.3                 0               0         0   \n",
       "...                         ...               ...             ...       ...   \n",
       "1334                        0.0                 2               0        59   \n",
       "1335                        1.1                 2               0        61   \n",
       "1336                        0.0                 2               0        76   \n",
       "1337                        0.7                 3               0       157   \n",
       "1338                        2.9                 3               0       183   \n",
       "\n",
       "      Tel Mail  Total Anfragen  \n",
       "0      20    5              35  \n",
       "1      59   22             159  \n",
       "2       0    0               0  \n",
       "3       0    0               0  \n",
       "4       0    0               0  \n",
       "...   ...  ...             ...  \n",
       "1334   26   29             114  \n",
       "1335   40   19             120  \n",
       "1336   38   23             137  \n",
       "1337   48   27             232  \n",
       "1338   33   23             239  \n",
       "\n",
       "[1338 rows x 53 columns]"
      ]
     },
     "execution_count": 29,
     "metadata": {},
     "output_type": "execute_result"
    }
   ],
   "source": [
    "df=df.drop(['Datum'],axis=1)\n",
    "df"
   ]
  },
  {
   "cell_type": "code",
   "execution_count": 30,
   "metadata": {
    "ExecuteTime": {
     "end_time": "2019-11-30T09:43:19.847287Z",
     "start_time": "2019-11-30T09:43:19.829779Z"
    }
   },
   "outputs": [
    {
     "name": "stdout",
     "output_type": "stream",
     "text": [
      "  Wochentag Ferien Desc ZH Ferien Desc SG Ferien Desc GR  Feiertag Desc\n",
      "0   Freitag              0              0              0        Neujahr\n",
      "1   Samstag              0              0              0  Berchtoldstag\n",
      "2   Sonntag              0              0              0              0\n",
      "3    Montag              0              0              0              0\n",
      "4  Dienstag              0              0              0              0\n"
     ]
    }
   ],
   "source": [
    "# Create a boolean mask for categorical columns \n",
    "categorical_mask = (df.dtypes == object)  # true → is categorical\n",
    "# Get list of categorical column names\n",
    "categorical_columns = df.columns[categorical_mask].tolist()\n",
    "# Print the head of the categorical columns \n",
    "print(df[categorical_columns].head())\n",
    "# Create LabelEncoder object: le \n",
    "le = LabelEncoder()\n",
    "# Apply LabelEncoder to categorical columns\n",
    "df[categorical_columns] = df[categorical_columns].apply(lambda x: le.fit_transform(x))\n",
    "# Print the head of the LabelEncoded categorical columns print(df[categorical_columns].head())"
   ]
  },
  {
   "cell_type": "markdown",
   "metadata": {},
   "source": [
    "## One Hot Encoding"
   ]
  },
  {
   "cell_type": "code",
   "execution_count": 31,
   "metadata": {
    "ExecuteTime": {
     "end_time": "2019-11-30T09:43:23.159815Z",
     "start_time": "2019-11-30T09:43:23.144855Z"
    }
   },
   "outputs": [
    {
     "name": "stdout",
     "output_type": "stream",
     "text": [
      "(1338, 53)\n",
      "(1338, 111)\n",
      "<class 'numpy.ndarray'>\n"
     ]
    },
    {
     "name": "stderr",
     "output_type": "stream",
     "text": [
      "/Users/fight/2019_hack_arosa/lib/python3.7/site-packages/sklearn/preprocessing/_encoders.py:415: FutureWarning: The handling of integer data will change in version 0.22. Currently, the categories are determined based on the range [0, max(values)], while in the future they will be determined based on the unique values.\n",
      "If you want the future behaviour and silence this warning, you can specify \"categories='auto'\".\n",
      "In case you used a LabelEncoder before this OneHotEncoder to convert the categories to integers, then you can now use the OneHotEncoder directly.\n",
      "  warnings.warn(msg, FutureWarning)\n",
      "/Users/fight/2019_hack_arosa/lib/python3.7/site-packages/sklearn/preprocessing/_encoders.py:451: DeprecationWarning: The 'categorical_features' keyword is deprecated in version 0.20 and will be removed in 0.22. You can use the ColumnTransformer instead.\n",
      "  \"use the ColumnTransformer instead.\", DeprecationWarning)\n"
     ]
    },
    {
     "data": {
      "text/plain": [
       "array([[  0.,   0.,   1., ...,  20.,   5.,  35.],\n",
       "       [  0.,   0.,   0., ...,  59.,  22., 159.],\n",
       "       [  0.,   0.,   0., ...,   0.,   0.,   0.],\n",
       "       ...,\n",
       "       [  0.,   1.,   0., ...,  38.,  23., 137.],\n",
       "       [  0.,   0.,   1., ...,  48.,  27., 232.],\n",
       "       [  0.,   0.,   0., ...,  33.,  23., 239.]])"
      ]
     },
     "execution_count": 31,
     "metadata": {},
     "output_type": "execute_result"
    }
   ],
   "source": [
    "# Create OneHotEncoder: ohe\n",
    "ohe = OneHotEncoder(categorical_features=categorical_mask, sparse=False)\n",
    "# Apply OneHotEncoder to categorical columns - output is no longer a dataframe: df_encoded df_encoded = ohe.fit_transform(df)\n",
    "# Print first 5 rows of the resulting dataset - again, this will no longer be a pandas dataframe print(df_encoded[:5, :])\n",
    "# Print the shape of the original DataFrame \n",
    "d_encoded = ohe.fit_transform(df)\n",
    "print(df.shape)\n",
    "# Print the shape of the transformed array \n",
    "print(d_encoded.shape)\n",
    "print(type(d_encoded))\n",
    "d_encoded"
   ]
  },
  {
   "cell_type": "code",
   "execution_count": null,
   "metadata": {},
   "outputs": [],
   "source": []
  },
  {
   "cell_type": "markdown",
   "metadata": {},
   "source": [
    "## Modelling"
   ]
  },
  {
   "cell_type": "code",
   "execution_count": 32,
   "metadata": {
    "ExecuteTime": {
     "end_time": "2019-11-30T09:43:28.052278Z",
     "start_time": "2019-11-30T09:43:28.046384Z"
    }
   },
   "outputs": [
    {
     "name": "stdout",
     "output_type": "stream",
     "text": [
      "49\n",
      "(1338, 107)\n"
     ]
    }
   ],
   "source": [
    "target_variable = 'Schalter'\n",
    "col_names= list(df)\n",
    "col_names.remove(target_variable)\n",
    "col_names.remove('Tel')\n",
    "col_names.remove('Mail')\n",
    "col_names.remove('Total Anfragen')\n",
    "#col_names.remove('Datum')\n",
    "print(len(col_names))\n",
    "\n",
    "print(d_encoded[:,:-4].shape)"
   ]
  },
  {
   "cell_type": "code",
   "execution_count": 33,
   "metadata": {
    "ExecuteTime": {
     "end_time": "2019-11-30T09:43:28.442378Z",
     "start_time": "2019-11-30T09:43:28.432606Z"
    }
   },
   "outputs": [
    {
     "name": "stdout",
     "output_type": "stream",
     "text": [
      "(1338, 107)\n"
     ]
    }
   ],
   "source": [
    "X, y = d_encoded[:,:-4],d_encoded[:,-4]\n",
    "print(X.shape)\n",
    "X_train, X_test, y_train, y_test= train_test_split(X, y, test_size=0.2, \n",
    "                                                        random_state=122, shuffle=False)\n",
    "DM_train = xgb.DMatrix(data=X_train,label=y_train)\n",
    "DM_test =  xgb.DMatrix(data=X_test,label=y_test)"
   ]
  },
  {
   "cell_type": "code",
   "execution_count": 36,
   "metadata": {
    "ExecuteTime": {
     "end_time": "2019-11-30T09:44:04.810044Z",
     "start_time": "2019-11-30T09:44:04.775432Z"
    }
   },
   "outputs": [
    {
     "name": "stdout",
     "output_type": "stream",
     "text": [
      "[10:44:04] WARNING: src/objective/regression_obj.cu:152: reg:linear is now deprecated in favor of reg:squarederror.\n",
      "RMSE: 41.194851\n"
     ]
    }
   ],
   "source": [
    "params = {\"booster\":\"gblinear\",\"objective\":\"reg:linear\"}\n",
    "xg_reg = xgb.train(params = params, dtrain=DM_train, num_boost_round=10)\n",
    "\n",
    "preds = xg_reg.predict(DM_test)\n",
    "\n",
    "rmse = np.sqrt(mean_squared_error(y_test,preds))\n",
    "\n",
    "print(\"RMSE: %f\" % (rmse))"
   ]
  },
  {
   "cell_type": "code",
   "execution_count": 35,
   "metadata": {
    "ExecuteTime": {
     "end_time": "2019-11-30T09:43:29.477026Z",
     "start_time": "2019-11-30T09:43:29.470972Z"
    }
   },
   "outputs": [],
   "source": [
    "def train_model(max_depth, \n",
    "                n_estimators,\n",
    "                learning_rate):\n",
    "    params = {\n",
    "        'n_estimators': int(n_estimators),\n",
    "        'max_depth': int(max_depth),\n",
    "        'learning_rate':learning_rate,\n",
    "        'n_jobs': 8, #number of CPU threads\n",
    "        \"booster\":\"gblinear\",\n",
    "        \"objective\":\"reg:squarederror\"\n",
    "    }\n",
    "\n",
    "#     pipeline = Pipeline([\n",
    "#                      (\"vectorizer\", DictVectorizer(sort=False)),\n",
    "#                      (\"clf\", xgb.XGBRegressor(objective = 'reg:squarederror',**params)),\n",
    "\n",
    "#                         ])\n",
    "    \n",
    "#     xgb_fit = pipeline.fit(DM_train)\n",
    "#     preds = xgb_fit.predict(DM_test)\n",
    "#     mse = mean_absolute_error(preds, y_test)\n",
    "\n",
    "    xg_reg = xgb.train(params = params, dtrain=DM_train, num_boost_round=10)\n",
    "    preds = xg_reg.predict(DM_test)\n",
    "    mse = mean_absolute_error(preds, y_test)\n",
    "    return -mse\n",
    "\n",
    "bounds = {\n",
    "    'max_depth':(5,100),\n",
    "    'n_estimators': (100,10000),\n",
    "    'learning_rate': (.001, 0.1),\n",
    "}"
   ]
  },
  {
   "cell_type": "code",
   "execution_count": 183,
   "metadata": {
    "ExecuteTime": {
     "end_time": "2019-11-30T08:37:45.710287Z",
     "start_time": "2019-11-30T08:37:37.129317Z"
    }
   },
   "outputs": [
    {
     "name": "stdout",
     "output_type": "stream",
     "text": [
      "|   iter    |  target   | learni... | max_depth | n_esti... |\n",
      "-------------------------------------------------------------\n",
      "[09:37:37] WARNING: src/objective/regression_obj.cu:152: reg:linear is now deprecated in favor of reg:squarederror.\n",
      "| \u001b[0m 1       \u001b[0m | \u001b[0m-23.82   \u001b[0m | \u001b[0m 0.04229 \u001b[0m | \u001b[0m 73.43   \u001b[0m | \u001b[0m 101.1   \u001b[0m |\n",
      "[09:37:37] WARNING: src/objective/regression_obj.cu:152: reg:linear is now deprecated in favor of reg:squarederror.\n",
      "| \u001b[0m 2       \u001b[0m | \u001b[0m-24.39   \u001b[0m | \u001b[0m 0.03093 \u001b[0m | \u001b[0m 18.94   \u001b[0m | \u001b[0m 1.014e+0\u001b[0m |\n",
      "[09:37:37] WARNING: src/objective/regression_obj.cu:152: reg:linear is now deprecated in favor of reg:squarederror.\n",
      "| \u001b[0m 3       \u001b[0m | \u001b[0m-25.51   \u001b[0m | \u001b[0m 0.01944 \u001b[0m | \u001b[0m 37.83   \u001b[0m | \u001b[0m 4.028e+0\u001b[0m |\n",
      "[09:37:37] WARNING: src/objective/regression_obj.cu:152: reg:linear is now deprecated in favor of reg:squarederror.\n",
      "| \u001b[95m 4       \u001b[0m | \u001b[95m-23.55   \u001b[0m | \u001b[95m 0.05434 \u001b[0m | \u001b[95m 44.82   \u001b[0m | \u001b[95m 6.884e+0\u001b[0m |\n",
      "[09:37:37] WARNING: src/objective/regression_obj.cu:152: reg:linear is now deprecated in favor of reg:squarederror.\n",
      "| \u001b[0m 5       \u001b[0m | \u001b[0m-25.27   \u001b[0m | \u001b[0m 0.02124 \u001b[0m | \u001b[0m 88.42   \u001b[0m | \u001b[0m 371.1   \u001b[0m |\n",
      "[09:37:37] WARNING: src/objective/regression_obj.cu:152: reg:linear is now deprecated in favor of reg:squarederror.\n",
      "| \u001b[95m 6       \u001b[0m | \u001b[95m-23.48   \u001b[0m | \u001b[95m 0.06738 \u001b[0m | \u001b[95m 44.64   \u001b[0m | \u001b[95m 5.631e+0\u001b[0m |\n",
      "[09:37:37] WARNING: src/objective/regression_obj.cu:152: reg:linear is now deprecated in favor of reg:squarederror.\n",
      "| \u001b[0m 7       \u001b[0m | \u001b[0m-26.33   \u001b[0m | \u001b[0m 0.0149  \u001b[0m | \u001b[0m 23.82   \u001b[0m | \u001b[0m 8.027e+0\u001b[0m |\n",
      "[09:37:37] WARNING: src/objective/regression_obj.cu:152: reg:linear is now deprecated in favor of reg:squarederror.\n",
      "| \u001b[0m 8       \u001b[0m | \u001b[0m-23.81   \u001b[0m | \u001b[0m 0.09686 \u001b[0m | \u001b[0m 34.78   \u001b[0m | \u001b[0m 6.954e+0\u001b[0m |\n",
      "[09:37:37] WARNING: src/objective/regression_obj.cu:152: reg:linear is now deprecated in favor of reg:squarederror.\n",
      "| \u001b[0m 9       \u001b[0m | \u001b[0m-23.65   \u001b[0m | \u001b[0m 0.08776 \u001b[0m | \u001b[0m 89.99   \u001b[0m | \u001b[0m 941.9   \u001b[0m |\n",
      "[09:37:37] WARNING: src/objective/regression_obj.cu:152: reg:linear is now deprecated in favor of reg:squarederror.\n",
      "| \u001b[0m 10      \u001b[0m | \u001b[0m-32.42   \u001b[0m | \u001b[0m 0.004866\u001b[0m | \u001b[0m 21.13   \u001b[0m | \u001b[0m 8.794e+0\u001b[0m |\n",
      "[09:37:38] WARNING: src/objective/regression_obj.cu:152: reg:linear is now deprecated in favor of reg:squarederror.\n",
      "| \u001b[0m 11      \u001b[0m | \u001b[0m-23.5    \u001b[0m | \u001b[0m 0.07359 \u001b[0m | \u001b[0m 43.02   \u001b[0m | \u001b[0m 5.818e+0\u001b[0m |\n",
      "[09:37:40] WARNING: src/objective/regression_obj.cu:152: reg:linear is now deprecated in favor of reg:squarederror.\n",
      "| \u001b[0m 12      \u001b[0m | \u001b[0m-23.87   \u001b[0m | \u001b[0m 0.1     \u001b[0m | \u001b[0m 5.0     \u001b[0m | \u001b[0m 6.598e+0\u001b[0m |\n",
      "[09:37:41] WARNING: src/objective/regression_obj.cu:152: reg:linear is now deprecated in favor of reg:squarederror.\n",
      "| \u001b[0m 13      \u001b[0m | \u001b[0m-43.8    \u001b[0m | \u001b[0m 0.001   \u001b[0m | \u001b[0m 100.0   \u001b[0m | \u001b[0m 6.167e+0\u001b[0m |\n",
      "[09:37:42] WARNING: src/objective/regression_obj.cu:152: reg:linear is now deprecated in favor of reg:squarederror.\n",
      "| \u001b[0m 14      \u001b[0m | \u001b[0m-23.55   \u001b[0m | \u001b[0m 0.08062 \u001b[0m | \u001b[0m 37.03   \u001b[0m | \u001b[0m 5.728e+0\u001b[0m |\n",
      "[09:37:43] WARNING: src/objective/regression_obj.cu:152: reg:linear is now deprecated in favor of reg:squarederror.\n",
      "| \u001b[0m 15      \u001b[0m | \u001b[0m-43.8    \u001b[0m | \u001b[0m 0.001   \u001b[0m | \u001b[0m 100.0   \u001b[0m | \u001b[0m 5.763e+0\u001b[0m |\n",
      "[09:37:43] WARNING: src/objective/regression_obj.cu:152: reg:linear is now deprecated in favor of reg:squarederror.\n",
      "| \u001b[0m 16      \u001b[0m | \u001b[0m-23.49   \u001b[0m | \u001b[0m 0.06962 \u001b[0m | \u001b[0m 44.24   \u001b[0m | \u001b[0m 5.631e+0\u001b[0m |\n",
      "[09:37:44] WARNING: src/objective/regression_obj.cu:152: reg:linear is now deprecated in favor of reg:squarederror.\n",
      "| \u001b[0m 17      \u001b[0m | \u001b[0m-26.6    \u001b[0m | \u001b[0m 0.01379 \u001b[0m | \u001b[0m 40.16   \u001b[0m | \u001b[0m 5.624e+0\u001b[0m |\n",
      "[09:37:45] WARNING: src/objective/regression_obj.cu:152: reg:linear is now deprecated in favor of reg:squarederror.\n",
      "| \u001b[0m 18      \u001b[0m | \u001b[0m-25.05   \u001b[0m | \u001b[0m 0.02315 \u001b[0m | \u001b[0m 40.17   \u001b[0m | \u001b[0m 5.817e+0\u001b[0m |\n",
      "[09:37:45] WARNING: src/objective/regression_obj.cu:152: reg:linear is now deprecated in favor of reg:squarederror.\n",
      "| \u001b[0m 19      \u001b[0m | \u001b[0m-26.08   \u001b[0m | \u001b[0m 0.01608 \u001b[0m | \u001b[0m 45.31   \u001b[0m | \u001b[0m 5.819e+0\u001b[0m |\n",
      "[09:37:45] WARNING: src/objective/regression_obj.cu:152: reg:linear is now deprecated in favor of reg:squarederror.\n",
      "| \u001b[0m 20      \u001b[0m | \u001b[0m-23.87   \u001b[0m | \u001b[0m 0.1     \u001b[0m | \u001b[0m 42.82   \u001b[0m | \u001b[0m 5.817e+0\u001b[0m |\n",
      "=============================================================\n",
      "{'target': -23.48408450742266, 'params': {'learning_rate': 0.06737628350766182, 'max_depth': 44.643956224877066, 'n_estimators': 5631.029301612942}}\n"
     ]
    }
   ],
   "source": [
    "optimizer = BayesianOptimization(\n",
    "    f=train_model,\n",
    "    pbounds=bounds,\n",
    "    random_state=1,\n",
    "    verbose=2,\n",
    ")\n",
    "best = optimizer.maximize(init_points=10, n_iter= 10)\n",
    "print(optimizer.max)"
   ]
  },
  {
   "cell_type": "code",
   "execution_count": null,
   "metadata": {},
   "outputs": [],
   "source": []
  }
 ],
 "metadata": {
  "kernelspec": {
   "display_name": "Python 3",
   "language": "python",
   "name": "python3"
  },
  "toc": {
   "base_numbering": 1,
   "nav_menu": {},
   "number_sections": true,
   "sideBar": true,
   "skip_h1_title": false,
   "title_cell": "Table of Contents",
   "title_sidebar": "Preprocessing_Exercises",
   "toc_cell": false,
   "toc_position": {
    "height": "calc(100% - 180px)",
    "left": "10px",
    "top": "150px",
    "width": "288px"
   },
   "toc_section_display": true,
   "toc_window_display": true
  },
  "varInspector": {
   "cols": {
    "lenName": 16,
    "lenType": 16,
    "lenVar": 40
   },
   "kernels_config": {
    "python": {
     "delete_cmd_postfix": "",
     "delete_cmd_prefix": "del ",
     "library": "var_list.py",
     "varRefreshCmd": "print(var_dic_list())"
    },
    "r": {
     "delete_cmd_postfix": ") ",
     "delete_cmd_prefix": "rm(",
     "library": "var_list.r",
     "varRefreshCmd": "cat(var_dic_list()) "
    }
   },
   "types_to_exclude": [
    "module",
    "function",
    "builtin_function_or_method",
    "instance",
    "_Feature"
   ],
   "window_display": false
  }
 },
 "nbformat": 4,
 "nbformat_minor": 2
}
